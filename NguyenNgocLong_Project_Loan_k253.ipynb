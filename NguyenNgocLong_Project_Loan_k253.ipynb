{
 "cells": [
  {
   "cell_type": "markdown",
   "metadata": {
    "button": false,
    "new_sheet": false,
    "run_control": {
     "read_only": false
    }
   },
   "source": [
    "# <a href=\"https://www.bigdatauniversity.com\"><img src=\"https://ibm.box.com/shared/static/cw2c7r3o20w9zn8gkecaeyjhgw3xdgbj.png\" width=\"400\" align=\"center\"></a>\n",
    "\n",
    "<h1 align=\"center\"><font size=\"5\">Project: Whether a loan is paid off</font></h1>\n",
    "<h2 align=\"center\"><font size=\"5\">Deadline: 2019-11-03 23:59:59</font></h2>\n",
    "<h3 align=\"center\"><font size=\"5\"> Total marks: 7.0</font></h3>"
   ]
  },
  {
   "cell_type": "markdown",
   "metadata": {},
   "source": [
    "### Your information:\n",
    "- Fullname:Nguyễn Ngọc Long\n"
    "- Place of birth: Đắk Lắk\n",

  },
  {
   "cell_type": "markdown",
   "metadata": {
    "button": false,
    "new_sheet": false,
    "run_control": {
     "read_only": false
    }
   },
   "source": [
    "In this notebook, we practice all the knowledge and skills that we learned in this course.\n",
    "\n",
    "We apply the **Logistic Regression Algorithm** to predict: \"Whether a loan is paid off on in collection\" by accuracy evaluation methods.\n",
    "\n",
    "Lets first load required libraries:"
   ]
  },
  {
   "cell_type": "code",
   "execution_count": 1,
   "metadata": {
    "button": false,
    "new_sheet": false,
    "run_control": {
     "read_only": false
    }
   },
   "outputs": [],
   "source": [
    "import itertools\n",
    "import numpy as np\n",
    "import matplotlib.pyplot as plt\n",
    "from matplotlib.ticker import NullFormatter\n",
    "import pandas as pd\n",
    "import numpy as np\n",
    "import matplotlib.ticker as ticker\n",
    "from sklearn import preprocessing\n",
    "import scipy\n",
    "import seaborn as sns\n",
    "%matplotlib inline"
   ]
  },
  {
   "cell_type": "markdown",
   "metadata": {
    "button": false,
    "new_sheet": false,
    "run_control": {
     "read_only": false
    }
   },
   "source": [
    "### About dataset"
   ]
  },
  {
   "cell_type": "markdown",
   "metadata": {
    "button": false,
    "new_sheet": false,
    "run_control": {
     "read_only": false
    }
   },
   "source": [
    "This dataset is about past loans. The __Loan_train.csv__ data set includes details of 346 customers whose loan are already paid off or defaulted. It includes following fields:\n",
    "\n",
    "| Field          | Description                                                                           |\n",
    "|----------------|---------------------------------------------------------------------------------------|\n",
    "| Loan_status    | Whether a loan is paid off on in collection                                           |\n",
    "| Principal      | Basic principal loan amount at the                                                    |\n",
    "| Terms          | Origination terms which can be weekly (7 days), biweekly, and monthly payoff schedule |\n",
    "| Effective_date | When the loan got originated and took effects                                         |\n",
    "| Due_date       | Since it’s one-time payoff schedule, each loan has one single due date                |\n",
    "| Age            | Age of applicant                                                                      |\n",
    "| Education      | Education of applicant                                                                |\n",
    "| Gender         | The gender of applicant                                                               |"
   ]
  },
  {
   "cell_type": "markdown",
   "metadata": {},
   "source": [
    "# Data exploration"
   ]
  },
  {
   "cell_type": "markdown",
   "metadata": {},
   "source": [
    "### *** To predict \"Whether a loan is paid off\", we need some fields: 'Principal', 'Terms', 'Age', 'Gender', 'Effective_date' \n",
    "### The first things we need to do:\n",
    "- Identify Variables \n",
    "- Univariate Analysis    \n",
    "- Bi-variate Analysis\n",
    "- Handle the Missing Values\n",
    "- Handle Outlier Values"
   ]
  },
  {
   "cell_type": "markdown",
   "metadata": {},
   "source": [
    "### Tips: Step by step like Chapter2_Ex1_Housing prices "
   ]
  },
  {
   "cell_type": "markdown",
   "metadata": {
    "button": false,
    "new_sheet": false,
    "run_control": {
     "read_only": false
    }
   },
   "source": [
    "### Load Data From CSV File  "
   ]
  },
  {
   "cell_type": "code",
   "execution_count": 2,
   "metadata": {},
   "outputs": [],
   "source": [
    "# Read CSV file: loan_train.csv\n",
    "# code here\n",
    "data =pd.read_csv(\"loan_train.csv\")\n"
   ]
  },
  {
   "cell_type": "code",
   "execution_count": 3,
   "metadata": {},
   "outputs": [
    {
     "data": {
      "text/plain": [
       "(346, 10)"
      ]
     },
     "execution_count": 3,
     "metadata": {},
     "output_type": "execute_result"
    }
   ],
   "source": [
    "# Understanding to dataset\n",
    "# shape\n",
    "# info\n",
    "# head(), tail()\n",
    "# describe()\n",
    "data.shape\n"
   ]
  },
  {
   "cell_type": "code",
   "execution_count": 4,
   "metadata": {},
   "outputs": [
    {
     "name": "stdout",
     "output_type": "stream",
     "text": [
      "<class 'pandas.core.frame.DataFrame'>\n",
      "RangeIndex: 346 entries, 0 to 345\n",
      "Data columns (total 10 columns):\n",
      "Unnamed: 0        346 non-null int64\n",
      "Unnamed: 0.1      346 non-null int64\n",
      "loan_status       346 non-null object\n",
      "Principal         346 non-null int64\n",
      "terms             346 non-null int64\n",
      "effective_date    346 non-null object\n",
      "due_date          346 non-null object\n",
      "age               346 non-null int64\n",
      "education         346 non-null object\n",
      "Gender            346 non-null object\n",
      "dtypes: int64(5), object(5)\n",
      "memory usage: 27.1+ KB\n"
     ]
    }
   ],
   "source": [
    "data.info()\n"
   ]
  },
  {
   "cell_type": "code",
   "execution_count": 5,
   "metadata": {},
   "outputs": [
    {
     "data": {
      "text/html": [
       "<div>\n",
       "<style scoped>\n",
       "    .dataframe tbody tr th:only-of-type {\n",
       "        vertical-align: middle;\n",
       "    }\n",
       "\n",
       "    .dataframe tbody tr th {\n",
       "        vertical-align: top;\n",
       "    }\n",
       "\n",
       "    .dataframe thead th {\n",
       "        text-align: right;\n",
       "    }\n",
       "</style>\n",
       "<table border=\"1\" class=\"dataframe\">\n",
       "  <thead>\n",
       "    <tr style=\"text-align: right;\">\n",
       "      <th></th>\n",
       "      <th>Unnamed: 0</th>\n",
       "      <th>Unnamed: 0.1</th>\n",
       "      <th>loan_status</th>\n",
       "      <th>Principal</th>\n",
       "      <th>terms</th>\n",
       "      <th>effective_date</th>\n",
       "      <th>due_date</th>\n",
       "      <th>age</th>\n",
       "      <th>education</th>\n",
       "      <th>Gender</th>\n",
       "    </tr>\n",
       "  </thead>\n",
       "  <tbody>\n",
       "    <tr>\n",
       "      <th>0</th>\n",
       "      <td>0</td>\n",
       "      <td>0</td>\n",
       "      <td>PAIDOFF</td>\n",
       "      <td>1000</td>\n",
       "      <td>30</td>\n",
       "      <td>9/8/2016</td>\n",
       "      <td>10/7/2016</td>\n",
       "      <td>45</td>\n",
       "      <td>High School or Below</td>\n",
       "      <td>male</td>\n",
       "    </tr>\n",
       "    <tr>\n",
       "      <th>1</th>\n",
       "      <td>2</td>\n",
       "      <td>2</td>\n",
       "      <td>PAIDOFF</td>\n",
       "      <td>1000</td>\n",
       "      <td>30</td>\n",
       "      <td>9/8/2016</td>\n",
       "      <td>10/7/2016</td>\n",
       "      <td>33</td>\n",
       "      <td>Bechalor</td>\n",
       "      <td>female</td>\n",
       "    </tr>\n",
       "    <tr>\n",
       "      <th>2</th>\n",
       "      <td>3</td>\n",
       "      <td>3</td>\n",
       "      <td>PAIDOFF</td>\n",
       "      <td>1000</td>\n",
       "      <td>15</td>\n",
       "      <td>9/8/2016</td>\n",
       "      <td>9/22/2016</td>\n",
       "      <td>27</td>\n",
       "      <td>college</td>\n",
       "      <td>male</td>\n",
       "    </tr>\n",
       "    <tr>\n",
       "      <th>3</th>\n",
       "      <td>4</td>\n",
       "      <td>4</td>\n",
       "      <td>PAIDOFF</td>\n",
       "      <td>1000</td>\n",
       "      <td>30</td>\n",
       "      <td>9/9/2016</td>\n",
       "      <td>10/8/2016</td>\n",
       "      <td>28</td>\n",
       "      <td>college</td>\n",
       "      <td>female</td>\n",
       "    </tr>\n",
       "    <tr>\n",
       "      <th>4</th>\n",
       "      <td>6</td>\n",
       "      <td>6</td>\n",
       "      <td>PAIDOFF</td>\n",
       "      <td>1000</td>\n",
       "      <td>30</td>\n",
       "      <td>9/9/2016</td>\n",
       "      <td>10/8/2016</td>\n",
       "      <td>29</td>\n",
       "      <td>college</td>\n",
       "      <td>male</td>\n",
       "    </tr>\n",
       "  </tbody>\n",
       "</table>\n",
       "</div>"
      ],
      "text/plain": [
       "   Unnamed: 0  Unnamed: 0.1 loan_status  Principal  terms effective_date  \\\n",
       "0           0             0     PAIDOFF       1000     30       9/8/2016   \n",
       "1           2             2     PAIDOFF       1000     30       9/8/2016   \n",
       "2           3             3     PAIDOFF       1000     15       9/8/2016   \n",
       "3           4             4     PAIDOFF       1000     30       9/9/2016   \n",
       "4           6             6     PAIDOFF       1000     30       9/9/2016   \n",
       "\n",
       "    due_date  age             education  Gender  \n",
       "0  10/7/2016   45  High School or Below    male  \n",
       "1  10/7/2016   33              Bechalor  female  \n",
       "2  9/22/2016   27               college    male  \n",
       "3  10/8/2016   28               college  female  \n",
       "4  10/8/2016   29               college    male  "
      ]
     },
     "execution_count": 5,
     "metadata": {},
     "output_type": "execute_result"
    }
   ],
   "source": [
    "data.head()\n"
   ]
  },
  {
   "cell_type": "code",
   "execution_count": 6,
   "metadata": {},
   "outputs": [
    {
     "data": {
      "text/html": [
       "<div>\n",
       "<style scoped>\n",
       "    .dataframe tbody tr th:only-of-type {\n",
       "        vertical-align: middle;\n",
       "    }\n",
       "\n",
       "    .dataframe tbody tr th {\n",
       "        vertical-align: top;\n",
       "    }\n",
       "\n",
       "    .dataframe thead th {\n",
       "        text-align: right;\n",
       "    }\n",
       "</style>\n",
       "<table border=\"1\" class=\"dataframe\">\n",
       "  <thead>\n",
       "    <tr style=\"text-align: right;\">\n",
       "      <th></th>\n",
       "      <th>Unnamed: 0</th>\n",
       "      <th>Unnamed: 0.1</th>\n",
       "      <th>loan_status</th>\n",
       "      <th>Principal</th>\n",
       "      <th>terms</th>\n",
       "      <th>effective_date</th>\n",
       "      <th>due_date</th>\n",
       "      <th>age</th>\n",
       "      <th>education</th>\n",
       "      <th>Gender</th>\n",
       "    </tr>\n",
       "  </thead>\n",
       "  <tbody>\n",
       "    <tr>\n",
       "      <th>341</th>\n",
       "      <td>394</td>\n",
       "      <td>394</td>\n",
       "      <td>COLLECTION</td>\n",
       "      <td>800</td>\n",
       "      <td>15</td>\n",
       "      <td>9/11/2016</td>\n",
       "      <td>9/25/2016</td>\n",
       "      <td>32</td>\n",
       "      <td>High School or Below</td>\n",
       "      <td>male</td>\n",
       "    </tr>\n",
       "    <tr>\n",
       "      <th>342</th>\n",
       "      <td>395</td>\n",
       "      <td>395</td>\n",
       "      <td>COLLECTION</td>\n",
       "      <td>1000</td>\n",
       "      <td>30</td>\n",
       "      <td>9/11/2016</td>\n",
       "      <td>10/10/2016</td>\n",
       "      <td>25</td>\n",
       "      <td>High School or Below</td>\n",
       "      <td>male</td>\n",
       "    </tr>\n",
       "    <tr>\n",
       "      <th>343</th>\n",
       "      <td>397</td>\n",
       "      <td>397</td>\n",
       "      <td>COLLECTION</td>\n",
       "      <td>800</td>\n",
       "      <td>15</td>\n",
       "      <td>9/12/2016</td>\n",
       "      <td>9/26/2016</td>\n",
       "      <td>39</td>\n",
       "      <td>college</td>\n",
       "      <td>male</td>\n",
       "    </tr>\n",
       "    <tr>\n",
       "      <th>344</th>\n",
       "      <td>398</td>\n",
       "      <td>398</td>\n",
       "      <td>COLLECTION</td>\n",
       "      <td>1000</td>\n",
       "      <td>30</td>\n",
       "      <td>9/12/2016</td>\n",
       "      <td>11/10/2016</td>\n",
       "      <td>28</td>\n",
       "      <td>college</td>\n",
       "      <td>male</td>\n",
       "    </tr>\n",
       "    <tr>\n",
       "      <th>345</th>\n",
       "      <td>399</td>\n",
       "      <td>399</td>\n",
       "      <td>COLLECTION</td>\n",
       "      <td>1000</td>\n",
       "      <td>30</td>\n",
       "      <td>9/12/2016</td>\n",
       "      <td>10/11/2016</td>\n",
       "      <td>26</td>\n",
       "      <td>college</td>\n",
       "      <td>male</td>\n",
       "    </tr>\n",
       "  </tbody>\n",
       "</table>\n",
       "</div>"
      ],
      "text/plain": [
       "     Unnamed: 0  Unnamed: 0.1 loan_status  Principal  terms effective_date  \\\n",
       "341         394           394  COLLECTION        800     15      9/11/2016   \n",
       "342         395           395  COLLECTION       1000     30      9/11/2016   \n",
       "343         397           397  COLLECTION        800     15      9/12/2016   \n",
       "344         398           398  COLLECTION       1000     30      9/12/2016   \n",
       "345         399           399  COLLECTION       1000     30      9/12/2016   \n",
       "\n",
       "       due_date  age             education Gender  \n",
       "341   9/25/2016   32  High School or Below   male  \n",
       "342  10/10/2016   25  High School or Below   male  \n",
       "343   9/26/2016   39               college   male  \n",
       "344  11/10/2016   28               college   male  \n",
       "345  10/11/2016   26               college   male  "
      ]
     },
     "execution_count": 6,
     "metadata": {},
     "output_type": "execute_result"
    }
   ],
   "source": [
    "data.tail()\n"
   ]
  },
  {
   "cell_type": "code",
   "execution_count": 7,
   "metadata": {},
   "outputs": [
    {
     "data": {
      "text/html": [
       "<div>\n",
       "<style scoped>\n",
       "    .dataframe tbody tr th:only-of-type {\n",
       "        vertical-align: middle;\n",
       "    }\n",
       "\n",
       "    .dataframe tbody tr th {\n",
       "        vertical-align: top;\n",
       "    }\n",
       "\n",
       "    .dataframe thead th {\n",
       "        text-align: right;\n",
       "    }\n",
       "</style>\n",
       "<table border=\"1\" class=\"dataframe\">\n",
       "  <thead>\n",
       "    <tr style=\"text-align: right;\">\n",
       "      <th></th>\n",
       "      <th>Unnamed: 0</th>\n",
       "      <th>Unnamed: 0.1</th>\n",
       "      <th>Principal</th>\n",
       "      <th>terms</th>\n",
       "      <th>age</th>\n",
       "    </tr>\n",
       "  </thead>\n",
       "  <tbody>\n",
       "    <tr>\n",
       "      <th>count</th>\n",
       "      <td>346.000000</td>\n",
       "      <td>346.000000</td>\n",
       "      <td>346.000000</td>\n",
       "      <td>346.000000</td>\n",
       "      <td>346.000000</td>\n",
       "    </tr>\n",
       "    <tr>\n",
       "      <th>mean</th>\n",
       "      <td>202.167630</td>\n",
       "      <td>202.167630</td>\n",
       "      <td>943.641618</td>\n",
       "      <td>22.653179</td>\n",
       "      <td>30.939306</td>\n",
       "    </tr>\n",
       "    <tr>\n",
       "      <th>std</th>\n",
       "      <td>115.459715</td>\n",
       "      <td>115.459715</td>\n",
       "      <td>109.425530</td>\n",
       "      <td>7.991006</td>\n",
       "      <td>6.039418</td>\n",
       "    </tr>\n",
       "    <tr>\n",
       "      <th>min</th>\n",
       "      <td>0.000000</td>\n",
       "      <td>0.000000</td>\n",
       "      <td>300.000000</td>\n",
       "      <td>7.000000</td>\n",
       "      <td>18.000000</td>\n",
       "    </tr>\n",
       "    <tr>\n",
       "      <th>25%</th>\n",
       "      <td>107.250000</td>\n",
       "      <td>107.250000</td>\n",
       "      <td>900.000000</td>\n",
       "      <td>15.000000</td>\n",
       "      <td>27.000000</td>\n",
       "    </tr>\n",
       "    <tr>\n",
       "      <th>50%</th>\n",
       "      <td>204.500000</td>\n",
       "      <td>204.500000</td>\n",
       "      <td>1000.000000</td>\n",
       "      <td>30.000000</td>\n",
       "      <td>30.000000</td>\n",
       "    </tr>\n",
       "    <tr>\n",
       "      <th>75%</th>\n",
       "      <td>298.750000</td>\n",
       "      <td>298.750000</td>\n",
       "      <td>1000.000000</td>\n",
       "      <td>30.000000</td>\n",
       "      <td>35.000000</td>\n",
       "    </tr>\n",
       "    <tr>\n",
       "      <th>max</th>\n",
       "      <td>399.000000</td>\n",
       "      <td>399.000000</td>\n",
       "      <td>1000.000000</td>\n",
       "      <td>30.000000</td>\n",
       "      <td>51.000000</td>\n",
       "    </tr>\n",
       "  </tbody>\n",
       "</table>\n",
       "</div>"
      ],
      "text/plain": [
       "       Unnamed: 0  Unnamed: 0.1    Principal       terms         age\n",
       "count  346.000000    346.000000   346.000000  346.000000  346.000000\n",
       "mean   202.167630    202.167630   943.641618   22.653179   30.939306\n",
       "std    115.459715    115.459715   109.425530    7.991006    6.039418\n",
       "min      0.000000      0.000000   300.000000    7.000000   18.000000\n",
       "25%    107.250000    107.250000   900.000000   15.000000   27.000000\n",
       "50%    204.500000    204.500000  1000.000000   30.000000   30.000000\n",
       "75%    298.750000    298.750000  1000.000000   30.000000   35.000000\n",
       "max    399.000000    399.000000  1000.000000   30.000000   51.000000"
      ]
     },
     "execution_count": 7,
     "metadata": {},
     "output_type": "execute_result"
    }
   ],
   "source": [
    "\n",
    "data.describe()"
   ]
  },
  {
   "cell_type": "markdown",
   "metadata": {
    "button": false,
    "new_sheet": false,
    "run_control": {
     "read_only": false
    }
   },
   "source": [
    "### Convert 'due_date', 'effective_date' to date time object "
   ]
  },
  {
   "cell_type": "code",
   "execution_count": 8,
   "metadata": {},
   "outputs": [
    {
     "name": "stdout",
     "output_type": "stream",
     "text": [
      "<class 'pandas.core.frame.DataFrame'>\n",
      "RangeIndex: 346 entries, 0 to 345\n",
      "Data columns (total 10 columns):\n",
      "Unnamed: 0        346 non-null int64\n",
      "Unnamed: 0.1      346 non-null int64\n",
      "loan_status       346 non-null object\n",
      "Principal         346 non-null int64\n",
      "terms             346 non-null int64\n",
      "effective_date    346 non-null datetime64[ns]\n",
      "due_date          346 non-null datetime64[ns]\n",
      "age               346 non-null int64\n",
      "education         346 non-null object\n",
      "Gender            346 non-null object\n",
      "dtypes: datetime64[ns](2), int64(5), object(3)\n",
      "memory usage: 27.1+ KB\n"
     ]
    },
    {
     "data": {
      "text/html": [
       "<div>\n",
       "<style scoped>\n",
       "    .dataframe tbody tr th:only-of-type {\n",
       "        vertical-align: middle;\n",
       "    }\n",
       "\n",
       "    .dataframe tbody tr th {\n",
       "        vertical-align: top;\n",
       "    }\n",
       "\n",
       "    .dataframe thead th {\n",
       "        text-align: right;\n",
       "    }\n",
       "</style>\n",
       "<table border=\"1\" class=\"dataframe\">\n",
       "  <thead>\n",
       "    <tr style=\"text-align: right;\">\n",
       "      <th></th>\n",
       "      <th>Unnamed: 0</th>\n",
       "      <th>Unnamed: 0.1</th>\n",
       "      <th>loan_status</th>\n",
       "      <th>Principal</th>\n",
       "      <th>terms</th>\n",
       "      <th>effective_date</th>\n",
       "      <th>due_date</th>\n",
       "      <th>age</th>\n",
       "      <th>education</th>\n",
       "      <th>Gender</th>\n",
       "    </tr>\n",
       "  </thead>\n",
       "  <tbody>\n",
       "    <tr>\n",
       "      <th>0</th>\n",
       "      <td>0</td>\n",
       "      <td>0</td>\n",
       "      <td>PAIDOFF</td>\n",
       "      <td>1000</td>\n",
       "      <td>30</td>\n",
       "      <td>2016-09-08</td>\n",
       "      <td>2016-10-07</td>\n",
       "      <td>45</td>\n",
       "      <td>High School or Below</td>\n",
       "      <td>male</td>\n",
       "    </tr>\n",
       "    <tr>\n",
       "      <th>1</th>\n",
       "      <td>2</td>\n",
       "      <td>2</td>\n",
       "      <td>PAIDOFF</td>\n",
       "      <td>1000</td>\n",
       "      <td>30</td>\n",
       "      <td>2016-09-08</td>\n",
       "      <td>2016-10-07</td>\n",
       "      <td>33</td>\n",
       "      <td>Bechalor</td>\n",
       "      <td>female</td>\n",
       "    </tr>\n",
       "    <tr>\n",
       "      <th>2</th>\n",
       "      <td>3</td>\n",
       "      <td>3</td>\n",
       "      <td>PAIDOFF</td>\n",
       "      <td>1000</td>\n",
       "      <td>15</td>\n",
       "      <td>2016-09-08</td>\n",
       "      <td>2016-09-22</td>\n",
       "      <td>27</td>\n",
       "      <td>college</td>\n",
       "      <td>male</td>\n",
       "    </tr>\n",
       "    <tr>\n",
       "      <th>3</th>\n",
       "      <td>4</td>\n",
       "      <td>4</td>\n",
       "      <td>PAIDOFF</td>\n",
       "      <td>1000</td>\n",
       "      <td>30</td>\n",
       "      <td>2016-09-09</td>\n",
       "      <td>2016-10-08</td>\n",
       "      <td>28</td>\n",
       "      <td>college</td>\n",
       "      <td>female</td>\n",
       "    </tr>\n",
       "    <tr>\n",
       "      <th>4</th>\n",
       "      <td>6</td>\n",
       "      <td>6</td>\n",
       "      <td>PAIDOFF</td>\n",
       "      <td>1000</td>\n",
       "      <td>30</td>\n",
       "      <td>2016-09-09</td>\n",
       "      <td>2016-10-08</td>\n",
       "      <td>29</td>\n",
       "      <td>college</td>\n",
       "      <td>male</td>\n",
       "    </tr>\n",
       "  </tbody>\n",
       "</table>\n",
       "</div>"
      ],
      "text/plain": [
       "   Unnamed: 0  Unnamed: 0.1 loan_status  Principal  terms effective_date  \\\n",
       "0           0             0     PAIDOFF       1000     30     2016-09-08   \n",
       "1           2             2     PAIDOFF       1000     30     2016-09-08   \n",
       "2           3             3     PAIDOFF       1000     15     2016-09-08   \n",
       "3           4             4     PAIDOFF       1000     30     2016-09-09   \n",
       "4           6             6     PAIDOFF       1000     30     2016-09-09   \n",
       "\n",
       "    due_date  age             education  Gender  \n",
       "0 2016-10-07   45  High School or Below    male  \n",
       "1 2016-10-07   33              Bechalor  female  \n",
       "2 2016-09-22   27               college    male  \n",
       "3 2016-10-08   28               college  female  \n",
       "4 2016-10-08   29               college    male  "
      ]
     },
     "execution_count": 8,
     "metadata": {},
     "output_type": "execute_result"
    }
   ],
   "source": [
    "# code here\n",
    "data[\"due_date\"] = pd.to_datetime(data[\"due_date\"])\n",
    "data[\"effective_date\"] = pd.to_datetime(data[\"effective_date\"])\n",
    "data.info()\n",
    "data.head()"
   ]
  },
  {
   "cell_type": "code",
   "execution_count": 9,
   "metadata": {},
   "outputs": [
    {
     "data": {
      "text/plain": [
       "Unnamed: 0        0\n",
       "Unnamed: 0.1      0\n",
       "loan_status       0\n",
       "Principal         0\n",
       "terms             0\n",
       "effective_date    0\n",
       "due_date          0\n",
       "age               0\n",
       "education         0\n",
       "Gender            0\n",
       "dtype: int64"
      ]
     },
     "execution_count": 9,
     "metadata": {},
     "output_type": "execute_result"
    }
   ],
   "source": [
    "data.isnull().sum()"
   ]
  },
  {
   "cell_type": "code",
   "execution_count": 10,
   "metadata": {},
   "outputs": [
    {
     "data": {
      "text/plain": [
       "'Unnamed: 0, Unnamed: 0.1, Principal, terms, effective_date, due_date, age'"
      ]
     },
     "execution_count": 10,
     "metadata": {},
     "output_type": "execute_result"
    }
   ],
   "source": [
    "numbers =[ f for f in data.columns if data.dtypes[f] != 'object']\n",
    "list_nums = ', '.join(numbers)\n",
    "list_nums"
   ]
  },
  {
   "cell_type": "code",
   "execution_count": 11,
   "metadata": {},
   "outputs": [],
   "source": [
    "objects = [f for f in data.columns if data.dtypes[f] =='object']\n"
   ]
  },
  {
   "cell_type": "code",
   "execution_count": 12,
   "metadata": {},
   "outputs": [
    {
     "data": {
      "text/plain": [
       "'loan_status, education, Gender'"
      ]
     },
     "execution_count": 12,
     "metadata": {},
     "output_type": "execute_result"
    }
   ],
   "source": [
    "list_obj = ', '.join(objects)\n",
    "list_obj"
   ]
  },
  {
   "cell_type": "code",
   "execution_count": 13,
   "metadata": {},
   "outputs": [
    {
     "name": "stdout",
     "output_type": "stream",
     "text": [
      "1 / loan_status \t  2 : ['PAIDOFF' 'COLLECTION']\n",
      "2 / education \t  4 : ['High School or Below' 'Bechalor' 'college' 'Master or Above']\n",
      "3 / Gender \t  2 : ['male' 'female']\n"
     ]
    }
   ],
   "source": [
    "#  categorical:\n",
    "i = 1 \n",
    "for obj in objects:\n",
    "    print(i,\"/\",obj,\"\\t \", len(data[obj].unique()),\":\",data[obj].unique())\n",
    "    i = i+1"
   ]
  },
  {
   "cell_type": "code",
   "execution_count": 14,
   "metadata": {},
   "outputs": [
    {
     "name": "stdout",
     "output_type": "stream",
     "text": [
      "1 / Unnamed: 0 \t 346 : \n",
      "1 / Unnamed: 0.1 \t 346 : \n",
      "1 / Principal \t 5 : [1000  800  300  900  500]\n",
      "1 / terms \t 3 : [30 15  7]\n",
      "1 / effective_date \t 7 : ['2016-09-08T00:00:00.000000000' '2016-09-09T00:00:00.000000000'\n",
      " '2016-09-10T00:00:00.000000000' '2016-09-11T00:00:00.000000000'\n",
      " '2016-09-12T00:00:00.000000000' '2016-09-13T00:00:00.000000000'\n",
      " '2016-09-14T00:00:00.000000000']\n",
      "1 / due_date \t 23 : ['2016-10-07T00:00:00.000000000' '2016-09-22T00:00:00.000000000'\n",
      " '2016-10-08T00:00:00.000000000' '2016-09-24T00:00:00.000000000'\n",
      " '2016-09-16T00:00:00.000000000' '2016-10-09T00:00:00.000000000'\n",
      " '2016-10-10T00:00:00.000000000' '2016-09-25T00:00:00.000000000'\n",
      " '2016-09-17T00:00:00.000000000' '2016-11-09T00:00:00.000000000'\n",
      " '2016-10-25T00:00:00.000000000' '2016-09-26T00:00:00.000000000'\n",
      " '2016-10-11T00:00:00.000000000' '2016-11-10T00:00:00.000000000'\n",
      " '2016-09-18T00:00:00.000000000' '2016-10-26T00:00:00.000000000'\n",
      " '2016-09-19T00:00:00.000000000' '2016-10-12T00:00:00.000000000'\n",
      " '2016-09-27T00:00:00.000000000' '2016-09-28T00:00:00.000000000'\n",
      " '2016-10-13T00:00:00.000000000' '2016-11-12T00:00:00.000000000'\n",
      " '2016-09-23T00:00:00.000000000']\n",
      "1 / age \t 32 : [45 33 27 28 29 36 26 39 40 32 25 34 31 37 21 30 24 35 22 50 44 43 46 38\n",
      " 23 20 47 42 19 51 41 18]\n"
     ]
    }
   ],
   "source": [
    "# continueous & categorical:\n",
    "i = 1 \n",
    "for obj in numbers:\n",
    "    print(i,\"/\",obj,\"\\t\",len(data[obj].unique()),\":\",data[obj].unique() if len(data[obj].unique())<150 else '')"
   ]
  },
  {
   "cell_type": "markdown",
   "metadata": {},
   "source": [
    "# phân tích đơn biến :\n",
    "\n"
   ]
  },
  {
   "cell_type": "code",
   "execution_count": 15,
   "metadata": {},
   "outputs": [],
   "source": [
    "features = ['Principal', 'terms', 'age', 'effective_date','Gender']"
   ]
  },
  {
   "cell_type": "code",
   "execution_count": 16,
   "metadata": {},
   "outputs": [
    {
     "name": "stdout",
     "output_type": "stream",
     "text": [
      "1 / Principal \t 5 : [1000  800  300  900  500]\n",
      "2 / terms \t 3 : [30 15  7]\n",
      "3 / age \t 32 : [45 33 27 28 29 36 26 39 40 32 25 34 31 37 21 30 24 35 22 50 44 43 46 38\n",
      " 23 20 47 42 19 51 41 18]\n",
      "4 / effective_date \t 7 : ['2016-09-08T00:00:00.000000000' '2016-09-09T00:00:00.000000000'\n",
      " '2016-09-10T00:00:00.000000000' '2016-09-11T00:00:00.000000000'\n",
      " '2016-09-12T00:00:00.000000000' '2016-09-13T00:00:00.000000000'\n",
      " '2016-09-14T00:00:00.000000000']\n",
      "5 / Gender \t 2 : ['male' 'female']\n"
     ]
    }
   ],
   "source": [
    "i = 1 \n",
    "for obj in features :\n",
    "    print(i,'/', obj,'\\t',len(data[obj].unique()),\":\",data[obj].unique() if len(data[obj].unique())<150 else '')\n",
    "    i = i+1"
   ]
  },
  {
   "cell_type": "raw",
   "metadata": {},
   "source": [
    "# Countinous variable :\n",
    "+) Principal\n",
    "+) terms\n",
    "+) age\n"
   ]
  },
  {
   "cell_type": "code",
   "execution_count": 17,
   "metadata": {},
   "outputs": [
    {
     "data": {
      "text/plain": [
       "count     346.000000\n",
       "mean      943.641618\n",
       "std       109.425530\n",
       "min       300.000000\n",
       "25%       900.000000\n",
       "50%      1000.000000\n",
       "75%      1000.000000\n",
       "max      1000.000000\n",
       "Name: Principal, dtype: float64"
      ]
     },
     "execution_count": 17,
     "metadata": {},
     "output_type": "execute_result"
    }
   ],
   "source": [
    "# principal\n",
    "data['Principal'].describe(include='all')"
   ]
  },
  {
   "cell_type": "code",
   "execution_count": 18,
   "metadata": {},
   "outputs": [
    {
     "data": {
      "text/plain": [
       "1000.0"
      ]
     },
     "execution_count": 18,
     "metadata": {},
     "output_type": "execute_result"
    }
   ],
   "source": [
    "Principal_median = data.Principal.median()\n",
    "Principal_median"
   ]
  },
  {
   "cell_type": "code",
   "execution_count": 19,
   "metadata": {},
   "outputs": [
    {
     "data": {
      "text/plain": [
       "0    1000\n",
       "dtype: int64"
      ]
     },
     "execution_count": 19,
     "metadata": {},
     "output_type": "execute_result"
    }
   ],
   "source": [
    "Principal_mode = data.Principal.mode()\n",
    "Principal_mode"
   ]
  },
  {
   "cell_type": "code",
   "execution_count": 20,
   "metadata": {},
   "outputs": [
    {
     "name": "stderr",
     "output_type": "stream",
     "text": [
      "C:\\Users\\DELL\\Anaconda3\\lib\\site-packages\\ipykernel_launcher.py:2: FutureWarning: Method .ptp is deprecated and will be removed in a future version. Use numpy.ptp instead.\n",
      "  \n"
     ]
    },
    {
     "data": {
      "text/plain": [
       "700"
      ]
     },
     "execution_count": 20,
     "metadata": {},
     "output_type": "execute_result"
    }
   ],
   "source": [
    "# measure of Dispersion\n",
    "Principal_range = data.Principal.ptp()\n",
    "Principal_range"
   ]
  },
  {
   "cell_type": "code",
   "execution_count": 21,
   "metadata": {},
   "outputs": [
    {
     "data": {
      "text/plain": [
       "900.0"
      ]
     },
     "execution_count": 21,
     "metadata": {},
     "output_type": "execute_result"
    }
   ],
   "source": [
    "Q1 = np.percentile(data.Principal,25)\n",
    "Q1"
   ]
  },
  {
   "cell_type": "code",
   "execution_count": 22,
   "metadata": {},
   "outputs": [
    {
     "data": {
      "text/plain": [
       "1000.0"
      ]
     },
     "execution_count": 22,
     "metadata": {},
     "output_type": "execute_result"
    }
   ],
   "source": [
    "Q3 = np.percentile(data.Principal,75)\n",
    "Q3"
   ]
  },
  {
   "cell_type": "code",
   "execution_count": 23,
   "metadata": {},
   "outputs": [
    {
     "data": {
      "text/plain": [
       "100.0"
      ]
     },
     "execution_count": 23,
     "metadata": {},
     "output_type": "execute_result"
    }
   ],
   "source": [
    "Principal_iqr  =scipy.stats.iqr(data.Principal)\n",
    "Principal_iqr"
   ]
  },
  {
   "cell_type": "code",
   "execution_count": 24,
   "metadata": {},
   "outputs": [
    {
     "data": {
      "text/plain": [
       "11973.946552735262"
      ]
     },
     "execution_count": 24,
     "metadata": {},
     "output_type": "execute_result"
    }
   ],
   "source": [
    "Principal_var = data.Principal.var()\n",
    "Principal_var"
   ]
  },
  {
   "cell_type": "code",
   "execution_count": 25,
   "metadata": {},
   "outputs": [
    {
     "data": {
      "text/plain": [
       "109.42552971192445"
      ]
     },
     "execution_count": 25,
     "metadata": {},
     "output_type": "execute_result"
    }
   ],
   "source": [
    "Principal_std = data.Principal.std()\n",
    "Principal_std"
   ]
  },
  {
   "cell_type": "code",
   "execution_count": 26,
   "metadata": {},
   "outputs": [
    {
     "data": {
      "text/plain": [
       "-2.600235671644776"
      ]
     },
     "execution_count": 26,
     "metadata": {},
     "output_type": "execute_result"
    }
   ],
   "source": [
    "Principal_skew = data.Principal.skew()\n",
    "Principal_skew"
   ]
  },
  {
   "cell_type": "code",
   "execution_count": 27,
   "metadata": {},
   "outputs": [
    {
     "data": {
      "text/plain": [
       "-2.5889493710967826"
      ]
     },
     "execution_count": 27,
     "metadata": {},
     "output_type": "execute_result"
    }
   ],
   "source": [
    "# Principal_skew < 0 phân phối lệch trái \n",
    "scipy.stats.skew(data.Principal)"
   ]
  },
  {
   "cell_type": "code",
   "execution_count": 28,
   "metadata": {},
   "outputs": [
    {
     "data": {
      "text/plain": [
       "9.92201927635812"
      ]
     },
     "execution_count": 28,
     "metadata": {},
     "output_type": "execute_result"
    }
   ],
   "source": [
    "Principal_kur =data.Principal.kurtosis()\n",
    "Principal_kur"
   ]
  },
  {
   "cell_type": "code",
   "execution_count": 29,
   "metadata": {},
   "outputs": [
    {
     "data": {
      "text/plain": [
       "9.76192539327609"
      ]
     },
     "execution_count": 29,
     "metadata": {},
     "output_type": "execute_result"
    }
   ],
   "source": [
    "#Principal_kur > 0 phân phối nhọn hơn phân phối chuẩn \n",
    "scipy.stats.kurtosis(data.Principal)"
   ]
  },
  {
   "cell_type": "code",
   "execution_count": 30,
   "metadata": {},
   "outputs": [],
   "source": [
    "# visualization \n",
    "# histogram "
   ]
  },
  {
   "cell_type": "code",
   "execution_count": 31,
   "metadata": {},
   "outputs": [
    {
     "data": {
      "image/png": "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\n",
      "text/plain": [
       "<Figure size 720x360 with 2 Axes>"
      ]
     },
     "metadata": {
      "needs_background": "light"
     },
     "output_type": "display_data"
    }
   ],
   "source": [
    "plt.figure(figsize=(10,5))\n",
    "plt.subplot(1,2,1)\n",
    "sns.distplot(data.Principal)\n",
    "plt.subplot(1,2,2)\n",
    "plt.hist(data.Principal)\n",
    "plt.show()"
   ]
  },
  {
   "cell_type": "code",
   "execution_count": 32,
   "metadata": {},
   "outputs": [
    {
     "data": {
      "image/png": "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\n",
      "text/plain": [
       "<Figure size 288x576 with 1 Axes>"
      ]
     },
     "metadata": {
      "needs_background": "light"
     },
     "output_type": "display_data"
    }
   ],
   "source": [
    "# Boxplot\n",
    "plt.figure(figsize =(4,8))\n",
    "plt.boxplot(data.Principal)\n",
    "plt.show()"
   ]
  },
  {
   "cell_type": "code",
   "execution_count": 33,
   "metadata": {},
   "outputs": [
    {
     "data": {
      "text/plain": [
       "0"
      ]
     },
     "execution_count": 33,
     "metadata": {},
     "output_type": "execute_result"
    }
   ],
   "source": [
    "# Number of uper outliers\n",
    "n_o_upper = data[data.Principal>(Q3+1.5*Principal_iqr)].shape[0]\n",
    "n_o_upper "
   ]
  },
  {
   "cell_type": "code",
   "execution_count": 34,
   "metadata": {},
   "outputs": [
    {
     "data": {
      "text/plain": [
       "5"
      ]
     },
     "execution_count": 34,
     "metadata": {},
     "output_type": "execute_result"
    }
   ],
   "source": [
    "# Number of lower ouliers\n",
    "n_o_lower = data[data.Principal<(Q1-1.5*Principal_iqr)].shape[0]\n",
    "n_o_lower"
   ]
  },
  {
   "cell_type": "code",
   "execution_count": 35,
   "metadata": {},
   "outputs": [
    {
     "data": {
      "text/plain": [
       "0.014450867052023121"
      ]
     },
     "execution_count": 35,
     "metadata": {},
     "output_type": "execute_result"
    }
   ],
   "source": [
    "#Percentage of outlier\n",
    "outliers_per = (n_o_upper+n_o_lower)/data.shape[0]\n",
    "outliers_per "
   ]
  },
  {
   "cell_type": "raw",
   "metadata": {},
   "source": [
    "Các outliers có số lượng ít, không ảnh hưởng đên các dự đoán , giữ nguyên ouliers"
   ]
  },
  {
   "cell_type": "raw",
   "metadata": {},
   "source": [
    "# terms"
   ]
  },
  {
   "cell_type": "code",
   "execution_count": 36,
   "metadata": {},
   "outputs": [
    {
     "data": {
      "text/plain": [
       "count    346.000000\n",
       "mean      22.653179\n",
       "std        7.991006\n",
       "min        7.000000\n",
       "25%       15.000000\n",
       "50%       30.000000\n",
       "75%       30.000000\n",
       "max       30.000000\n",
       "Name: terms, dtype: float64"
      ]
     },
     "execution_count": 36,
     "metadata": {},
     "output_type": "execute_result"
    }
   ],
   "source": [
    "# terms\n",
    "data['terms'].describe(include='all')"
   ]
  },
  {
   "cell_type": "code",
   "execution_count": 37,
   "metadata": {},
   "outputs": [
    {
     "data": {
      "text/plain": [
       "30.0"
      ]
     },
     "execution_count": 37,
     "metadata": {},
     "output_type": "execute_result"
    }
   ],
   "source": [
    "terms_median = data.terms.median()\n",
    "terms_median"
   ]
  },
  {
   "cell_type": "code",
   "execution_count": 38,
   "metadata": {},
   "outputs": [
    {
     "data": {
      "text/plain": [
       "0    30\n",
       "dtype: int64"
      ]
     },
     "execution_count": 38,
     "metadata": {},
     "output_type": "execute_result"
    }
   ],
   "source": [
    "terms_mode = data.terms.mode()\n",
    "terms_mode"
   ]
  },
  {
   "cell_type": "code",
   "execution_count": 39,
   "metadata": {},
   "outputs": [
    {
     "name": "stderr",
     "output_type": "stream",
     "text": [
      "C:\\Users\\DELL\\Anaconda3\\lib\\site-packages\\ipykernel_launcher.py:1: FutureWarning: Method .ptp is deprecated and will be removed in a future version. Use numpy.ptp instead.\n",
      "  \"\"\"Entry point for launching an IPython kernel.\n"
     ]
    },
    {
     "data": {
      "text/plain": [
       "23"
      ]
     },
     "execution_count": 39,
     "metadata": {},
     "output_type": "execute_result"
    }
   ],
   "source": [
    "terms_range = data.terms.ptp()\n",
    "terms_range"
   ]
  },
  {
   "cell_type": "code",
   "execution_count": 40,
   "metadata": {},
   "outputs": [
    {
     "data": {
      "text/plain": [
       "15.0"
      ]
     },
     "execution_count": 40,
     "metadata": {},
     "output_type": "execute_result"
    }
   ],
   "source": [
    "Q1 = np.percentile(data.terms,25)\n",
    "Q1"
   ]
  },
  {
   "cell_type": "code",
   "execution_count": 41,
   "metadata": {},
   "outputs": [
    {
     "data": {
      "text/plain": [
       "30.0"
      ]
     },
     "execution_count": 41,
     "metadata": {},
     "output_type": "execute_result"
    }
   ],
   "source": [
    "Q3 = np.percentile(data.terms,75)\n",
    "Q3"
   ]
  },
  {
   "cell_type": "code",
   "execution_count": 42,
   "metadata": {},
   "outputs": [
    {
     "data": {
      "text/plain": [
       "15.0"
      ]
     },
     "execution_count": 42,
     "metadata": {},
     "output_type": "execute_result"
    }
   ],
   "source": [
    "terms_iqr  =scipy.stats.iqr(data.terms)\n",
    "terms_iqr"
   ]
  },
  {
   "cell_type": "code",
   "execution_count": 43,
   "metadata": {},
   "outputs": [
    {
     "data": {
      "text/plain": [
       "63.85617826924715"
      ]
     },
     "execution_count": 43,
     "metadata": {},
     "output_type": "execute_result"
    }
   ],
   "source": [
    "terms_var = data.terms.var()\n",
    "terms_var"
   ]
  },
  {
   "cell_type": "code",
   "execution_count": 44,
   "metadata": {},
   "outputs": [
    {
     "data": {
      "text/plain": [
       "7.991006086172576"
      ]
     },
     "execution_count": 44,
     "metadata": {},
     "output_type": "execute_result"
    }
   ],
   "source": [
    "terms_std = data.terms.std()\n",
    "terms_std"
   ]
  },
  {
   "cell_type": "code",
   "execution_count": 45,
   "metadata": {},
   "outputs": [
    {
     "data": {
      "text/plain": [
       "-0.2689396361830413"
      ]
     },
     "execution_count": 45,
     "metadata": {},
     "output_type": "execute_result"
    }
   ],
   "source": [
    "terms_skew = data.terms.skew()\n",
    "terms_skew"
   ]
  },
  {
   "cell_type": "code",
   "execution_count": 46,
   "metadata": {},
   "outputs": [
    {
     "data": {
      "text/plain": [
       "-0.26777230600742313"
      ]
     },
     "execution_count": 46,
     "metadata": {},
     "output_type": "execute_result"
    }
   ],
   "source": [
    "# terms_skew < 0 phân phối lệch trái \n",
    "scipy.stats.skew(data.terms)"
   ]
  },
  {
   "cell_type": "code",
   "execution_count": 47,
   "metadata": {},
   "outputs": [
    {
     "data": {
      "text/plain": [
       "-1.6566792808334287"
      ]
     },
     "execution_count": 47,
     "metadata": {},
     "output_type": "execute_result"
    }
   ],
   "source": [
    "#terms_kur < 0 phân phối tù hơn phân phối chuẩn \n",
    "scipy.stats.kurtosis(data.terms)"
   ]
  },
  {
   "cell_type": "code",
   "execution_count": 48,
   "metadata": {},
   "outputs": [],
   "source": [
    "# visualization \n",
    "# histogram "
   ]
  },
  {
   "cell_type": "code",
   "execution_count": 49,
   "metadata": {},
   "outputs": [
    {
     "data": {
      "image/png": "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\n",
      "text/plain": [
       "<Figure size 720x360 with 2 Axes>"
      ]
     },
     "metadata": {
      "needs_background": "light"
     },
     "output_type": "display_data"
    }
   ],
   "source": [
    "plt.figure(figsize=(10,5))\n",
    "plt.subplot(1,2,1)\n",
    "sns.distplot(data.terms)\n",
    "plt.subplot(1,2,2)\n",
    "plt.hist(data.terms)\n",
    "plt.show()"
   ]
  },
  {
   "cell_type": "code",
   "execution_count": 50,
   "metadata": {},
   "outputs": [
    {
     "data": {
      "image/png": "iVBORw0KGgoAAAANSUhEUgAAAQQAAAHVCAYAAAAXaoWAAAAABHNCSVQICAgIfAhkiAAAAAlwSFlzAAALEgAACxIB0t1+/AAAADl0RVh0U29mdHdhcmUAbWF0cGxvdGxpYiB2ZXJzaW9uIDMuMC4zLCBodHRwOi8vbWF0cGxvdGxpYi5vcmcvnQurowAACuRJREFUeJzt3U+o5Wd9x/HPt05KC5YaySghNZ0iQeymE7hIwI1oheDGCO0iC8kiEBcVFNyIm0bowkI1S2EkIbOQtFItEXETQkoQJGVi05h0FqFFS+yQXIk2dlOIfbqY0w+DzOTeTO45J4HXCw7nnOc8Z35fLsx7fucPd2atFYAk+a19DwC8dQgCUIIAlCAAJQhACQJQggCUIAAlCECd2uXBbrrppnXmzJldHhJI8vTTT/98rXX6qH07DcKZM2dy4cKFXR4SSDIzPz3OPi8ZgBIEoAQBKEEAShCAEgSgBAEoQQBKEIASBKAEAShBAEoQgBIEoI4Mwsz8zsz808z8y8w8PzNf3qz/0cw8NTMvzMzfzcxvb39cYJuOc4bwP0k+utb6kyRnk9w5M3ck+eskD6y1bkvyiyT3bm9MYBeODMK67L83d2/YXFaSjyb5+836+SR3bWVCYGeO9R7CzLxjZp5J8nKSx5L8W5JfrrVe22x5Mckt2xkR2JVj/Qq1tdavk5ydmXcl+YckH7zatqs9d2buS3Jfktx6663XOSZv2v2/v+8JLrv/v/Y9Aa/jDf1OxbXWL2fmH5PckeRdM3Nqc5bwB0n+8xrPOZfkXJIcHBz4v+f3ZL78atba749/ZrLu3+sIHOE4nzKc3pwZZGZ+N8mfJrmY5Ikkf7bZdk+SR7c1JLAbxzlDuDnJ+Zl5Ry4H5Ftrre/NzL8m+duZ+ask/5zkwS3OCezAkUFYaz2b5ParrP97kg9tYyhgP3xTEShBAEoQgBIEoAQBKEEAShCAEgSgBAEoQQBKEIASBKAEAShBAEoQgBIEoAQBKEEAShCAEgSgBAEoQQBKEIASBKAEAShBAEoQgBIEoAQBKEEAShCAEgSgBAEoQQBKEIASBKAEAShBAEoQgBIEoAQBKEEAShCAEgSgBAEoQQBKEIASBKAEAShBAEoQgBIEoAQBKEEAShCAEgSgBAEoQQBKEIASBKAEAShBAEoQgBIEoAQBKEEAShCAEgSgBAEoQQBKEIASBKAEAShBAEoQgBIEoAQBqCODMDPvm5knZubizDw/M5/brN8/Mz+bmWc2l09sf1xgm04dY89rSb6w1vrRzPxekqdn5rHNYw+stf5me+MBu3RkENZal5Jc2tz+1cxcTHLLtgcDdu8NvYcwM2eS3J7kqc3SZ2fm2Zl5aGZuPOHZgB07dhBm5p1Jvp3k82utV5N8Pcn7k5zN5TOIr17jeffNzIWZuXB4eHgCIwPbcqwgzMwNuRyDb661vpMka62X1lq/Xmv9b5JvJPnQ1Z671jq31jpYax2cPn36pOYGtuA4nzJMkgeTXFxrfe2K9Zuv2PapJM+d/HjALh3nU4YPJ/l0kh/PzDObtS8luXtmziZZSX6S5DNbmRDYmeN8yvCDJHOVh75/8uMA++SbikAJAlCCAJQgACUIQAkCUIIAlCAAJQhACQJQggCUIAAlCEAJAlCCAJQgACUIQAkCUIIAlCAAJQhACQJQggCUIAAlCEAJAlCCAJQgACUIQAkCUIIAlCAAJQhACQJQggCUIAAlCEAJAlCCAJQgACUIQAkCUIIAlCAAJQhACQJQggCUIAAlCEAJAlCCAJQgACUIQAkCUIIAlCAAJQhACQJQggCUIAAlCEAJAlCCAJQgACUIQAkCUIIAlCAAJQhACQJQggCUIAAlCEAJAlCCAJQgACUIQB0ZhJl538w8MTMXZ+b5mfncZv3dM/PYzLywub5x++MC23ScM4TXknxhrfXBJHck+YuZ+eMkX0zy+FrrtiSPb+4Db2NHBmGtdWmt9aPN7V8luZjkliSfTHJ+s+18kru2NSSwG2/oPYSZOZPk9iRPJXnvWutScjkaSd5z0sMBu3XsIMzMO5N8O8nn11qvvoHn3TczF2bmwuHh4fXMCOzIsYIwMzfkcgy+udb6zmb5pZm5efP4zUlevtpz11rn1loHa62D06dPn8TMwJYc51OGSfJgkotrra9d8dB3k9yzuX1PkkdPfjxgl04dY8+Hk3w6yY9n5pnN2peSfCXJt2bm3iT/keTPtzMisCtHBmGt9YMkc42HP3ay4wD75JuKQAkCUIIAlCAAJQhACQJQggCUIAAlCEAJAlCCAJQgACUIQAkCUIIAlCAAJQhACQJQggCUIAAlCEAJAlCCAJQgACUIQAkCUIIAlCAAJQhACQJQggCUIAAlCEAJAlCCAJQgACUIQAkCUIIAlCAAJQhACQJQggCUIAAlCEAJAlCCAJQgACUIQAkCUIIAlCAAJQhACQJQggCUIAAlCEAJAlCCAJQgACUIQAkCUIIAlCAAJQhACQJQggCUIAAlCEAJAlCCAJQgACUIQAkCUIIAlCAAJQhAHRmEmXloZl6emeeuWLt/Zn42M89sLp/Y7pjALhznDOHhJHdeZf2BtdbZzeX7JzsWsA9HBmGt9WSSV3YwC7Bnb+Y9hM/OzLOblxQ3nthEwN5cbxC+nuT9Sc4muZTkq9faODP3zcyFmblweHh4nYfjJMzMXi833ujfjbe6U9fzpLXWS/9/e2a+keR7r7P3XJJzSXJwcLCu53i8eWu9+R/9zJzIn8Nb13WdIczMzVfc/VSS5661F3j7OPIMYWYeSfKRJDfNzItJ/jLJR2bmbJKV5CdJPrPFGYEdOTIIa627r7L84BZmAfbMNxWBEgSgBAEoQQBKEIASBKAEAShBAEoQgBIEoAQBKEEAShCAEgSgBAEoQQBKEIASBKAEAShBAEoQgBIEoAQBKEEAShCAEgSgBAEoQQBKEIASBKAEAShBAEoQgBIEoAQBKEEAShCAEgSgBAEoQQBKEIASBKAEAShBAEoQgBIEoAQBKEEAShCAEgSgBAEoQQBKEIASBKAEAShBAEoQgBIEoAQBKEEAShCAEgSgBAEoQQBKEIASBKAEAShBAEoQgBIEoAQBKEEAShCAEgSgBAEoQQBKEIA6Mggz89DMvDwzz12x9u6ZeWxmXthc37jdMYFdOM4ZwsNJ7vyNtS8meXytdVuSxzf3gbe5I4Ow1noyySu/sfzJJOc3t88nueuE5wL24HrfQ3jvWutSkmyu33OtjTNz38xcmJkLh4eH13k4YBe2/qbiWuvcWutgrXVw+vTpbR8OeBOuNwgvzczNSbK5fvnkRgL25XqD8N0k92xu35Pk0ZMZB9in43zs+EiSHyb5wMy8ODP3JvlKko/PzAtJPr65D7zNnTpqw1rr7ms89LETngXYM99UBEoQgBIEoAQBKEEAShCAEgSgBAEoQQBKEIASBKAEAShBAEoQgBIEoAQBKEEAShCAEgSgBAEoQQBKEIASBKAEAShBAEoQgBIEoAQBKEEAShCAEgSgBAEoQQBKEIASBKAEAShBAEoQgBIEoAQBKEEAShCAEgSgBAEoQQBKEIA6te8BeGuYmRPZt9Y6iXHYE0Egib/IXOYlA1CCAJQgACUIQAkCUIIAlCAAJQhACQJQggCUIAAlCEAJAlCCAJQgACUIQAkCUIIA1OzyV2fNzGGSn+7sgJy0m5L8fN9DcF3+cK11+qhNOw0Cb28zc2GtdbDvOdgeLxmAEgSgBIE34ty+B2C7vIcAlDMEoAQBKEHgdc3MQzPz8sw8t+9Z2D5B4CgPJ7lz30OwG4LA61prPZnklX3PwW4IAlCCAJQgACUIQAkCr2tmHknywyQfmJkXZ+befc/E9vjqMlDOEIASBKAEAShBAEoQgBIEoAQBqP8DonaslMXlQn8AAAAASUVORK5CYII=\n",
      "text/plain": [
       "<Figure size 288x576 with 1 Axes>"
      ]
     },
     "metadata": {
      "needs_background": "light"
     },
     "output_type": "display_data"
    }
   ],
   "source": [
    "# Boxplot\n",
    "plt.figure(figsize =(4,8))\n",
    "plt.boxplot(data.terms)\n",
    "plt.show()"
   ]
  },
  {
   "cell_type": "code",
   "execution_count": 51,
   "metadata": {},
   "outputs": [
    {
     "data": {
      "text/plain": [
       "0"
      ]
     },
     "execution_count": 51,
     "metadata": {},
     "output_type": "execute_result"
    }
   ],
   "source": [
    "# Number of uper outliers\n",
    "n_o_upper = data[data.terms>(Q3+1.5*terms_iqr)].shape[0]\n",
    "n_o_upper "
   ]
  },
  {
   "cell_type": "code",
   "execution_count": 52,
   "metadata": {},
   "outputs": [
    {
     "data": {
      "text/plain": [
       "0"
      ]
     },
     "execution_count": 52,
     "metadata": {},
     "output_type": "execute_result"
    }
   ],
   "source": [
    "# Number of lower ouliers\n",
    "n_o_lower = data[data.terms<(Q1-1.5*terms_iqr)].shape[0]\n",
    "n_o_lower"
   ]
  },
  {
   "cell_type": "code",
   "execution_count": 53,
   "metadata": {},
   "outputs": [
    {
     "data": {
      "text/plain": [
       "0.0"
      ]
     },
     "execution_count": 53,
     "metadata": {},
     "output_type": "execute_result"
    }
   ],
   "source": [
    "#Percentage of outlier\n",
    "outliers_per = (n_o_upper+n_o_lower)/data.shape[0]\n",
    "outliers_per "
   ]
  },
  {
   "cell_type": "raw",
   "metadata": {},
   "source": [
    "terms không có outliers"
   ]
  },
  {
   "cell_type": "raw",
   "metadata": {},
   "source": [
    "age\n"
   ]
  },
  {
   "cell_type": "code",
   "execution_count": 54,
   "metadata": {},
   "outputs": [
    {
     "data": {
      "text/plain": [
       "count    346.000000\n",
       "mean      30.939306\n",
       "std        6.039418\n",
       "min       18.000000\n",
       "25%       27.000000\n",
       "50%       30.000000\n",
       "75%       35.000000\n",
       "max       51.000000\n",
       "Name: age, dtype: float64"
      ]
     },
     "execution_count": 54,
     "metadata": {},
     "output_type": "execute_result"
    }
   ],
   "source": [
    "data['age'].describe(include='all')"
   ]
  },
  {
   "cell_type": "code",
   "execution_count": 55,
   "metadata": {},
   "outputs": [
    {
     "data": {
      "text/plain": [
       "30.0"
      ]
     },
     "execution_count": 55,
     "metadata": {},
     "output_type": "execute_result"
    }
   ],
   "source": [
    "age_median = data.age.median()\n",
    "age_median"
   ]
  },
  {
   "cell_type": "code",
   "execution_count": 56,
   "metadata": {},
   "outputs": [
    {
     "data": {
      "text/plain": [
       "0    26\n",
       "dtype: int64"
      ]
     },
     "execution_count": 56,
     "metadata": {},
     "output_type": "execute_result"
    }
   ],
   "source": [
    "age_mode = data.age.mode()\n",
    "age_mode"
   ]
  },
  {
   "cell_type": "code",
   "execution_count": 57,
   "metadata": {},
   "outputs": [
    {
     "name": "stderr",
     "output_type": "stream",
     "text": [
      "C:\\Users\\DELL\\Anaconda3\\lib\\site-packages\\ipykernel_launcher.py:1: FutureWarning: Method .ptp is deprecated and will be removed in a future version. Use numpy.ptp instead.\n",
      "  \"\"\"Entry point for launching an IPython kernel.\n"
     ]
    },
    {
     "data": {
      "text/plain": [
       "33"
      ]
     },
     "execution_count": 57,
     "metadata": {},
     "output_type": "execute_result"
    }
   ],
   "source": [
    "age_range = data.age.ptp()\n",
    "age_range"
   ]
  },
  {
   "cell_type": "code",
   "execution_count": 58,
   "metadata": {},
   "outputs": [
    {
     "data": {
      "text/plain": [
       "27.0"
      ]
     },
     "execution_count": 58,
     "metadata": {},
     "output_type": "execute_result"
    }
   ],
   "source": [
    "Q1 = np.percentile(data.age,25)\n",
    "Q1"
   ]
  },
  {
   "cell_type": "code",
   "execution_count": 59,
   "metadata": {},
   "outputs": [
    {
     "data": {
      "text/plain": [
       "35.0"
      ]
     },
     "execution_count": 59,
     "metadata": {},
     "output_type": "execute_result"
    }
   ],
   "source": [
    "Q3 = np.percentile(data.age,75)\n",
    "Q3"
   ]
  },
  {
   "cell_type": "code",
   "execution_count": 60,
   "metadata": {},
   "outputs": [
    {
     "data": {
      "text/plain": [
       "8.0"
      ]
     },
     "execution_count": 60,
     "metadata": {},
     "output_type": "execute_result"
    }
   ],
   "source": [
    "age_iqr  =scipy.stats.iqr(data.age)\n",
    "age_iqr"
   ]
  },
  {
   "cell_type": "code",
   "execution_count": 61,
   "metadata": {},
   "outputs": [
    {
     "data": {
      "text/plain": [
       "36.474566473988425"
      ]
     },
     "execution_count": 61,
     "metadata": {},
     "output_type": "execute_result"
    }
   ],
   "source": [
    "age_var = data.age.var()\n",
    "age_var"
   ]
  },
  {
   "cell_type": "code",
   "execution_count": 62,
   "metadata": {},
   "outputs": [
    {
     "data": {
      "text/plain": [
       "6.039417726402805"
      ]
     },
     "execution_count": 62,
     "metadata": {},
     "output_type": "execute_result"
    }
   ],
   "source": [
    "age_std = data.age.std()\n",
    "age_std"
   ]
  },
  {
   "cell_type": "code",
   "execution_count": 63,
   "metadata": {},
   "outputs": [
    {
     "data": {
      "text/plain": [
       "0.700410003463071"
      ]
     },
     "execution_count": 63,
     "metadata": {},
     "output_type": "execute_result"
    }
   ],
   "source": [
    "age_skew = data.age.skew()\n",
    "age_skew"
   ]
  },
  {
   "cell_type": "code",
   "execution_count": 64,
   "metadata": {},
   "outputs": [
    {
     "data": {
      "text/plain": [
       "0.6973698798726947"
      ]
     },
     "execution_count": 64,
     "metadata": {},
     "output_type": "execute_result"
    }
   ],
   "source": [
    "# terms_skew > 0 phân phối lệch phải\n",
    "scipy.stats.skew(data.age)"
   ]
  },
  {
   "cell_type": "code",
   "execution_count": 65,
   "metadata": {},
   "outputs": [
    {
     "data": {
      "text/plain": [
       "0.45684832131054787"
      ]
     },
     "execution_count": 65,
     "metadata": {},
     "output_type": "execute_result"
    }
   ],
   "source": [
    "#terms_kur > 0 phân phối nhọn hơn phân phối chuẩn \n",
    "scipy.stats.kurtosis(data.age)"
   ]
  },
  {
   "cell_type": "code",
   "execution_count": 66,
   "metadata": {},
   "outputs": [],
   "source": [
    "# visualization \n",
    "# histogram "
   ]
  },
  {
   "cell_type": "code",
   "execution_count": 67,
   "metadata": {},
   "outputs": [
    {
     "data": {
      "image/png": "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\n",
      "text/plain": [
       "<Figure size 720x360 with 2 Axes>"
      ]
     },
     "metadata": {
      "needs_background": "light"
     },
     "output_type": "display_data"
    }
   ],
   "source": [
    "plt.figure(figsize=(10,5))\n",
    "plt.subplot(1,2,1)\n",
    "sns.distplot(data.age)\n",
    "plt.subplot(1,2,2)\n",
    "plt.hist(data.age)\n",
    "plt.show()"
   ]
  },
  {
   "cell_type": "code",
   "execution_count": 68,
   "metadata": {},
   "outputs": [
    {
     "data": {
      "image/png": "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\n",
      "text/plain": [
       "<Figure size 288x576 with 1 Axes>"
      ]
     },
     "metadata": {
      "needs_background": "light"
     },
     "output_type": "display_data"
    }
   ],
   "source": [
    "# Boxplot\n",
    "plt.figure(figsize =(4,8))\n",
    "plt.boxplot(data.age)\n",
    "plt.show()"
   ]
  },
  {
   "cell_type": "code",
   "execution_count": 69,
   "metadata": {},
   "outputs": [
    {
     "data": {
      "text/plain": [
       "4"
      ]
     },
     "execution_count": 69,
     "metadata": {},
     "output_type": "execute_result"
    }
   ],
   "source": [
    "# Number of uper outliers\n",
    "n_o_upper = data[data.age>(Q3+1.5*age_iqr)].shape[0]\n",
    "n_o_upper "
   ]
  },
  {
   "cell_type": "code",
   "execution_count": 70,
   "metadata": {},
   "outputs": [
    {
     "data": {
      "text/plain": [
       "0"
      ]
     },
     "execution_count": 70,
     "metadata": {},
     "output_type": "execute_result"
    }
   ],
   "source": [
    "# Number of uper outliers\n",
    "n_o_lower = data[data.age<(Q1-1.5*age_iqr)].shape[0]\n",
    "n_o_lower"
   ]
  },
  {
   "cell_type": "code",
   "execution_count": 71,
   "metadata": {},
   "outputs": [
    {
     "data": {
      "text/plain": [
       "0.011560693641618497"
      ]
     },
     "execution_count": 71,
     "metadata": {},
     "output_type": "execute_result"
    }
   ],
   "source": [
    "#Percentage of outlier\n",
    "outliers_per = (n_o_upper+n_o_lower)/data.shape[0]\n",
    "outliers_per "
   ]
  },
  {
   "cell_type": "code",
   "execution_count": 72,
   "metadata": {},
   "outputs": [],
   "source": [
    "# Các outliers có số lượng ít, không ảnh hưởng đên các dự đoán , giữ nguyên ouliers"
   ]
  },
  {
   "cell_type": "raw",
   "metadata": {},
   "source": [
    "# Category variable :\n",
    "+) Gender\n",
    "+) effective_date"
   ]
  },
  {
   "cell_type": "code",
   "execution_count": 73,
   "metadata": {},
   "outputs": [
    {
     "data": {
      "text/plain": [
       "Gender\n",
       "female     52\n",
       "male      294\n",
       "Name: Unnamed: 0, dtype: int64"
      ]
     },
     "execution_count": 73,
     "metadata": {},
     "output_type": "execute_result"
    }
   ],
   "source": [
    "#Gender \n",
    "Gender_count  = (data.groupby('Gender').count())['Unnamed: 0']\n",
    "Gender_count"
   ]
  },
  {
   "cell_type": "code",
   "execution_count": 74,
   "metadata": {},
   "outputs": [
    {
     "data": {
      "text/plain": [
       "<matplotlib.axes._subplots.AxesSubplot at 0x216d3475278>"
      ]
     },
     "execution_count": 74,
     "metadata": {},
     "output_type": "execute_result"
    },
    {
     "data": {
      "image/png": "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\n",
      "text/plain": [
       "<Figure size 432x288 with 1 Axes>"
      ]
     },
     "metadata": {},
     "output_type": "display_data"
    }
   ],
   "source": [
    "sns.set()\n",
    "Gender_count.plot.bar()"
   ]
  },
  {
   "cell_type": "code",
   "execution_count": 75,
   "metadata": {},
   "outputs": [
    {
     "data": {
      "text/plain": [
       "effective_date\n",
       "2016-09-08      3\n",
       "2016-09-09      8\n",
       "2016-09-10     31\n",
       "2016-09-11    166\n",
       "2016-09-12     87\n",
       "2016-09-13     20\n",
       "2016-09-14     31\n",
       "Name: Unnamed: 0, dtype: int64"
      ]
     },
     "execution_count": 75,
     "metadata": {},
     "output_type": "execute_result"
    }
   ],
   "source": [
    "# effective_date\n",
    "effective_date_count =(data.groupby('effective_date').count())['Unnamed: 0']\n",
    "effective_date_count"
   ]
  },
  {
   "cell_type": "code",
   "execution_count": 76,
   "metadata": {},
   "outputs": [
    {
     "data": {
      "text/plain": [
       "<matplotlib.axes._subplots.AxesSubplot at 0x216d3733550>"
      ]
     },
     "execution_count": 76,
     "metadata": {},
     "output_type": "execute_result"
    },
    {
     "data": {
      "image/png": "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\n",
      "text/plain": [
       "<Figure size 432x288 with 1 Axes>"
      ]
     },
     "metadata": {},
     "output_type": "display_data"
    }
   ],
   "source": [
    "sns.set()\n",
    "effective_date_count.plot.bar()"
   ]
  },
  {
   "cell_type": "markdown",
   "metadata": {},
   "source": [
    "# 3.Phân tích hai biến"
   ]
  },
  {
   "cell_type": "markdown",
   "metadata": {},
   "source": [
    "continuous & continous"
   ]
  },
  {
   "cell_type": "code",
   "execution_count": 77,
   "metadata": {},
   "outputs": [
    {
     "data": {
      "text/plain": [
       "<seaborn.axisgrid.PairGrid at 0x216d37b5a90>"
      ]
     },
     "execution_count": 77,
     "metadata": {},
     "output_type": "execute_result"
    },
    {
     "data": {
      "image/png": "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\n",
      "text/plain": [
       "<Figure size 540x540 with 12 Axes>"
      ]
     },
     "metadata": {},
     "output_type": "display_data"
    }
   ],
   "source": [
    "sns.pairplot(data[['Principal','terms', 'age']])"
   ]
  },
  {
   "cell_type": "code",
   "execution_count": 78,
   "metadata": {},
   "outputs": [
    {
     "data": {
      "text/html": [
       "<div>\n",
       "<style scoped>\n",
       "    .dataframe tbody tr th:only-of-type {\n",
       "        vertical-align: middle;\n",
       "    }\n",
       "\n",
       "    .dataframe tbody tr th {\n",
       "        vertical-align: top;\n",
       "    }\n",
       "\n",
       "    .dataframe thead th {\n",
       "        text-align: right;\n",
       "    }\n",
       "</style>\n",
       "<table border=\"1\" class=\"dataframe\">\n",
       "  <thead>\n",
       "    <tr style=\"text-align: right;\">\n",
       "      <th></th>\n",
       "      <th>Principal</th>\n",
       "      <th>terms</th>\n",
       "      <th>age</th>\n",
       "    </tr>\n",
       "  </thead>\n",
       "  <tbody>\n",
       "    <tr>\n",
       "      <th>Principal</th>\n",
       "      <td>1.000000</td>\n",
       "      <td>0.521876</td>\n",
       "      <td>-0.060893</td>\n",
       "    </tr>\n",
       "    <tr>\n",
       "      <th>terms</th>\n",
       "      <td>0.521876</td>\n",
       "      <td>1.000000</td>\n",
       "      <td>-0.064762</td>\n",
       "    </tr>\n",
       "    <tr>\n",
       "      <th>age</th>\n",
       "      <td>-0.060893</td>\n",
       "      <td>-0.064762</td>\n",
       "      <td>1.000000</td>\n",
       "    </tr>\n",
       "  </tbody>\n",
       "</table>\n",
       "</div>"
      ],
      "text/plain": [
       "           Principal     terms       age\n",
       "Principal   1.000000  0.521876 -0.060893\n",
       "terms       0.521876  1.000000 -0.064762\n",
       "age        -0.060893 -0.064762  1.000000"
      ]
     },
     "execution_count": 78,
     "metadata": {},
     "output_type": "execute_result"
    }
   ],
   "source": [
    "# không quan hệ tuyến tính\n",
    "data[['Principal','terms', 'age']].corr() "
   ]
  },
  {
   "cell_type": "raw",
   "metadata": {},
   "source": [
    "Categorical& Categorical\n",
    "Gender,effective_date\n",
    "contigency table : Ho 'Gender', & \"effective_date\" independent"
   ]
  },
  {
   "cell_type": "code",
   "execution_count": 79,
   "metadata": {},
   "outputs": [
    {
     "data": {
      "text/html": [
       "<div>\n",
       "<style scoped>\n",
       "    .dataframe tbody tr th:only-of-type {\n",
       "        vertical-align: middle;\n",
       "    }\n",
       "\n",
       "    .dataframe tbody tr th {\n",
       "        vertical-align: top;\n",
       "    }\n",
       "\n",
       "    .dataframe thead th {\n",
       "        text-align: right;\n",
       "    }\n",
       "</style>\n",
       "<table border=\"1\" class=\"dataframe\">\n",
       "  <thead>\n",
       "    <tr style=\"text-align: right;\">\n",
       "      <th>effective_date</th>\n",
       "      <th>2016-09-08 00:00:00</th>\n",
       "      <th>2016-09-09 00:00:00</th>\n",
       "      <th>2016-09-10 00:00:00</th>\n",
       "      <th>2016-09-11 00:00:00</th>\n",
       "      <th>2016-09-12 00:00:00</th>\n",
       "      <th>2016-09-13 00:00:00</th>\n",
       "      <th>2016-09-14 00:00:00</th>\n",
       "    </tr>\n",
       "    <tr>\n",
       "      <th>Gender</th>\n",
       "      <th></th>\n",
       "      <th></th>\n",
       "      <th></th>\n",
       "      <th></th>\n",
       "      <th></th>\n",
       "      <th></th>\n",
       "      <th></th>\n",
       "    </tr>\n",
       "  </thead>\n",
       "  <tbody>\n",
       "    <tr>\n",
       "      <th>female</th>\n",
       "      <td>1</td>\n",
       "      <td>1</td>\n",
       "      <td>1</td>\n",
       "      <td>24</td>\n",
       "      <td>16</td>\n",
       "      <td>6</td>\n",
       "      <td>3</td>\n",
       "    </tr>\n",
       "    <tr>\n",
       "      <th>male</th>\n",
       "      <td>2</td>\n",
       "      <td>7</td>\n",
       "      <td>30</td>\n",
       "      <td>142</td>\n",
       "      <td>71</td>\n",
       "      <td>14</td>\n",
       "      <td>28</td>\n",
       "    </tr>\n",
       "  </tbody>\n",
       "</table>\n",
       "</div>"
      ],
      "text/plain": [
       "effective_date  2016-09-08  2016-09-09  2016-09-10  2016-09-11  2016-09-12  \\\n",
       "Gender                                                                       \n",
       "female                   1           1           1          24          16   \n",
       "male                     2           7          30         142          71   \n",
       "\n",
       "effective_date  2016-09-13  2016-09-14  \n",
       "Gender                                  \n",
       "female                   6           3  \n",
       "male                    14          28  "
      ]
     },
     "execution_count": 79,
     "metadata": {},
     "output_type": "execute_result"
    }
   ],
   "source": [
    "table_GE = pd.crosstab(data['Gender'],data['effective_date'])\n",
    "table_GE"
   ]
  },
  {
   "cell_type": "code",
   "execution_count": 80,
   "metadata": {},
   "outputs": [
    {
     "data": {
      "image/png": "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\n",
      "text/plain": [
       "<Figure size 432x288 with 1 Axes>"
      ]
     },
     "metadata": {},
     "output_type": "display_data"
    }
   ],
   "source": [
    "table_GE.plot(kind='bar',stacked= True)\n",
    "plt.show()"
   ]
  },
  {
   "cell_type": "code",
   "execution_count": 81,
   "metadata": {},
   "outputs": [],
   "source": [
    "# chiquared test with similar proporations\n",
    "from scipy.stats import chi2_contingency\n",
    "from scipy.stats import chi2"
   ]
  },
  {
   "cell_type": "code",
   "execution_count": 82,
   "metadata": {},
   "outputs": [
    {
     "name": "stdout",
     "output_type": "stream",
     "text": [
      "dof=%d 6\n",
      "p= 0.1612147197312493\n"
     ]
    }
   ],
   "source": [
    "#Chi-square Test\n",
    "stat,p,dof,expect = chi2_contingency(table_GE)\n",
    "print('dof=%d',dof)\n",
    "print('p=', p)"
   ]
  },
  {
   "cell_type": "code",
   "execution_count": 83,
   "metadata": {},
   "outputs": [
    {
     "name": "stdout",
     "output_type": "stream",
     "text": [
      "probability=0.950,critical=12.592,stat=9.227\n"
     ]
    }
   ],
   "source": [
    "# interpret test-statistic\n",
    "prob =0.95\n",
    "critical = chi2.ppf(prob,dof)\n",
    "print('probability=%.3f,critical=%.3f,stat=%.3f'%(prob,critical,stat))\n"
   ]
  },
  {
   "cell_type": "code",
   "execution_count": 84,
   "metadata": {},
   "outputs": [
    {
     "name": "stdout",
     "output_type": "stream",
     "text": [
      "significance=0.050000,p=0.161215\n",
      "Independent (fail to reject H0)\n"
     ]
    }
   ],
   "source": [
    "# interpret p-value\n",
    "alpha =1.0-prob\n",
    "print('significance=%3f,p=%3f'%(alpha,p))\n",
    "if p<=alpha:\n",
    "    print('Dependent(reject Ho)')\n",
    "else:\n",
    "    print(\"Independent (fail to reject H0)\")"
   ]
  },
  {
   "cell_type": "code",
   "execution_count": 85,
   "metadata": {},
   "outputs": [],
   "source": [
    "#categorical & continous\n",
    "# \"Gender\" co bi anh huong boi \"Principal\" ? Anova oneway\n"
   ]
  },
  {
   "cell_type": "code",
   "execution_count": 86,
   "metadata": {},
   "outputs": [
    {
     "data": {
      "text/html": [
       "<div>\n",
       "<style scoped>\n",
       "    .dataframe tbody tr th:only-of-type {\n",
       "        vertical-align: middle;\n",
       "    }\n",
       "\n",
       "    .dataframe tbody tr th {\n",
       "        vertical-align: top;\n",
       "    }\n",
       "\n",
       "    .dataframe thead th {\n",
       "        text-align: right;\n",
       "    }\n",
       "</style>\n",
       "<table border=\"1\" class=\"dataframe\">\n",
       "  <thead>\n",
       "    <tr style=\"text-align: right;\">\n",
       "      <th></th>\n",
       "      <th>Gender</th>\n",
       "      <th>Principal</th>\n",
       "    </tr>\n",
       "  </thead>\n",
       "  <tbody>\n",
       "    <tr>\n",
       "      <th>0</th>\n",
       "      <td>male</td>\n",
       "      <td>1000</td>\n",
       "    </tr>\n",
       "    <tr>\n",
       "      <th>1</th>\n",
       "      <td>female</td>\n",
       "      <td>1000</td>\n",
       "    </tr>\n",
       "    <tr>\n",
       "      <th>2</th>\n",
       "      <td>male</td>\n",
       "      <td>1000</td>\n",
       "    </tr>\n",
       "    <tr>\n",
       "      <th>3</th>\n",
       "      <td>female</td>\n",
       "      <td>1000</td>\n",
       "    </tr>\n",
       "    <tr>\n",
       "      <th>4</th>\n",
       "      <td>male</td>\n",
       "      <td>1000</td>\n",
       "    </tr>\n",
       "    <tr>\n",
       "      <th>5</th>\n",
       "      <td>male</td>\n",
       "      <td>1000</td>\n",
       "    </tr>\n",
       "    <tr>\n",
       "      <th>6</th>\n",
       "      <td>male</td>\n",
       "      <td>1000</td>\n",
       "    </tr>\n",
       "    <tr>\n",
       "      <th>7</th>\n",
       "      <td>male</td>\n",
       "      <td>800</td>\n",
       "    </tr>\n",
       "    <tr>\n",
       "      <th>8</th>\n",
       "      <td>male</td>\n",
       "      <td>300</td>\n",
       "    </tr>\n",
       "    <tr>\n",
       "      <th>9</th>\n",
       "      <td>male</td>\n",
       "      <td>1000</td>\n",
       "    </tr>\n",
       "  </tbody>\n",
       "</table>\n",
       "</div>"
      ],
      "text/plain": [
       "   Gender  Principal\n",
       "0    male       1000\n",
       "1  female       1000\n",
       "2    male       1000\n",
       "3  female       1000\n",
       "4    male       1000\n",
       "5    male       1000\n",
       "6    male       1000\n",
       "7    male        800\n",
       "8    male        300\n",
       "9    male       1000"
      ]
     },
     "execution_count": 86,
     "metadata": {},
     "output_type": "execute_result"
    }
   ],
   "source": [
    "df_sub1 =data[[\"Gender\",\"Principal\"]]\n",
    "df_sub1.head(10)"
   ]
  },
  {
   "cell_type": "code",
   "execution_count": 87,
   "metadata": {},
   "outputs": [
    {
     "data": {
      "image/png": "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\n",
      "text/plain": [
       "<Figure size 864x720 with 1 Axes>"
      ]
     },
     "metadata": {},
     "output_type": "display_data"
    }
   ],
   "source": [
    "plt.figure(figsize =(12,10))\n",
    "sns.boxplot(x='Gender',y='Principal',data =df_sub1,palette ='Set3')\n",
    "plt.show()"
   ]
  },
  {
   "cell_type": "code",
   "execution_count": 88,
   "metadata": {},
   "outputs": [],
   "source": [
    "import statsmodels.api as sm\n",
    "from statsmodels.formula.api import ols\n"
   ]
  },
  {
   "cell_type": "code",
   "execution_count": 89,
   "metadata": {},
   "outputs": [
    {
     "data": {
      "text/html": [
       "<div>\n",
       "<style scoped>\n",
       "    .dataframe tbody tr th:only-of-type {\n",
       "        vertical-align: middle;\n",
       "    }\n",
       "\n",
       "    .dataframe tbody tr th {\n",
       "        vertical-align: top;\n",
       "    }\n",
       "\n",
       "    .dataframe thead th {\n",
       "        text-align: right;\n",
       "    }\n",
       "</style>\n",
       "<table border=\"1\" class=\"dataframe\">\n",
       "  <thead>\n",
       "    <tr style=\"text-align: right;\">\n",
       "      <th></th>\n",
       "      <th>sum_sq</th>\n",
       "      <th>df</th>\n",
       "      <th>F</th>\n",
       "      <th>PR(&gt;F)</th>\n",
       "    </tr>\n",
       "  </thead>\n",
       "  <tbody>\n",
       "    <tr>\n",
       "      <th>C(Gender)</th>\n",
       "      <td>1.088919e+02</td>\n",
       "      <td>1.0</td>\n",
       "      <td>0.009068</td>\n",
       "      <td>0.924191</td>\n",
       "    </tr>\n",
       "    <tr>\n",
       "      <th>Residual</th>\n",
       "      <td>4.130903e+06</td>\n",
       "      <td>344.0</td>\n",
       "      <td>NaN</td>\n",
       "      <td>NaN</td>\n",
       "    </tr>\n",
       "  </tbody>\n",
       "</table>\n",
       "</div>"
      ],
      "text/plain": [
       "                 sum_sq     df         F    PR(>F)\n",
       "C(Gender)  1.088919e+02    1.0  0.009068  0.924191\n",
       "Residual   4.130903e+06  344.0       NaN       NaN"
      ]
     },
     "execution_count": 89,
     "metadata": {},
     "output_type": "execute_result"
    }
   ],
   "source": [
    "model = ols(\"Principal~C(Gender)\",data =df_sub1).fit()\n",
    "anova_table =sm.stats.anova_lm(model,typ=2)\n",
    "anova_table"
   ]
  },
  {
   "cell_type": "code",
   "execution_count": 90,
   "metadata": {},
   "outputs": [
    {
     "name": "stdout",
     "output_type": "stream",
     "text": [
      "Multiple Comparison of Means - Tukey HSD,FWER=0.05\n",
      "==============================================\n",
      "group1 group2 meandiff  lower    upper  reject\n",
      "----------------------------------------------\n",
      "female  male   1.5699  -30.8555 33.9952 False \n",
      "----------------------------------------------\n"
     ]
    }
   ],
   "source": [
    "from statsmodels.stats.multicomp import pairwise_tukeyhsd\n",
    "# perform multiple pairwise comparison (Turkey HSD)\n",
    "m_comp =pairwise_tukeyhsd(endog=df_sub1['Principal'], groups =df_sub1['Gender'],alpha=0.05)\n",
    "print(m_comp)"
   ]
  },
  {
   "cell_type": "raw",
   "metadata": {},
   "source": [
    "tu cac ket qua Turkey HSD cho thay 0-chap nhan H0 "
   ]
  },
  {
   "cell_type": "code",
   "execution_count": 91,
   "metadata": {},
   "outputs": [],
   "source": [
    "#categorical & continous\n",
    "# \"Gender\" co bi anh huong boi \"terms\" ? Anova oneway"
   ]
  },
  {
   "cell_type": "code",
   "execution_count": 92,
   "metadata": {},
   "outputs": [
    {
     "data": {
      "text/html": [
       "<div>\n",
       "<style scoped>\n",
       "    .dataframe tbody tr th:only-of-type {\n",
       "        vertical-align: middle;\n",
       "    }\n",
       "\n",
       "    .dataframe tbody tr th {\n",
       "        vertical-align: top;\n",
       "    }\n",
       "\n",
       "    .dataframe thead th {\n",
       "        text-align: right;\n",
       "    }\n",
       "</style>\n",
       "<table border=\"1\" class=\"dataframe\">\n",
       "  <thead>\n",
       "    <tr style=\"text-align: right;\">\n",
       "      <th></th>\n",
       "      <th>Gender</th>\n",
       "      <th>terms</th>\n",
       "    </tr>\n",
       "  </thead>\n",
       "  <tbody>\n",
       "    <tr>\n",
       "      <th>0</th>\n",
       "      <td>male</td>\n",
       "      <td>30</td>\n",
       "    </tr>\n",
       "    <tr>\n",
       "      <th>1</th>\n",
       "      <td>female</td>\n",
       "      <td>30</td>\n",
       "    </tr>\n",
       "    <tr>\n",
       "      <th>2</th>\n",
       "      <td>male</td>\n",
       "      <td>15</td>\n",
       "    </tr>\n",
       "    <tr>\n",
       "      <th>3</th>\n",
       "      <td>female</td>\n",
       "      <td>30</td>\n",
       "    </tr>\n",
       "    <tr>\n",
       "      <th>4</th>\n",
       "      <td>male</td>\n",
       "      <td>30</td>\n",
       "    </tr>\n",
       "    <tr>\n",
       "      <th>5</th>\n",
       "      <td>male</td>\n",
       "      <td>30</td>\n",
       "    </tr>\n",
       "    <tr>\n",
       "      <th>6</th>\n",
       "      <td>male</td>\n",
       "      <td>30</td>\n",
       "    </tr>\n",
       "    <tr>\n",
       "      <th>7</th>\n",
       "      <td>male</td>\n",
       "      <td>15</td>\n",
       "    </tr>\n",
       "    <tr>\n",
       "      <th>8</th>\n",
       "      <td>male</td>\n",
       "      <td>7</td>\n",
       "    </tr>\n",
       "    <tr>\n",
       "      <th>9</th>\n",
       "      <td>male</td>\n",
       "      <td>15</td>\n",
       "    </tr>\n",
       "  </tbody>\n",
       "</table>\n",
       "</div>"
      ],
      "text/plain": [
       "   Gender  terms\n",
       "0    male     30\n",
       "1  female     30\n",
       "2    male     15\n",
       "3  female     30\n",
       "4    male     30\n",
       "5    male     30\n",
       "6    male     30\n",
       "7    male     15\n",
       "8    male      7\n",
       "9    male     15"
      ]
     },
     "execution_count": 92,
     "metadata": {},
     "output_type": "execute_result"
    }
   ],
   "source": [
    "df_sub2 =data[[\"Gender\",\"terms\"]]\n",
    "df_sub2.head(10)"
   ]
  },
  {
   "cell_type": "code",
   "execution_count": 93,
   "metadata": {},
   "outputs": [
    {
     "data": {
      "image/png": "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\n",
      "text/plain": [
       "<Figure size 864x720 with 1 Axes>"
      ]
     },
     "metadata": {},
     "output_type": "display_data"
    }
   ],
   "source": [
    "plt.figure(figsize =(12,10))\n",
    "sns.boxplot(x='Gender',y='terms',data =df_sub2,palette ='Set3')\n",
    "plt.show()"
   ]
  },
  {
   "cell_type": "code",
   "execution_count": 94,
   "metadata": {},
   "outputs": [
    {
     "data": {
      "text/html": [
       "<div>\n",
       "<style scoped>\n",
       "    .dataframe tbody tr th:only-of-type {\n",
       "        vertical-align: middle;\n",
       "    }\n",
       "\n",
       "    .dataframe tbody tr th {\n",
       "        vertical-align: top;\n",
       "    }\n",
       "\n",
       "    .dataframe thead th {\n",
       "        text-align: right;\n",
       "    }\n",
       "</style>\n",
       "<table border=\"1\" class=\"dataframe\">\n",
       "  <thead>\n",
       "    <tr style=\"text-align: right;\">\n",
       "      <th></th>\n",
       "      <th>sum_sq</th>\n",
       "      <th>df</th>\n",
       "      <th>F</th>\n",
       "      <th>PR(&gt;F)</th>\n",
       "    </tr>\n",
       "  </thead>\n",
       "  <tbody>\n",
       "    <tr>\n",
       "      <th>C(Gender)</th>\n",
       "      <td>23.125093</td>\n",
       "      <td>1.0</td>\n",
       "      <td>0.361473</td>\n",
       "      <td>0.548085</td>\n",
       "    </tr>\n",
       "    <tr>\n",
       "      <th>Residual</th>\n",
       "      <td>22007.256410</td>\n",
       "      <td>344.0</td>\n",
       "      <td>NaN</td>\n",
       "      <td>NaN</td>\n",
       "    </tr>\n",
       "  </tbody>\n",
       "</table>\n",
       "</div>"
      ],
      "text/plain": [
       "                 sum_sq     df         F    PR(>F)\n",
       "C(Gender)     23.125093    1.0  0.361473  0.548085\n",
       "Residual   22007.256410  344.0       NaN       NaN"
      ]
     },
     "execution_count": 94,
     "metadata": {},
     "output_type": "execute_result"
    }
   ],
   "source": [
    "model = ols(\"terms~C(Gender)\",data =df_sub2).fit()\n",
    "anova_table =sm.stats.anova_lm(model,typ=2)\n",
    "anova_table"
   ]
  },
  {
   "cell_type": "code",
   "execution_count": 95,
   "metadata": {},
   "outputs": [
    {
     "name": "stdout",
     "output_type": "stream",
     "text": [
      "Multiple Comparison of Means - Tukey HSD,FWER=0.05\n",
      "============================================\n",
      "group1 group2 meandiff  lower  upper  reject\n",
      "--------------------------------------------\n",
      "female  male   0.7234  -1.6433 3.0902 False \n",
      "--------------------------------------------\n"
     ]
    }
   ],
   "source": [
    "# perform multiple pairwise comparison (Turkey HSD)\n",
    "m_comp =pairwise_tukeyhsd(endog=df_sub2['terms'], groups =df_sub2['Gender'],alpha=0.05)\n",
    "print(m_comp)"
   ]
  },
  {
   "cell_type": "raw",
   "metadata": {},
   "source": [
    "tu cac ket qua Turkey HSD cho thay female - male chap nhan H0"
   ]
  },
  {
   "cell_type": "code",
   "execution_count": 96,
   "metadata": {},
   "outputs": [
    {
     "data": {
      "text/html": [
       "<div>\n",
       "<style scoped>\n",
       "    .dataframe tbody tr th:only-of-type {\n",
       "        vertical-align: middle;\n",
       "    }\n",
       "\n",
       "    .dataframe tbody tr th {\n",
       "        vertical-align: top;\n",
       "    }\n",
       "\n",
       "    .dataframe thead th {\n",
       "        text-align: right;\n",
       "    }\n",
       "</style>\n",
       "<table border=\"1\" class=\"dataframe\">\n",
       "  <thead>\n",
       "    <tr style=\"text-align: right;\">\n",
       "      <th></th>\n",
       "      <th>Gender</th>\n",
       "      <th>age</th>\n",
       "    </tr>\n",
       "  </thead>\n",
       "  <tbody>\n",
       "    <tr>\n",
       "      <th>0</th>\n",
       "      <td>male</td>\n",
       "      <td>45</td>\n",
       "    </tr>\n",
       "    <tr>\n",
       "      <th>1</th>\n",
       "      <td>female</td>\n",
       "      <td>33</td>\n",
       "    </tr>\n",
       "    <tr>\n",
       "      <th>2</th>\n",
       "      <td>male</td>\n",
       "      <td>27</td>\n",
       "    </tr>\n",
       "    <tr>\n",
       "      <th>3</th>\n",
       "      <td>female</td>\n",
       "      <td>28</td>\n",
       "    </tr>\n",
       "    <tr>\n",
       "      <th>4</th>\n",
       "      <td>male</td>\n",
       "      <td>29</td>\n",
       "    </tr>\n",
       "    <tr>\n",
       "      <th>5</th>\n",
       "      <td>male</td>\n",
       "      <td>36</td>\n",
       "    </tr>\n",
       "    <tr>\n",
       "      <th>6</th>\n",
       "      <td>male</td>\n",
       "      <td>28</td>\n",
       "    </tr>\n",
       "    <tr>\n",
       "      <th>7</th>\n",
       "      <td>male</td>\n",
       "      <td>26</td>\n",
       "    </tr>\n",
       "    <tr>\n",
       "      <th>8</th>\n",
       "      <td>male</td>\n",
       "      <td>29</td>\n",
       "    </tr>\n",
       "    <tr>\n",
       "      <th>9</th>\n",
       "      <td>male</td>\n",
       "      <td>39</td>\n",
       "    </tr>\n",
       "  </tbody>\n",
       "</table>\n",
       "</div>"
      ],
      "text/plain": [
       "   Gender  age\n",
       "0    male   45\n",
       "1  female   33\n",
       "2    male   27\n",
       "3  female   28\n",
       "4    male   29\n",
       "5    male   36\n",
       "6    male   28\n",
       "7    male   26\n",
       "8    male   29\n",
       "9    male   39"
      ]
     },
     "execution_count": 96,
     "metadata": {},
     "output_type": "execute_result"
    }
   ],
   "source": [
    "df_sub3=data[[\"Gender\",\"age\"]]\n",
    "df_sub3.head(10)"
   ]
  },
  {
   "cell_type": "code",
   "execution_count": 97,
   "metadata": {},
   "outputs": [
    {
     "data": {
      "image/png": "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\n",
      "text/plain": [
       "<Figure size 864x720 with 1 Axes>"
      ]
     },
     "metadata": {},
     "output_type": "display_data"
    }
   ],
   "source": [
    "plt.figure(figsize =(12,10))\n",
    "sns.boxplot(x='Gender',y='age',data =df_sub3,palette ='Set3')\n",
    "plt.show()"
   ]
  },
  {
   "cell_type": "code",
   "execution_count": 98,
   "metadata": {},
   "outputs": [
    {
     "data": {
      "text/html": [
       "<div>\n",
       "<style scoped>\n",
       "    .dataframe tbody tr th:only-of-type {\n",
       "        vertical-align: middle;\n",
       "    }\n",
       "\n",
       "    .dataframe tbody tr th {\n",
       "        vertical-align: top;\n",
       "    }\n",
       "\n",
       "    .dataframe thead th {\n",
       "        text-align: right;\n",
       "    }\n",
       "</style>\n",
       "<table border=\"1\" class=\"dataframe\">\n",
       "  <thead>\n",
       "    <tr style=\"text-align: right;\">\n",
       "      <th></th>\n",
       "      <th>sum_sq</th>\n",
       "      <th>df</th>\n",
       "      <th>F</th>\n",
       "      <th>PR(&gt;F)</th>\n",
       "    </tr>\n",
       "  </thead>\n",
       "  <tbody>\n",
       "    <tr>\n",
       "      <th>C(Gender)</th>\n",
       "      <td>1.392493</td>\n",
       "      <td>1.0</td>\n",
       "      <td>0.038071</td>\n",
       "      <td>0.845417</td>\n",
       "    </tr>\n",
       "    <tr>\n",
       "      <th>Residual</th>\n",
       "      <td>12582.332941</td>\n",
       "      <td>344.0</td>\n",
       "      <td>NaN</td>\n",
       "      <td>NaN</td>\n",
       "    </tr>\n",
       "  </tbody>\n",
       "</table>\n",
       "</div>"
      ],
      "text/plain": [
       "                 sum_sq     df         F    PR(>F)\n",
       "C(Gender)      1.392493    1.0  0.038071  0.845417\n",
       "Residual   12582.332941  344.0       NaN       NaN"
      ]
     },
     "execution_count": 98,
     "metadata": {},
     "output_type": "execute_result"
    }
   ],
   "source": [
    "model = ols(\"age~C(Gender)\",data =df_sub3).fit()\n",
    "anova_table =sm.stats.anova_lm(model,typ=2)\n",
    "anova_table"
   ]
  },
  {
   "cell_type": "code",
   "execution_count": 99,
   "metadata": {},
   "outputs": [
    {
     "name": "stdout",
     "output_type": "stream",
     "text": [
      "Multiple Comparison of Means - Tukey HSD,FWER=0.05\n",
      "===========================================\n",
      "group1 group2 meandiff lower  upper  reject\n",
      "-------------------------------------------\n",
      "female  male   0.1775  -1.612 1.9671 False \n",
      "-------------------------------------------\n"
     ]
    }
   ],
   "source": [
    "# perform multiple pairwise comparison (Turkey HSD)\n",
    "m_comp =pairwise_tukeyhsd(endog=df_sub3['age'], groups =df_sub2['Gender'],alpha=0.05)\n",
    "print(m_comp)"
   ]
  },
  {
   "cell_type": "markdown",
   "metadata": {},
   "source": [
    "tu cac ket qua Turkey HSD cho thay female - male chap nhan H0 "
   ]
  },
  {
   "cell_type": "code",
   "execution_count": 100,
   "metadata": {},
   "outputs": [
    {
     "data": {
      "text/html": [
       "<div>\n",
       "<style scoped>\n",
       "    .dataframe tbody tr th:only-of-type {\n",
       "        vertical-align: middle;\n",
       "    }\n",
       "\n",
       "    .dataframe tbody tr th {\n",
       "        vertical-align: top;\n",
       "    }\n",
       "\n",
       "    .dataframe thead th {\n",
       "        text-align: right;\n",
       "    }\n",
       "</style>\n",
       "<table border=\"1\" class=\"dataframe\">\n",
       "  <thead>\n",
       "    <tr style=\"text-align: right;\">\n",
       "      <th></th>\n",
       "      <th>effective_date</th>\n",
       "      <th>Principal</th>\n",
       "    </tr>\n",
       "  </thead>\n",
       "  <tbody>\n",
       "    <tr>\n",
       "      <th>0</th>\n",
       "      <td>2016-09-08</td>\n",
       "      <td>1000</td>\n",
       "    </tr>\n",
       "    <tr>\n",
       "      <th>1</th>\n",
       "      <td>2016-09-08</td>\n",
       "      <td>1000</td>\n",
       "    </tr>\n",
       "    <tr>\n",
       "      <th>2</th>\n",
       "      <td>2016-09-08</td>\n",
       "      <td>1000</td>\n",
       "    </tr>\n",
       "    <tr>\n",
       "      <th>3</th>\n",
       "      <td>2016-09-09</td>\n",
       "      <td>1000</td>\n",
       "    </tr>\n",
       "    <tr>\n",
       "      <th>4</th>\n",
       "      <td>2016-09-09</td>\n",
       "      <td>1000</td>\n",
       "    </tr>\n",
       "    <tr>\n",
       "      <th>5</th>\n",
       "      <td>2016-09-09</td>\n",
       "      <td>1000</td>\n",
       "    </tr>\n",
       "    <tr>\n",
       "      <th>6</th>\n",
       "      <td>2016-09-09</td>\n",
       "      <td>1000</td>\n",
       "    </tr>\n",
       "    <tr>\n",
       "      <th>7</th>\n",
       "      <td>2016-09-10</td>\n",
       "      <td>800</td>\n",
       "    </tr>\n",
       "    <tr>\n",
       "      <th>8</th>\n",
       "      <td>2016-09-10</td>\n",
       "      <td>300</td>\n",
       "    </tr>\n",
       "    <tr>\n",
       "      <th>9</th>\n",
       "      <td>2016-09-10</td>\n",
       "      <td>1000</td>\n",
       "    </tr>\n",
       "  </tbody>\n",
       "</table>\n",
       "</div>"
      ],
      "text/plain": [
       "  effective_date  Principal\n",
       "0     2016-09-08       1000\n",
       "1     2016-09-08       1000\n",
       "2     2016-09-08       1000\n",
       "3     2016-09-09       1000\n",
       "4     2016-09-09       1000\n",
       "5     2016-09-09       1000\n",
       "6     2016-09-09       1000\n",
       "7     2016-09-10        800\n",
       "8     2016-09-10        300\n",
       "9     2016-09-10       1000"
      ]
     },
     "execution_count": 100,
     "metadata": {},
     "output_type": "execute_result"
    }
   ],
   "source": [
    "df_sub4 =data[['effective_date','Principal']]\n",
    "df_sub4.head(10)"
   ]
  },
  {
   "cell_type": "code",
   "execution_count": 101,
   "metadata": {},
   "outputs": [
    {
     "data": {
      "image/png": "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\n",
      "text/plain": [
       "<Figure size 1440x720 with 1 Axes>"
      ]
     },
     "metadata": {},
     "output_type": "display_data"
    }
   ],
   "source": [
    "plt.figure(figsize =(20,10))\n",
    "sns.boxplot(x='effective_date',y='Principal',data =df_sub4,palette ='Set3')\n",
    "plt.show()"
   ]
  },
  {
   "cell_type": "markdown",
   "metadata": {},
   "source": [
    "# 4 xu ly du lieu thieu\n"
   ]
  },
  {
   "cell_type": "code",
   "execution_count": 102,
   "metadata": {},
   "outputs": [
    {
     "data": {
      "text/plain": [
       "Principal         0\n",
       "terms             0\n",
       "age               0\n",
       "effective_date    0\n",
       "Gender            0\n",
       "dtype: int64"
      ]
     },
     "execution_count": 102,
     "metadata": {},
     "output_type": "execute_result"
    }
   ],
   "source": [
    "df_now = data[['Principal', 'terms', 'age', 'effective_date','Gender']]\n",
    "df_now.isnull().sum()"
   ]
  },
  {
   "cell_type": "raw",
   "metadata": {},
   "source": [
    "khong co du lieu thieu\n"
   ]
  },
  {
   "cell_type": "markdown",
   "metadata": {
    "button": false,
    "new_sheet": false,
    "run_control": {
     "read_only": false
    }
   },
   "source": [
    "# Data visualization"
   ]
  },
  {
   "cell_type": "markdown",
   "metadata": {
    "button": false,
    "new_sheet": false,
    "run_control": {
     "read_only": false
    }
   },
   "source": [
    "How many sample of each class is in our data set?"
   ]
  },
  {
   "cell_type": "code",
   "execution_count": 103,
   "metadata": {},
   "outputs": [
    {
     "data": {
      "text/plain": [
       "Index(['Unnamed: 0', 'Unnamed: 0.1', 'loan_status', 'Principal', 'terms',\n",
       "       'effective_date', 'due_date', 'age', 'education', 'Gender'],\n",
       "      dtype='object')"
      ]
     },
     "execution_count": 103,
     "metadata": {},
     "output_type": "execute_result"
    }
   ],
   "source": [
    "data.columns"
   ]
  },
  {
   "cell_type": "code",
   "execution_count": 104,
   "metadata": {
    "scrolled": true
   },
   "outputs": [
    {
     "name": "stdout",
     "output_type": "stream",
     "text": [
      "1 / loan_status \t  PAIDOFF       260\n",
      "COLLECTION     86\n",
      "Name: loan_status, dtype: int64\n",
      "2 / Principal \t  1000    258\n",
      "800      81\n",
      "300       3\n",
      "500       2\n",
      "900       2\n",
      "Name: Principal, dtype: int64\n",
      "3 / terms \t  30    184\n",
      "15    148\n",
      "7      14\n",
      "Name: terms, dtype: int64\n",
      "4 / effective_date \t  2016-09-11    166\n",
      "2016-09-12     87\n",
      "2016-09-14     31\n",
      "2016-09-10     31\n",
      "2016-09-13     20\n",
      "2016-09-09      8\n",
      "2016-09-08      3\n",
      "Name: effective_date, dtype: int64\n",
      "5 / due_date \t  2016-10-10    90\n",
      "2016-09-25    63\n",
      "2016-09-26    42\n",
      "2016-10-11    36\n",
      "2016-10-13    19\n",
      "2016-10-09    18\n",
      "2016-09-24    12\n",
      "2016-09-27    11\n",
      "2016-09-28    10\n",
      "2016-10-12     6\n",
      "2016-11-09     6\n",
      "2016-10-08     5\n",
      "2016-10-25     4\n",
      "2016-11-10     4\n",
      "2016-09-18     3\n",
      "2016-09-23     3\n",
      "2016-09-16     3\n",
      "2016-09-19     3\n",
      "2016-10-07     2\n",
      "2016-09-17     2\n",
      "2016-11-12     2\n",
      "2016-10-26     1\n",
      "2016-09-22     1\n",
      "Name: due_date, dtype: int64\n",
      "6 / age \t  26    29\n",
      "29    27\n",
      "30    27\n",
      "27    25\n",
      "28    24\n",
      "35    20\n",
      "34    20\n",
      "31    19\n",
      "33    17\n",
      "25    16\n",
      "24    14\n",
      "32    14\n",
      "37    11\n",
      "38     9\n",
      "36     9\n",
      "40     8\n",
      "39     8\n",
      "23     8\n",
      "22     7\n",
      "21     5\n",
      "44     4\n",
      "45     4\n",
      "42     3\n",
      "50     3\n",
      "20     3\n",
      "43     3\n",
      "46     2\n",
      "19     2\n",
      "41     2\n",
      "51     1\n",
      "47     1\n",
      "18     1\n",
      "Name: age, dtype: int64\n",
      "7 / education \t  High School or Below    151\n",
      "college                 149\n",
      "Bechalor                 44\n",
      "Master or Above           2\n",
      "Name: education, dtype: int64\n",
      "8 / Gender \t  male      294\n",
      "female     52\n",
      "Name: Gender, dtype: int64\n"
     ]
    }
   ],
   "source": [
    "\n",
    "list_columns =['loan_status', 'Principal', 'terms','effective_date', 'due_date', 'age', 'education', 'Gender']\n",
    "i=1\n",
    "for obj in list_columns:\n",
    "    print(i,\"/\",obj,\"\\t \",data[obj].value_counts())\n",
    "    i=i+1\n"
   ]
  },
  {
   "cell_type": "code",
   "execution_count": 119,
   "metadata": {},
   "outputs": [
    {
     "data": {
      "text/plain": [
       "loan_status\n",
       "COLLECTION     86\n",
       "PAIDOFF       260\n",
       "Name: Gender, dtype: int64"
      ]
     },
     "execution_count": 119,
     "metadata": {},
     "output_type": "execute_result"
    }
   ],
   "source": [
    "loan_Gender=(data.groupby('loan_status').count())['Gender']\n",
    "loan_Gender"
   ]
  },
  {
   "cell_type": "markdown",
   "metadata": {
    "button": false,
    "new_sheet": false,
    "run_control": {
     "read_only": false
    }
   },
   "source": [
    "**260** people have paid off the loan on time while **86** have gone into collection "
   ]
  },
  {
   "cell_type": "markdown",
   "metadata": {},
   "source": [
    "Lets plot some columns to underestand data better:\n",
    "- Use seaborn or matplotlib to draw some plots like that:"
   ]
  },
  {
   "cell_type": "code",
   "execution_count": 105,
   "metadata": {},
   "outputs": [],
   "source": [
    "import numpy as np\n",
    "from PIL import Image\n",
    "import matplotlib.pyplot as plt"
   ]
  },
  {
   "cell_type": "code",
   "execution_count": 106,
   "metadata": {},
   "outputs": [],
   "source": [
    "img1 = np.array(Image.open('Principal_Male_Female.jpg'))"
   ]
  },
  {
   "cell_type": "code",
   "execution_count": 107,
   "metadata": {},
   "outputs": [
    {
     "data": {
      "image/png": "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\n",
      "text/plain": [
       "<Figure size 720x360 with 1 Axes>"
      ]
     },
     "metadata": {},
     "output_type": "display_data"
    }
   ],
   "source": [
    "plt.figure(figsize=(10,5))\n",
    "plt.imshow(img1, interpolation='bilinear')\n",
    "plt.show()"
   ]
  },
  {
   "cell_type": "code",
   "execution_count": 124,
   "metadata": {},
   "outputs": [
    {
     "data": {
      "image/png": "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\n",
      "text/plain": [
       "<Figure size 432x216 with 2 Axes>"
      ]
     },
     "metadata": {},
     "output_type": "display_data"
    }
   ],
   "source": [
    "\n",
    "bins = np.linspace(data.Principal.min(), data.Principal.max(),10)\n",
    "g = sns.FacetGrid(data, col=\"Gender\", hue=\"loan_status\", palette=\"Set1\", col_wrap=2)\n",
    "g.map(plt.hist, 'Principal', bins=bins, ec=\"k\")\n",
    "g.axes[-1].legend()\n",
    "plt.show()"
   ]
  },
  {
   "cell_type": "code",
   "execution_count": 108,
   "metadata": {},
   "outputs": [],
   "source": [
    "img2 = np.array(Image.open('Age_Male_Female.jpg'))"
   ]
  },
  {
   "cell_type": "code",
   "execution_count": 109,
   "metadata": {},
   "outputs": [
    {
     "data": {
      "image/png": "iVBORw0KGgoAAAANSUhEUgAAAl4AAAE3CAYAAAB7Mk+JAAAABHNCSVQICAgIfAhkiAAAAAlwSFlzAAALEgAACxIB0t1+/AAAADl0RVh0U29mdHdhcmUAbWF0cGxvdGxpYiB2ZXJzaW9uIDMuMC4zLCBodHRwOi8vbWF0cGxvdGxpYi5vcmcvnQurowAAIABJREFUeJzsnXeUXcV9+D+3vLZv29umXe2uVgU1tCpIgEBgIUwRIuBCC+AYOzG2ITGucQpxfuE4OcQ+ieM4Tsg5iRPHRUHBNgQTiikCg1BBDSRksaxWWhUkbV/t7qu3/f5YZjTvagUSFqAV8+HosK/ce+feN/Od73zbGEEQBGg0Go1Go9Fo3nXM97sBGo1Go9FoNB8UtOKl0Wg0Go1G8x6hFS+NRqPRaDSa9witeGk0Go1Go9G8R2jFS6PRaDQajeY9QiteGo1Go9FoNO8RWvHSaDQajUajeY/QipdGo9FoNBrNe4RWvDQajUaj0WjeI94VxeuRRx7h6quv5sorr2TlypXvxiU0Go1Go9Foxh32qT5hV1cX3/3ud3nwwQeJRqPcfPPNLF68mLPOOutUX0qj0Wg0Go1mXHHKLV5r167lggsuoLKykpKSEpYvX84TTzxxqi+j0Wg0Go1GM+445YpXd3c3tbW18nVdXR1dXV2n+jIajUaj0Wg0445Trnj5vo9hGPJ1EARFrzUajUaj0Wg+qJxyxau+vp6enh75uqenh7q6ulN9GY1Go9FoNJpxxylXvJYsWcK6devo7+8nm83y5JNPsnTp0lN9GY1Go9FoNJpxxynPapwwYQJf+cpXuO2223AchxtuuIF58+ad6stoNBqNRqPRjDuMIAiC97sRGo1Go9FoNB8EdOV6jUaj0Wg0mvcIrXhpNBqNRqPRvEdoxUuj0Wg0Go3mPeKUB9drzkxyuRyWZWHbNr7vY5omhmHg+z6+72Pbo13JdV2CIMA0TfmdMIVCAcMwsG0bz/OwLEt+L5fLEYvFUEMP1XOIazqOQyQSwfM8AGzbljXjPM8jCIKi9wzDKDqn+E4kEgFG68+Jzy3LKvqOuA/DMHAc5y2vVygU5P2I5+L7vryueE+0x/M8CoUC8Xgc0zTxPE9eJxKJYJomY4VhimPFuTzPK3qt/jbq89VoToYgCIrG0Fjvib5oWZbsq+J99RjRF8V4ME2zSJaI84rvi2PVfu26Lq7rEovFjhl7UDyOxXHiOuL66j2Ypim/axiG/FwgzifOod5bWAaKcaaOV9d1pSxUcV0XQLZbjHnRBsdxjpGhY50rXDPT87yi5yneN00T13XJ5/NEIhEikQiO4+D7PolE4sQ7hOaUoBUvzQkhBrjv+3JwA0WDO5/Ps2XLFl577TWGh4cJgoBYLMaUKVOYPXs2TU1NRecSwi6dThONRolGo0WKhhB0lmXhui6GYUihIq5/5MgROjo66Orq4sorr5QCWW2vEJqqkibaoQp79ZiwohJuk0AVxkCRMHZdt+ha4v/iXsQ/IWhjsVhRmz3PY/PmzfT09LBw4UKqq6uPEbpC2KoTGIwqt77vS8VSozlZhNKhjld14TAwMEBnZyft7e10d3cDo2O1rq6OuXPnMnHiREpKSmSfVfs+IBcxYhy4risVH6FUiX4tSKfT7Nmzh507d7JkyRIaGhqwLEvKJDHGLcvCNE0cxyla6GSzWaLRaJFiIsZwEARSuRlLgVHHsDjOcRx27tzJSy+9RD6f5+KLL2bKlCmUl5cXLdhUZVO0MayMiTYIBUw9Tih1YymyTz/9NAMDA9x4443yuQm5IuSb+B2FIqoukMP3p3n30YqX5i0Rg1IIL6HAhBUK13V56aWXWL9+PXv37sXzPFzXJRKJcOTIEaLRKE1NTQRBIAWCEByqwBXCMhKJyOupypEQROL6g4ODbNmyhS1btrB06dIi5U1VktTVoLiOELSqEiSuqb5Wn0N4Rauu/FXlJzyZiOPUyUy8b9u2nITEOW3bxnVdNmzYwM6dO2lpaaGiokIqUqpgVVf5AmEB04qX5rdBtWYLy47gtddeY/369ezZs0cqSUEQUFtbi2ma1NTUEI/HiyZ0VXaElaqwdVYsXuLxuFQmMpkMHR0dPPDAA0yePJmGhgapbKhKhJAzQsEQY8V1XaLRqPyOuCdxrCpnVIVTXVCpFrDe3l42btzIo48+SkNDA7NmzaKxsbFI0Qov8MR9hj0C6vXCMsM0zWMUKfH+008/zZ49e7jhhhuk/FTli/iuYRjSip7NZrFtm0gkoneXeR/QipfmbVFXRmGlQ/x/aGiI733ve0ybNo3bbruN888/H9/3OXLkCK+88gq5XE4K2Xw+Tz6flwItGo1KBWFkZITh4WGSyaR0SxiGQVlZGZZlkcvlyGQyUmgdOXKETCaD7/vSyuM4DtlsVip+sVgM27al229kZEQKYcdxqK6uLhJu4ZWtuEdhaVNdGUJhFNfNZDJYliWtWOl0mqqqKkzTJJPJMDIyIjeQNwyDQqEgj4nH4wwPD8v2mqYpP7dtW55TuAjE7xKPx4FRN20ymQQgFotJN6awAmo0J4u68BChBjBqUV27di0dHR1cdtllfPzjHwdgYGCAjo4O9u7dW9QvC4UC+XwewzCIx+MkEglisRiO4zAyMkJ5eTm5XI5sNotlWcRiMTkeXddlYGAA0zRJp9NSWYrFYkQiEVzXJZvNHrOoKS0txTAM8vk8mUzmGAVDtXCp4x+QyplwbUajUfn9IAjk521tbRw4cIDZs2fzp3/6p5SVlWEYhpRTQtGJxWIyhCKbzUr5JRTWVCpFNpuVCzDXdamoqCAajeJ5HgMDA1KJErJCtZCr7s58Pi/vS8gssXAG5O+iK0m9f2jFS3PSqIMYIJPJ8Prrr1NRUcH8+fOZPn06vu+TyWQoLS1l8eLFuK5LoVAA4NFHH2X16tXs3r0by7K46qqrWLZsGa2trWzfvp1Vq1bhOA6Dg4O4rsvs2bP5yle+Qk1NDb29vaxZs4b/+Z//IRKJUF1dDYwKk3g8jmVZPPPMMzz88MMcPnyYIAi45JJLuPzyy2lsbOTFF1/khRdeYGhoCMMwqKyslAJTXUUKASiE8VhuAXVlLoT6f/3Xf9HX18fAwAAHDhzA930+9alPkU6n2bRpE52dnTQ3N3PHHXcwd+5c9u/fzw9/+EMOHjzIf/3Xf/HHf/zHfOhDH+Lmm28mGo1SW1tLTU0Ng4OD+L7P3r17efzxx1m9ejW5XI4ZM2bwsY99jMWLF1NaWgocdeEKZU0rXZp3gmpVVeOL8vk87e3tdHZ2UldXx5VXXgmMjpVUKsXcuXOZOXMm0WgUy7LYsmULjz76KL/5zW/wPI9zzjmHyy+/nHnz5rF582Yee+wxvv3tb/OHf/iH9Pb2MmfOHH7/93+f1tZWhoaGWLduHb/4xS/IZDKUl5cTi8WkNSyTydDe3s7Pf/5ztm/fTiaTYcmSJdx4443MmDGDZ555hs2bN7Nv3z4ymQyxWIyvfvWrzJkzp2hM5/N5fN8nGo3KRZQYP0LBMQxDKkK5XI6DBw/y4IMP8txzz2GaJhs2bOAf//EficfjPPvsszz22GPYtk1paSnXXnstH/nIR3Bdl9tvv53GxkaSySRtbW0cPnyYNWvWsHLlSp555hlyuRzXXnstK1asIJVK8corr/CDH/yA4eFh8vk8ra2tXHfddSxatEjGlMbjcemm3LBhA88//zyvvfYahUKBc889l4997GO0trbK+xXfHyusQvPuoxUvzduiDsxw8ClANpulra2NsrIy6urqKC0tlas81Zydz+d55ZVX6O7uprW1leXLl1MoFHjhhRdobGyktbWVAwcO8MILL3DLLbcwffp09u/fz9q1a9m2bRvnnHMOW7du5fHHH2fFihVUV1ezc+dOtm/fLgNE16xZQ2dnJ3PmzGHFihU4jsOaNWtYs2YNH/3oR+nu7uaVV15h3rx5XHTRRVRUVBCPx6XL0bIsMpkMP/rRj+ju7pYCPpfLEQQBJSUlTJkyhQsvvJDp06cXBesKC9/evXuZMmUKH/7wh3n11Vd5+OGHmT59OpdeeimO47By5Up27dpFU1MTqVSKD3/4wzLu4+yzz+bll1/moosuoqGhgUwmIxMO0uk0Tz31FPl8nttvv50gCNi5cye7du2ivLycRYsWFblpYew4Eo3mRBELEdUtZhgGu3fvpry8nJaWFpkYIibxWCwmrb47d+7ktddeo7S0lE9/+tMEQcDatWtZu3YtEydOxLIsduzYAcBNN93EyMgIq1atYsuWLVRUVDA4OMhPfvITFi5cyLRp0+jp6eHXv/61tL69/vrrbNq0ibKyMm677TYA2tvbefDBB7n77rsZGRlh165dxGIxbr31VuLxOFVVVdIaLixQjz76KNu3b6dQKEjru1BqamtrWbp0KZMnT6aiogLLsohGo1RXV3PuuecyMjKC53lcf/311NTUsHr1ag4fPswdd9xBEARs376d/fv3s379ehYuXEhPTw9lZWXMmzePOXPm8PDDDwOjC6bbbruNN954g0cffZTW1lZqa2tpamrilltuwfM8hoaGpKI5a9Ys6S0QiUZtbW20tbUxYcIEzjvvPHzf59lnn+Xll1+mvLycpqamY5IAtOL13qMVL81bEg6EDw9SkY3T399PJBIhHo9j2zbpdJr169czPDyM4zjU19czf/581q9fT3t7O9XV1ZSVlZHP59m2bRuTJ08GRoVdEATMnz+fpUuX8uqrr7JhwwYOHDhAXV0db7zxBrlcjmuuuYaysjJisRhdXV0MDw/jui4vvvgie/bsYeLEidKK1dHRgWVZ0sqVSCSYPXs2y5YtIxaLEY1GcRxHmv0Nw6C0tJRMJiOzpoSbIBKJyJW8KryEguP7PlVVVSxYsIDly5dTV1fHCy+8QGtrK8uWLSMIAv7v//6Pvr4+BgcHqauro6amhvb2dgAOHz7Mb37zGzo7O0mlUriuK12yBw4c4KWXXsKyLFpaWvB9n4MHD9LV1UVdXR0LFy6UE4poixrYrNGcDKorSlXgRWhBIpGgoqJCWlp27NjBgQMHGBkZIZFIcMkll/Dyyy+zZcsWABmPtXfvXoaGhujr6yuSKVdccYXc33dgYIBDhw7J5JnPf/7znHfeebS3t9PR0UFbWxuGYdDR0cG6desoKyujvr4e0zTp6Ojg0KFD9Pf3SzdbY2MjV1xxBZFIRMoYNZYzHo9TVlaG4zhybIvMw0QiIV2GcDTBqLy8nLPOOouuri5c1+Waa67hwIEDbN++nb179zJ79myy2Sz9/f2k02mSySSLFi0iEonQ2NjIokWLqKur49ChQwCkUimuvPJKOjs7+ed//mf6+/ullS0IAhlWsW/fPl5//XWy2awMIxC/wbZt29i2bRsVFRVUVlYCsGfPHqqrq5kzZw7Nzc3H/LZqyITmvUErXpoTQl35qlkyIuagpKSEQqFQlKm4bt069u3bx969e5k5cyazZs2ivb2dPXv2sG/fPtra2uSgFzET8XicKVOmUFdXRzKZpKSkhOrqavL5PIcOHcJxHCZNmkRDQwOe5zFp0iSmTZvG66+/juu6dHZ2smvXLgYHB9m5cyemaRKJRJgwYQL5fJ5oNMqkSZOkYiaEvm3bMu4sFouxZMkSRkZG5GdCSItg3/r6+qIYNGERcByHyZMnM2XKFCKRCC0tLaRSKWpra6murmZgYICamho8zyOdTtPT08Pq1avZuHEjN954I1u2bGFkZISuri5pvYpEIuTzebq7uxkeHqavr48nnniCQqFANptlypQpJBIJaQVQg3nDAcwazYkyVuC3iCVKJpOy/4m4ora2NjZs2MCuXbvwfZ/W1lY6OzvZs2cPAL29vcCoW6+urk7+XVtbCyAXQFOmTCEWizE0NMTQ0BDl5eXU19eTSCSoqqri7LPPZseOHfi+T09PD7t376a6upr+/n5832d4eJj6+noGBgakxaqurk7Gg4mFiYiRTCQSzJ07l0mTJhVlUItxZNs2DQ0NMkNTxJOKeDdh1fc8jzfeeIOBgQH27dvHL3/5S9LptJQ/JSUlUpmbPHkyTU1NuK5LY2MjABUVFZimSUlJCYCMEd2zZw+rVq2S2d/79+8nk8mQyWSoqKiQYRyO47Bnzx66u7s5dOgQXV1dUi6Vl5eTSCSKfkc1MUorXu8tWvHSnBBjZeCIVVNJSQmzZs1i7dq1DA0N4XkeVVVV/MVf/AX9/f18//vf54033pAC7+qrr+bSSy9l1qxZsuSC6saoqqqSWX1BEBCPx2VQ+fDwsBTglmVJ4Q+jK9NoNMqyZcv4xCc+QUtLC4ODg5SUlBCLxejr62Pz5s1SYIazM4VVa3h4mHvuuYc9e/bI64qA/urqahYuXMh1113HhRdeWJQhJYLeRVxMPp+X51cTEcR9pdNpOjs7+cEPfsB3v/tdAP7qr/6Khx56SAYMO44jXZ2maTJ37lxmzZrF9ddfL6+dy+XkRCGyOsX95fP5YzLLNJoTZax+EwQB06ZN47nnnmPfvn1y4XXDDTdw1VVX8eijj/KP//iPJJNJbNtm1qxZXHbZZVxxxRXAaEyokB+vvPIK5eXlAEXxZLlcjlwuVxRbJtz+cDRGqVAoMGnSJL761a8yY8aMYxJJduzYQSKRoLy8HM/zGBwcpLy8XJaUEPzwhz/k8ccflwvHaDRKNpvFMAwmT57MJz/5SRYtWkR9fT2RSITS0lKpuKm1ycRia+bMmXzmM5+R9yYC6bu6uvA8TwbHZ7PZIvkl5Kywuu3du5fNmzcD8K1vfYu6ujp+9rOfcf/999Pb2ysXcUJZ9H2fyy67jMWLFzN//nwZsyZCGdTaZuL+RQyb5r1DK16at2QsV5qqXMCo4jVnzhxZd6qpqYkFCxYUpZjDqFA6++yzee2116iurubss88mEolw6NAh4vE41dXVMuZCFbiO40hLVWdnJ319fXR1dZFKpdizZw9tbW1ypTpnzhz27dvH2rVrqauro6ysjEOHDmHbtjTZiwzHcHCtcEuUlJTw//7f/yObzY6ZXl5SUkJ9fb0sAAvIVG2hDAlFbnh4WN6HCMqNRqNSsSoUCiQSCSZOnAiMxqesX7+euXPnSjeoWFFPmjSJRx55hN27d9PX10cqlSIej8ssTRFr4ziOnBR0RqPmnaK6sNQkjUQiwbRp00ilUnR2dvLMM89w6aWXynpaosBpEARMnTqVI0eOsHPnTi6++GJp1RLjyXEccrkcUOz+CoKAyspKkskkXV1dvPHGG0ycOFEunoRS1NLSQmdnJy+88AKTJ08mEokwNDRENpuVVjVVmamsrCySXeJan/nMZ7juuuukzBLxXyIhaOrUqTKzWq3dJ8a1sE43NDSQy+Xo7e2VAfsiCSAIApkAI8aoCNaHo6VyhLzzfV9a/ZLJJNFolK6uLjo6Oujt7ZUWMtu2ZYbneeedx8MPP0wsFmPBggVFC9NoNCozGtXSGOI+NO8dWvH6LVAHb3gwnomEA7ZVN11lZSUf+chH2LVrF//7v//LY489JktFBEHAeeedJ61Rw8PDbNmyhf3798vCoRdccAEXX3xxUfV28SyFsI7FYsyZM4fOzk7uu+8+kskkR44cKfruhRdeiOu6bN26lYMHD8oU9nPPPZdFixZJAawWgFXfE39Pnz79mPsGjil+KF4HQUAul5N1j8QkpNY9EpmGQuglEgkaGhpoampi1apVzJ07l61bt1JRUXFMTF0kEqG2tpYLLriA9vZ2/vVf/xXLsigvL6exsZE5c+YwYcKEMX8fzalBdd2GazoJzuRnrpaWSCaTXHTRRWzcuJFnnnmG9evXy6SOdDrN0qVLicfjzJ8/n0wmw86dO/nud78rx2lraysXXnghhULhmGLMgMwmrK2t5eqrr+aJJ57gpZdekkqOcJu1traSTqfZuHEj9913n2znpEmTuOmmm4qSX8TiKFxGwTAMmpubaW5uLqovCBQpkqoLX6AWIgWoqqpi0aJFbN26lR/84AfSBSkWo8KNqlq+xxqv4u+amhomTpzIpk2b+O///m8Zw1ZSUlJU1wuQytaOHTtoa2vjO9/5DoVCgWQyybnnnsvcuXNJJBJFrsVw/9W8N1j33HPPPe93I8YLopOLyRaKq4wDRZPlmYC4H9UVONY/0zRpbGyU5vSuri4ZBzF79mzOP/986urqqK2tlcL50KFDDA8Pk0gkmDRpEi0tLYyMjGAYBgsWLKCyspJ8Pk8ul6OhoYGWlhYZ+7Vz507y+TyNjY1MnTqViRMnsnDhQmpqajBNk5GREVnWIR6PM3nyZCZNmiS3zJgyZYpUVN7uHlXUDC/1+zCaGHDkyBEmTZpEU1OTjNUYGBhg1qxZTJkyBYD+/n6am5uZOnUqtbW1eJ5Hb28vV155Jdu3b2fu3LlMmzaN5uZmMpkM8XicOXPmUFVVRU1NDY7jyCBm13Wpqalh0qRJsh6ZEKZiogi7iTUnTzhmTiQ9jDVZnmnPWi34KRQGy7JIpVKUlJQwMDAgk14Mw2DixIl86EMfYtKkSVRWVhKNRsnlcjI2yfM8GhoamD59ulwYLVy4UC5SBgcHmThxIs3NzdTV1dHc3CwD8svKypg5cyZ1dXUsWLCA5uZmSktLGRoaoqurS9b5qqysZMGCBTLGauLEibS0tADHl2GqLFP/DodCqL9vOp3GMAxqa2uZMWOGtKrZts3u3btJp9PkcjlSqZQcoyKru6mpSdbqmzx5Mul0mtraWlzX5eDBgyxevJgpU6YQj8fp6+uTBZGrqqqYOXMmixYtoqSkhP7+flKpFBdccAHl5eVEIhFZ7iKdTgPQ0tJCY2OjDNtQdwjQJWfee4xAV1E7YYTSJYK0xao3EokUVSoWfJA6s+hGIkBdBIWrsWDq9wSGYUhzvqjPo1oTRCCriH8Qrk5R1FB1gapCUcQ1qNmHIhGgv7+fWCwmi42qyrRaRPFk7vt4f4dXk2O1S9yvCPAXK3PxPIV1TLwWCQOi3WrSQz6fl9mXumr9qUP0RREjk8lkgFG3s7otDZxZJTxEnxJZfb7vk8/nZYFT8UxEn1OtYmrwtjpehaVHPDPVtRa2KqkKj7pPqsjoE21QXWYiPqyyslLGVonjTuVzUdsrxq/Y01bdkSNs0QsnKgm5JeLXxDMTlnOBun+j+F3UZyDaIL4n9pMdGRmRW7KFfz+VD9J89X6jFa+TQA2QVgWEOrDUCfeD1JHDJnhVYIrta4BjlAF1Ow7DMBgZGSGZTI7p0hMCSw1YVwW9UIiFYBITQrgAqohbAYoEvuBkJs7w3nMifguQCQKivY7jUCgUKCkpke31fV/GfYjJRWROqu5rOBpfp2ZQAsdYI8Qk+UHqf+82wsIl3N5hS4F4L1xceLwjJupIJFLknlIV/jCqe068FoqWGtvlOI5c/IgFmFh8CDkhyryIhZdAzawWz1vdEszzPLLZLMlk8l1xvatKlLgndRcLOFaOqMkuqqtRJL+IMhfZbJaysrIi63V4MRhWTEXMaGlpqeyLIsxDZJ4K16Tox2r7VaVZ8+6jFa+TQF3xig4rAiRhbGvOBwURiCoGeFj4qJYe9RiR+SdWd6IkRVh5EAJDTG5CcAmhJFadqsKlChfx24iVt+u6+L4vg03FNY4Xc3E8VKVNXQGLCSFsBROKk6qo2rYtt/ZRha3qvhaWgvAKW3weXgiI74Qtg5p3hvq7iIlNPFPhuglvZHwmIPqR+BuOZh+K98S4Vvu1WPCI76jjSs3+Dfd91QKuLjDEuFfHhWo1Fosd1VWouoJVxehUosZwhhfhom3q4lINxBeWqnBmpLq/pHouYUVT7120QRwbnpvEbxVWWgXHc6Fq3l10cP075HgxQOKzDyJhK4tQtsIp0nBUGAthqgpiIXiEMBHHqYJIvZ6aaam6HMOxTupr1QqmWpHE+U/mN1QnAlURUxVN1d0xVvvHsriFa+2ISSXsxlSVzrCCpS1fpwZ1rKvxMeF+dSY963AGczh+EI4Nzn6rOLewEqSOBYFQYsNWpLASpb4XHg/idxDWM9VKfqoIK1SiPaobUb1vdZEVtpIJl6T4jqg3FnYhqhZwNRxDfSbC7S0UVHGsWhw6LCfPpD47XtDL4JNAdFphEhaWGnWVJwbDB9GQOFamjLoaC1uShDlcFcBqrIgaVyOOV99XFRdVsEQikSJBJawRapalEMa+7xelt5+sEFJ/e3G/4XaLZzBW+nbYBat+V31mIm5DPDd1hSyuF7ZMiPvVgvXUoFoe1D6ouhfPpHEvlAsoTipRZZ34TF0AAWM+D+GCVK3UqntQtWqr76mFgYVCJWRG2PqlWnsF6vlOJaqsD5eEUP9WZaGwxKtWOvX5qJarsDVK3fhayCxh3VefXzgkQ1xbuMvD96CeQ/PeoC1eJ4nv+3R3d5NKpWR8AnDM5PtBdO2oglWtPwVHBbBYkYWFrCqcxhIYauq0Gm+jHq/GPKnKhpgwxXlzuZxUzoTpX7WAnYyiMtbqVrwvFFHVnaoWbRXuTrWAoRoPI56dKhhV5U3c21ixNuKYD2I/fDcIP/fh4WGCICCVSh1jjTiTOF4/E+NGtYCpCx3Rd1V3mKiuHo/HZZkFNd7INEfrzgkZIY4R5RfC/TkcLyqyKsV1o9GoHFsna8U+EUSCi0geEAkw4vmIeEuhXKoxbmo7VRkZTlAQcslxHPL5vHyWInkAiuMPhYxRrynaKhQ+cV1V6dL1/t5bdIzXSeC6Ln19faxcuZKlS5cyd+5caU0Jm53hzBPCb4W66gq70tT3hbBWgz2FYqIKBjWAGY4VFEJAqZYkNeZJbZdw0wkBp64cxepYVexOxgSvKkXqOVXhpyqC6ipXtSIIIS3uRbRRjatR720si4I6yYnXWvE6NahWHtM0+cUvfoHjOFx33XVkMhlKS0uPUTbGO+pYFv1WXVC81dQh4pnUGCZ1fIXrYxmGIZNjxrKmibGkKjoiSF0Eh4etZ+q4hqNj6FQ9G7WwrLi3fD4vFc+wDBGKZNgVKJ6BkFOinaoMDFsZVbe3sH6pRaFVOaQuTsU51HAM8f0zpd+OB7TF6yQQnXfjxo3MmTPnmFRhVfn4IE54qtKiPgvxf6FwCYRQVjeghWMzHYFjhBIUp1fDsbEP4rWabSR+GzFHdpPKAAAgAElEQVSRqNlaYQXuRAivXlVXivqZag0IH6taSMOZmOpkJY5R3wvHeISF6lgLAs3Jo1pcfN9n79690jIj9skcq4+Pd9QJXqDGMYWVKfUYKLYIqzFjY8VdCWVElauqsiUUCyEz1DERLukRHpfvRv9Xx7gYb2pSkLqAEu+p7VaVSjXWVc3OVivpq3Ge4nmqskIgvqeeE4rDItR5SzwjzXvHb6V4/fM//zOPP/44AJdccgl/8id/wp//+Z+zefNmaXb9whe+IPfoGu+IzjwwMFBUJiBsxtZGxOMPZMuyMHgzBsr3cX0Py7QwxfeDABDuizeFSXD0nGMLDBPPB9MA/Df/Ab4FPj6WCUYABD5QLCjHslCerKtRoLYpPOGo8UEqqrXsmOdkHFvTKGzpCrc5bK3TffHUYxiG3EdTjTdS43vONFQr14nep7p4CvdDVXFTrxGOixrrXKoFWbynlnUR76ucasVCtUSp7VAz3MP3LOYPKF4gHa/4thpLKBDPTT0+bMlSrzeWAWA8KlnhZzneLXXvWPFau3Yta9as4aGHHsIwDG6//XaeeuopXn31VX7605/KfbLORGKx2DETqGpV+CBau95uABQppp4HBGAGZAt5YnYM2wQbEwKwDIOAgCDwMQ0TDIiEVseGYRB907VTcCHvBtiGAX4wqqgZBoEBDh5gYGOMZpKYJhjGMfEh8Nu7IozjnHesGCz1GPW64ePHeq7h1Xz4s+OdW/POUSc38XuGle4zzbI41r2E+5TaF9/KUqwqHce7xvHGiarQjNUuddwdT3F7tzje7y2e0/HGn9o+NUQifIz6zNRnED6v+ruEn1X491IZT/JBjL3wYlT1qryTxfP7wTtWvGpra/mzP/sz+SNPmzaNgwcPcvDgQe6++266urq44oor+MIXvvCBVEQ0x8dzDVw/wLUsrHgZDqNGKhvAN8C3MHzA9sF23/JcAKZtELFNXAKwfALfJyDAwiJGBBMwCN60pmk0mjMRNaZM8G4E1WveX8KLURFSIRY/40GZPCXB9Z2dndxyyy2sXLmS73znO/zVX/0VZWVlfP7zn+eaa67hpptuOhVt1Wg0Go1GoxnX/NaKV3t7O5///Oe56667+PjHP1702VNPPcX//u//8i//8i+/VSNPF4IgYHBwkE9/+tPceeedXHXVVfL9cIr/ePU9vxc4TgbD87ANk8A08RwPwzSw4klcv4BvGDgEmIGFFbz96sUIPALPIeflCKJRTMsm4htEfTACm8AEzwTfNIgC+lfRvBNUV+O9996L4zjcc889wLF7hWreG9QiooBMnMnlcriuK/cuPV680+lCXV0d3d3d73cz3hdO5N7F7ycsW+GkJRFrads2JSUlp/VvDb9lcP3mzZv54he/yN13383v/M7v0NbWRmdnJ8uXLwc46QwxzQeDXOATGD4x08AIHEx8CN7MYsLDCkyMYFShsnn7dYGPQcGM4toGrmlgGQaGaRI1DHADDIw3lS1xLj05ajRnAuHyEQCFQoF0Oi1LuoyXhbCo0/VB5O3uXSheolZjOGlDZI+KLOPTnXesFR06dIg/+qM/4rvf/S4XXnghMNr57733Xi644AJKSkr4n//5n2OsYBpNIVJKIRgNfLfIjaY9GxYlgGNEiAQWtmeAWSCw3l4YGY5FPB8nHo/hGhAQYAaA7zMaxG+M6lpBAFha79JozkDUWldBEFBWVkYikRizvt/pSHNz8/vdhPeNE7l3tXZa2KJVKBTIZDLjRnl9x4rXf/zHf5DP5/nWt74l37v55pv53Oc+xy233ILrulx55ZVcc801p6ShmjOHSge8LOCZWKUJHBsyQAnQX/CpcCxigBGN4Ftv30UNy8B6c69rywOCAMcpMJRPU1pePprtGPjYQQDm6R94qdFoTh6R8SYm4Wg0KksyqDW+NGcOwuIl6p8NDw9TU1PzPrfq7XnHitc3vvENvvGNb4z52Sc+8Yl33CDNmU/eguc3/JpHH/gFhZFeckZA1oQHVt7PnZ/7JLG8ScwH3wT3RPQkGwwbzCzEfIiY4EcMzKoKvvpnf07LhEainoXhB3p3Uo3mDMJ13SLFSpRPiMVilJaWFhUv1Yx/wvUNxY4fYnuoTCbzfjfxhNABWJr3HivHno5XePGhVcxyHcpcKH1TLtY+/BgEFrZvEODhGm9frDGwDLBN7BEotRPkohadpsPu8ih3/tFd+BPAN0zd2TWaM4yxCleLmC6xT6MoMzEeygxo3h41sF7dEWQ8/b7jci4KV+iF4r3rxtqkeqztbMZ6/3jZiWNVIta8M6KBg5k9QlV6iNvrGphSsCh7M/DqnkgFRBJg+oALwdvX8fIDE8+3icchkUzRE7X4VW6A+/oHSPijVbw8I8C29KpXozmTGKuivrqBt/isr7efN/YfxPVz+AbYARiBgYOBYQSYQUCA2PTiROVEoHx31JpuG1GaJzVTO6GaAB8DEyM4Vjk0DIOenh727duHZVmcc8457Ny5k4qKCurr6+Wck8/n6e/v5+DBg0ybNo3y8nJZ4d/3ffbs2UNlZSWpVIrh4WE6OzuLLHzRaJSamhrKy8uLCqsODg7S19fHyMiIfI51dXVUVlYSjUbxfZ/Ozk4ymYysj+U4DvX19VRWVpLNZuno6JB7axqGQTKZpKmpSW539G4QLrir/v6intd4YFwqXup+eOE964SvV2ygCkf38lJ3gRcrIHVfK+CYzVjVVZNWvE4NdlBGmiRDBMx2PaL4FOw3B6rtYPkVeOYgo/mKx1aCD2MYPqZVIIhbpL0BknmXlJPmIFEMfBL4YIwqYBqN5sxDyHChJKgTv2VZvPDsWr5859c5kt1N1vSp9Exijs0hK4JtOSRdF9f3SRsGBCcyLY6qaaN7YgRgOXhRqIo08dff+mt+/45b8ckQpQQLC4OjcwqMlj94+OGH+dM//VOqq6tpb2/nS1/6Epdffjl33XUX8Xgc13Xp7OzkoYce4lvf+hY/+tGPuOSSSygvLyeXy5HL5bj77rtZvnw5H/vYx3j++ef50pe+RCKRkPNWQ0MDv/d7v8ell15aFMC+du1a7r//fjZs2IBlWZSWlvLZz36WFStW0NTURC6X495772Xr1q0EQUAikaCnp4e77rqLK6+8kt/85jd85jOfoaGhQe4luWDBAu655x6pfL0b2zSpc734zcPK2HhgXCpe6t5o4kEXCgVgdMsVdcd7QSQSoVAoYFkWtm1LTTlc7kL1IaumS3VfLo1Go9GMH/LOCMnsIb5dXktFIiDqR3C9GIOGRczN4PtZrIhNLJLAzJ5YnFCARcaMYRIQDxwy8Sh/29uPmx/GdAyino0RtyAw8IOj9aYAuUdjY2MjP/zhDwG4+uqr2b9/P48//jgrVqwgGo3S0dHByy+/zLRp09ixYwezZs0ilUph2zaZTEZa+cT/Fy5cyMc//nHmz59PoVBg3759rFq1isHBQa655hrq6upYt24djzzyCPPmzePOO+8kFovR0dHB008/zdDQELfeeiu1tbXYts2KFStYsmQJkyZNwvM8KioqqKioYOfOnZSVlfEP//AP1NfXY5omyWSSxsZGOX/quLrjMy4VL2H2DCtH4ocW7wmzoyi8pm7MGn4tlDjDMIr8xuI846EOjEaj0WiOxTNdjKjL4ngdKf8IBdcjF4AfjZL0PXJmgGlGiBHDjToncMaAhOUxjAMFl6TrYHhx/iEo4OJhGiZmEAHXJDCPLtjDYSzl5eWcffbZAMyYMYPe3l46OjqkV+fgwYPk83k+97nP8eKLL3LgwAFmzpwJjNa+ikQiRCIRaRRIJpNMnz6d+fPn43keTU1N7NixgwMHDrBt2zbOO+88nnnmGerr61m0aBHz588nkUjQ1NRER0cHIyMjtLe3U11djWEY1NfXM2vWLKZMmSJj5dSNuWfOnElLS0uRNWq8uPveT8aHXe44qHVbbNuWncFxHNlJhBIV1sBV16QaC6B+ripi6g7xGo1GoxlfmIaBhQ2Oi+HliRgFIkEeO8iRsAKi+AT5Aj7G2/4LMPB8DysA0zTwzAAz7+CayLqBrg0ewJtKSXjhrobLwNH5TMRYdXV1MTw8zMSJE1mxYgWDg4McPnxYxl2JOUocLzxBQjGKRCLU19ezbNky8vk8u3btIp1Os2bNGmbPns2sWbNkyY36+nrmzp2Lbdvs3LlTzou7d+/m+eef51e/+hW/+tWv6OvrY/SWDAqFAs899xyPP/44Tz31FFu3bpX3pY0Ub824tHgJS9dY1irP8+RKQPX127ZNPp8/xtWoBtB7nleUlqzRaDSa8Y/tQjTjcSQxBGaG0rhJNBIw6A2Rc9PEIzG8wCPvGkSC2NueLwgChvNRoolKSFiMJNJ4Ay6OZWFiAD65iINBhDgGitFLWo2CICCbzdLV1cXUqVN5/fXXGRoa4tJLLwVg+/btOI7DvHnziMVi1NbWcuTIEQ4fPizjqBzHkWE24SxOMfc1NDTgeR5DQ0M4jsNrr71GMpmkurpaBscHQUAqlcJ1Xfbu3Svb+dJLL7F161YqKysxTZOKigpKS0ulZevHP/4xiUSC0tJSzjnnHBYsWKDnzhNg3CpecLRgXj6fl8qUZVmUlJQUmXQdx8FxHNkxRadMp9PEYjEZdC+OCXec8ZSmqtFoNJrTBzUYXM3IFxalW265hQ0bNrBx40aWLVvGRRddRCwWY/PmzWSzWS666CKqqqq47LLLOHDgAK+99hotLS3EYjGpAKnWr5PNwA+CgEwmQ1lZGZWVlfT39wOj8961117Lhz/8YaZNmybjuIRBo6ysjO9973s0NDQAFCWvaeXrrRmXipewTonOJtJXxfsDAwN8//vf58CBA3LvJtM0+fznPy9XFg8++CC7d++mtraWiy++mEsuuYTKysqi84vibLoTaTQazfjFjRgUkjaVsQrK8zkK6QI5yyASqSARRHEdHz+wiGLhGG8f42UYAeXJAnn6CTIeZYUCMbOMiOvhEwAmiUIEDAPTBji2zJHv+9TW1vI3f/M3AHz5y19mwoQJmKbJyMgIu3btYseOHbz++utUV1fT0dHB8PAwjuNw6aWXyhAb4S50HEdm66vXeeONN7Btm4qKCiKRCK2trYyMjNDb20ttbS3RaJR4PE57ezv9/f3U19fL85WVlTFhwgTKy8uxbVsWrBXuzIqKClKpFHA0o1D1QGnGZlwqXsL/LFyCtm3LzTNhVFN/+eWXqaqqYsaMGcRiMaLRKMlkko6ODjZs2EB3dzfTp0+nu7ubHTt2UFNTw8UXX1x0Dc/ziqxhOqtRo9FoxiH+qOLjBHn8iEVgRnGDGJ4RxTY8cl4O0zKJx6KYXuFtT2cQYBg2DhYQYBoWhXgEO83oDhkBWF7AaDUcg9EqYcXWL9M0SaVSLF26FIBzzz0X3/dJp9O0tbURj8dpbW1l1qxZ2LbNlClTWLduHQMDAxw+fLgopkuUqlAVnkKhQFdXF08//TTRaJSZM2dSWlrKxRdfzKuvvkpVVRVLlizBtm0GBwfZsmULvu+zcOHCIkuaaK+IcxYKlgiiF1Y8YbDQCtfbMy4Vr3Dgu2VZshNEIhFKS0uJRCJcdtll3HDDDTLw3rIsHnjgAbZt28ZFF13Etddey9q1a1m/fj3r1q1jyZIlsgOJgaEVLo1GoxnfWIGN70R5LttDeTwgatp4rseAkyPm5Qj8LFbgEDF8zPzbK14AASZZ08QkQtyAjOGSNWJY2Pj4+KaLYUcwjNEiquEC3aZpFpUzEu/ncjlefPFFmpqaWLx4MUuXLpVhNP/2b//Gvn372LlzJ2effXZRcpjv+xw5coSdO3fKUJpDhw6xe/duli1bxty5cykvL+fyyy/nwQcfZPPmzRiGQTwe5/Dhw/T29jJ//nzmzZsn26lW/Rf/D1eOV68vjBXjpZ7W+8W4VLxEZ3Uch0wmQzKZlLW7giAgl8uRTqfp6+tjcHCQ8vJyXNclmUxy4MABjhw5whVXXEEsFmPJkiXs2rWL559/vmhbCXVQFAoFWfguk8nIlYBWyDSaDwaiGrqoBSjK2WgZMD5IJioxa6byl7lOcgWPCtck5uY5bEWwLZcSz8NzHEZyOQz/RKdFBwMPw/AJTAffSFOVaqKkNIVvB+RtjwgeFsbof28u5uGo8UAYBdT3AF566SU+9KEPMXXqVOLxODA6D82YMYOhoSG2b9/O7NmzKS8vJ5FISPfi7t27+fd//3csyyKbzdLc3MzNN9/M0qVLaWxsJAgCli1bRqFQ4Oc//zmrVq3CNE0SiQSf+tSnWL58OSUlJbiuS1lZGfF4XLZJVaYikQiVlZUyIQ1Gx4haBzNM+P2xqgy83TFhxms82bhUvASmaRKLxTBNk0KhIFNohXb+i1/8ghdeeIHS0lJWrFjBhz/8YYaHh0mn06RSqSKLltg6QSAGSaFQYOvWrTzxxBNs27aNaDTKjh07yGazUtsPb9wpjtdoNGcG7e3tPP300zz33HPEYjF27drFkiVLcF33mCLMmtOPS69YysNP/QzPz+MTYAYGJgaeYYIRYLxpvfEBy7Ip3g6I47wGMPD9UauQHbExsaiuqcF0wTDiWJaNwbFJW0EQ8NGPfpRly5bJ/iOUiKqqKr797W9TUlJCaWmpPCYSiXD++efT2tqK7/tUVVXxzW9+U37v0ksv5ZFHHpEeIGFsKCsro7S0FM/z8DyPaDTKkiVLmDNnDul0WlaeT6VSJJNJXNfF8zy+/vWvk0gkKC8vB4pdihdeeCEPPPCADKwX86W6nZHYsNx13aI50nGcou2LwoTnUPV84jqu68qxNx5riI1LiSGULKFoqVsHiB/trrvuIp/PYxgGvb29PPHEE5SVlTE4OCh/dNWtKDqEGjsmViQtLS1cfvnltLa2ksvl6Orqkmm4akChQJtZNZozi9raWi688EIaGhoIgoCnnnqKVCpVNJkKoa8VsdOP8ooyyivKjnlfzTBUs+XfDnVvSPU91XoF4DpHFXOhQAglpLq6murqanm8yEo0TVMGuKvb11mWRTKZlOUcDMNg4sSJ8viSkhKmTZtWdE+iPWqMVqFQkF4ioXSFA+INw6CxsVGeR91KD6CsrIzp06fL76olLITCFS71JOprirhpcUwkEpHWMvU8lmXJOVzEswllK1w4XSia44VxKSHUzqF2KFXxuuqqq+QP2dHRwerVq+no6GBwcBDDMBgcHCSVSo2ZGRmmrq6Ouro6giCgv7+fhx9+WF5L7YxqG7TFS6M5c0ilUlRUVDB//nwcx6Gjo6NoktAux/FH2EOhKiwncw6h3IiMv/AOKGMV3w5bc0T1+fBehMdzz4Ur4AvlaKydXNTrC4uUek71c/WZCGVP/SyMqtipbVOLwgolTDVqhM8ZLoNxvPuDo/spq0qummk5HhiXipca4CfMp4KwUib812LLA/GDdXZ2kkwmGR4exnVdWUwOin9sMZhs25apuyLmS62crw421e+t0WjGP2Jci81/8/k8uVxOTmLqKl1z+qFO6OoEry6ST1bxCitrqmXKNE2pUDmOI61AaqV60aeEFUhVHtTi4HC0Rlb4XsK1u8TcqAbFq6WXhLVIKGmWZVEoFGSMtGo5EhmKom2O4xTNvWK+E/1eLUquVh4Q9yqOFWWaoHjvSvX+xblVa6HrusTjcVmXU8zJIptThBmNB8alduA4juxwmUyGRCJRVLxNZHTE43EMwyCdTtPZ2cm0adOYN28evb29sgjd6tWrOXDgAHPmzJGdV3Q4oWgJVJOrKLzqeR4jIyOUlpYWdSKNRnPmoE4sgBT0alFmzemLKpPDVpe3+u5boZZvCIJAFjQV5whbX8R5xfxlWZbcaxGKXZxC0RDKiBqEH7YYqUqdQLRLrUXpui65XI5EIiGLjosaXkKRCZ9HJbxTDEA2myUWixUZGkQokBr+oyptolhr+PmErYeFQkHO4YZhkEgkAIhGo1KxFN9VXZHjgXGpeKnafzKZlKsI0bm6urr4t3/7Nw4ePCiLyjU3NzNv3jxqa2vZunUrK1eu5Mknn6RQKHDuuefy0Y9+VPqh1ZWrULQE6mpGdEBRzVcNttdoNGcOruviOM5xV9XivXCRTM3pwfHcinCs0nyiMV7iXEJJUstECDKZjCxwKo5TrToqYsEvlCV1ngOk8iLaLM6j1tsS1jPxvbH2bwSIx+Oy3WIbPaG0iLap51aLsqoWL6HUqcHvYeucGDfi+GQyWRQwr+6zLM4rlDb1OQVBwPDwMPF4XFqehRVafbbjgXGpeIX9wuEVgG3bLFy4kKlTp8qOOG3aNKZOnUpFRQWWZTEyMkImk6G0tJTZs2fT2NhY1JnDvnU4ugoRWR+q+RaQRVy14qXRnFmoqf9qtpYaMC3+fquMLc3pxzuZrNV5QizUxXmEAiNcYWoClug7qstTDYuBo6E0qrtOuB9VpUe9fjgOTBwr5ihVqSoUCsdY0MKB+MeLVRbnFv/CXh514SFcgkJJEuNFBPWH3bziO+qzy+VyUjFUA/PFsxyvYT3jr8UUr17CQXmWZVFRUSEtWGrHFtarlpYWPvnJT0pzq6pkqYNEjd1S47mguHOq9b90kK1Gc+ahWrpVF5A63vXYP70Jx2MJGT5WEPuJoCo8wrKkxhwbhnGM0iGU8vDWO2ob1bgstb3qHKPGQYn2C0UoPCeKY9T7HCuIPdwO4UpVr6vGp6n7TorPxb2r2ZiqO14tujrW+FHnV3EMIL1aQmlT71u9p/EyBsel4iVWl4DUhIVSFYlEigq6qQGC4Q6USCTkgFBNqUK4qgNFdMxYLEY8Hpf1wzzPk35ztR4L6FgvjeZMQUwKIrFmLOv2eFx5f1DI5XIMDQ0BSNmuWp+Ak564xWJeKE/CG1JVVUVpaSmFQkHGJYnvC4RlJxaLSddid3c3MKq05PN5UqkUsViMQqFAf3+/LGFkGKPV5svLyykUClLByWazVFdXF7k8DcOgp6eHkpISkskkMBoj5fs+2WyWXC53zCbblmWRSqWkYULEUos2i9g027bp6+uTSQKqoSISiUgXa29vr7wX13VJp9MMDQ3Je2lqaiKfz8tzi/2WHceRe0SKc/f09MjCrsK7pf52WvF6Fwk/YHXwqN9RVwUieFA9RnQy9X21Fo9q/hSDVPiZC4XRbSXUWmKqBUzHeWg0Zw5ilR2LxWRijbo/rDoBa04/nn76ab7xjW9QKBTI5/PHlFh4pxO3cH2JvjBhwgT++I//mOuuu67oe+H5Scw5+Xyeffv2MWPGDO666y56enqIx+OkUiluvfVWZs2axe7du/nRj37EwMAA2WyWSZMmsXz5cn73d38X0zRpa2tjy5YtHDp0iM9+9rOkUimZnWiaJnfccQc33HAD119/PbZtk81micfj7N+/n4cffphVq1bR3NxMJpMBYO7cuXzta1+jtraW4eFhXnzxRR544AF2795NSUkJEyZMYPr06UyfPp3HHnuMI0eOMDAwQCaToampCcdxmDhxIgsWLGDq1Kk88sgjfPGLX2T27Nn09fWxefNmfvKTn9Db24vv+6xevZr169czf/58KioqePnll/nBD37Azp07+cY3vsFFF11EJBLh0KFD/Mmf/Am33XYby5cvl8quML4AJBKJcWHwGJeKlyrgxgpoVN9XAynH8leL/4ddjepx4ZgtYR0Tn4+139bpTtjcrpq1YfQ+1qxZw3/+53+SyeTkJq+ngilBwI7duwniSdySBG6ugMmbG66aJRjkAQMCPYlpTg/GkjnhuJrxMvY/iAweOULHGz3ULrkJSuuwAwfbyeAHARF7tFJ9AZtCYBPzsyd0Ts838KwIphUhYpo4rsuedf9NX/dhTMMjGjFBkatCeYejrrjDhw/zL//yL3zve9/j6quvpq6uDoC+vj5KS0t56qmneOWVV1iyZAmTJk0iCAJef/11XnzxRcrLy7nwwgvJZrP09fWRTqdlHxW1KR3HYWBggJGRERkjJfqqKE46e/ZsbrzxRmmdS6VSVFZWEolEePTRR9m+fTsXX3wxN954I7FYjKGhITzPo6mpic985jP4vs9zzz3Hxo0buf7666mqqqKyspJoNEpXVxfd3d3k83mGhobYsmULK1eu5JJLLqGhoUE+j/vuu48vfvGLskh5X18fb7zxBq+88gotLS1MmTIFy7LYv3+/vE9VWRZzcDabHRdWr99K8frkJz9Jf3+/vOlvfvOb7Nu3j3/913/FdV0+9alP8YlPfOKUNFRlLCGnvn6rz97qnMf7brgacbiWyZlWQFHcy549e1j94INc7sGpTBcoWJDFxLBjGIDj+diMrhh9w8YwHIzAhFOo7Gk0vw1qKr26UAkv8LTydXpiBAFWJEpqxvkEqRYivkPEGcYPAizTxMQnb0TJESce5E/onDYBLiaOb+D5AVY0xvD6n+E6BQwCTMMYXT9y7Jwl3Hf79u1j48aNAFxxxRVyZ4Tu7m7a2tro7OzEcRyuvPJKGhsbsW2bpqYmHn/8cVatWsVZZ50l5ydh5QoHrauhN4BUvkSQ/fTp01m2bBmlpaXSs+P7Pp2dnbS3t2NZFpdddhnTpk3Dsix6eno4cuQIZWVl1NTUEAQBPT09HDx4kHPPPZepU6eSSCQ4fPgw+/fvl/e+Z88eXn31VcrLy7nkkkuYOnWqfB6mabJp0yZSqRQwmnU5f/58Xn31VaZPn05LS0uR10q1MIcLqo4H3rHiFQQBnZ2dPPvss/JhdHV18ZWvfIUHH3yQaDTKzTffzOLFiznrrLNOWYM1p46wsioGrFofpcJxuLs8ReIUTij74hHyeY/t6QKRTA7XKWDaysowCDDNN3c407qXRqP5LTEMiJgmMcui4AejcsW0CQKTvOsQwQfLxzIDME5kWgyIUCBiGfjZPPlsnkSiFsMADJMAi8APwBqVY0KhUetU9fX1sW/fPrkfo1C6AOrr69mwYQO2bTN37lymT59OPp/HsizmzJlDLpfjvoljQCQAACAASURBVPvu44477pAbWYe3zVETv1SlRA3ByWQyHD58mO3btxOLxbAsi8rKSpqbm9m0aROmadLa2iotTgDV1dVUVVW9+VwNWbJJnFMoQSImUvDaa6/R2dnJRz7yERobG4uyf6+++mrWrFnDzJkzKSsrI5FIsHjxYp544gna29tZvHgx+Xy+KLZaLQAr7kskM5zuvGPFa/fu3QD8wR/8AYODg9x0000kk0kuuOACKisrAVi+fDlPPPEEX/jCF05NazXvCmNZ60RcnOMUMIwChnnqOnOTXcKkbEBnOo/JaDpwRAmS9HyXABML5AazGo1G807xPJ9s3sF1ArzAwrQjBETwfJuMM0KJ4WCbUaJ2hEhh+O1PGPgMjQxSVl5BaSJCxB5NvDINEzDBjBAYAT5g+D5mKKTDNE2OHDnC4cOHmT9/vnxPFDkVMYTJZJKamhoAWaA1Go3K4P2RkRGy2SyZTIZ4PE5JSUlREplap0vEsqXTaZLJJCUlJaTTaX7+85/z61//msrKSizL4uyzz+bv//7v6ezsJJFI0NjYWFSbS1XiRFvV4rHi2vF4nJqaGqmYdXd309PTQ1NTE/F4HBhVQKPRKLNnz5bxYslkEtu2SaVStLa2Mjw8zKZNmzj//PPJ5XIARUqbKKgqAvzHg/fJCN5hK7du3cr999/PX/7lX+I4DrfddhsrVqygUCjwla98BYCf/exnbNu2jb/+678+pY3WaDQajUajGY+8Y4vXOeecwznnnCNf33DDDfzt3/4td955p3xvPFWSPRGCIGBwcJBPf/rT3HnnnVx11VXyffVe1aD105VwLTQoDiAOgoD/+I//4Dt/+Ec8WFd/Sl2NeA4/HRniuVyOH6fKKUTjWGZA896D7KlpIWYHWNboajE4AYuXj49PQMS3CLAwTJdnC2n+yI2yYcNqps+YAYE5GjdmgDaiad4Jasbyvffei+M43HPPPcDRgo6n85j/IBAEgQwmb25ulu+v/MlKvvz1bzLn9+8lE0kReAUsI8CLVRD4AaVGDtMvkPcCjBNwNQaGgRctIZtJY+OQiEbIBTZt//lF7vnaZ/nSl7+MFQR4TgHTtDDedL2p+zJ2dHSwevVqfvWrX/HQQw8VbUHk+z6//OUv2bZtG/X19dx+++0yrslxHDZv3sytt97Kj3/8Y0pKSli/fj2HDh3ia1/7moyTglGL0kc/+lGuv/56br75ZsrKyoDRbX22bt3KunXr6O/v58tf/rJ0H4pt8H75y1/S3t7O2Wefzc033yxjqdR6W+L1Qw89xJNPPslnP/tZZs+eTWlpKYcPH2bNmjWsXLmSu+++m7a2NtatW8fVV1/NsmXLZAV7y7J48skn+elPf8rHPvYx6urquP/++zn33HO56KKL+PWvf82GDRu4/PLL+f73v8/XvvY1rr322qL6maZpMjw8TG9vLy0tLad9aZd3HI22adMm1q1bJ18HQUBjYyM9PT3yvZ6eHpmloTn9UCeKcCr10WBhiAQF7FP4z7ADfNukYEA+apI3wXnz2lHTImbZGAEyI0ij0Wh+G1wijFDCEdciiMSIxBOYkSh53yAX2GR9k1xg4ZkRPNN623++YeK6BXBzRPw8CdMjbvlvhkdA4AcEnocVuKhRGupiN5VK0dzcLOt3HTlyZLStrkt/fz+VlZU4jkNbWxsDAwMycP7AgQO8+uqrzJs3j8rKSgqFAtlsdjRk4836WsKtqZZbECUv1N0WxFZBamFT0cazzjoLz/PYs2cPXV1dwOi8MDw8THd3t6ztFXbvqRmHohxTEAQ0NTVRV1fHpk2b6Ovrw3EcGZ/17LPPMn36dBobG+W5IpEI8Xics846i/r6ep544gmZiSlKQalbKI0HF6PgHauFw8PD/NM//ROrVq3CcRweeugh/u7v/o6vf/3r9Pf3k0gkePLJJ7Wb8TTleFmgYT+9GUDCM06pxStjG/imgWuAaxgEhon55mVjZhTL8sgVsviAZY2fTBWNRnN6YpkGtumT6TtAiTNCzHDAdfC8KJ4ZJedlsAKHwIpQMEve9nwGAbafJxrkiZouXsYk78ex/QKWYeAHAYHrYhZymIaNGbGKtgIyTZOqqipmzJghk882bdrEWWedheM4HDhwYLTdlsWhQ4fYuHEjkydPxjRNXnrpJbZs2cLNN9/MxIkT2bVr1/9n783D7arre//Xd1hrT+ecTCSEhBCMDFGBpoYwtCjqTwYRCqXKY7VaWqz9cdVW7/M4FLkX7FX03lrbp09tsdXLr1VUEOs8lSpWlIqCEgYZlQRCICSB5Ex7r+H7/f7+2GetrHOScDawE7IPn9fznGQPa33XWnvv9V3v9RnJsoydO3eyYcMGRkZGAMoG2J1Oh61bt7Jx40Z27NhBnucMDw+TJAlpmjI2NsbGjRsZHR1FKUWtVmPBggUcd9xx3HDDDdx///386Ec/4phjjqFWq/HII4/Qbrc5+uijgW7trBACnU6nFFnVvsVFsdNVq1axefNmrrvuOtavX8/Y2BghBI499li++c1v8uEPf5gjjjiCe+65pxzXGMMxxxzD1q1bueaaa0iSZFo/5WpC2CA1qn/GwuuVr3wl69ev57zzzsN7zxvf+EbWrl3Lu9/9bt7ylreQZRmve93rOO644/q5v8I+YE+pzsX/DpggwvfRP5dnjpBD8AryblBqTU21igAcnkQ7VFB9LWMhCMLzk2HdZnlyP4//xydojz5BnLWxASaUJh5ZiG+P49Ju4Hath7kuKE3HLCIoIGQobQjDK1juRhluWLRWmFqMjjTOMy3br91ul5apgw8+mAsvvBCAj3/842X9rsMPP5xzzz2X17zmNRx++OH89V//NRMTEzjnWL58Oa94xSt47WtfS6vVotVqMTExwWc/+1m+9a1vlZagtWvX8tGPfhSAa6+9li9/+ctl8djTTz+dI488kk2bNvGFL3yBO++8s7RSrVq1ire97W0ce+yxvPGNb+T666/n05/+NOPj46RpysjICKeccgpr166l1WqV2ysq7hfWtEJoFk2tly9fzimnnMLk5CT/+I//yNjYGEopbrzxRt7znvdwwgkn0Gq1Ssvc1q1bcc6xcOFCDjvsMFasWMHOnTvLwPqi+n7RNaZIIBgEd/+zcoS+613v4l3vete018455xzOOeecZ7VTwr6n1wr7SoEyeV9/zDVlqGGJMdSJ0Fh03jU5d9odTKQIdYtyQP7UYwmCIMzGSaeeypWf/zxbzAhRltJwE5iQk6kGPm6QdzoQPDaKnsZFUQM5hBynDJ14IQvdFl549EvIPWQu0LAWbXb1MTTGEMdx6Y6r1+usWbMGgMsvv7wsGRFFEStWrGBoaIgVK1Zw9NFHl265VqvFkiVLmDdvHkopVq1axZvf/GZOOukkms1mOafPnz+fRYsWcdlll5FlWRkfZozhoIMOYmRkhE6nw5lnnkmr1SqFV6vV4gUveAFaa5YsWcJZZ53FscceS6fToeg/uXDhQhqNRnkNOfnkk1m1ahUrV64sMxwXLFjAiSeeyLJly0pr3ZIlSzjttNM45phjppWaOO2001iwYEFp4Vq0aBEjIyMsXrwYrTWrV6/mIx/5CKOjo7zoRS8qrVxFKY3ielbtcXkgc2BHoD1L9vQFFP7h4guaWePk+US1dtfMopDVJqb9jkc3vjtarkFriPKcELoKK4vB+EDsFPjetuqVIdMG8kAzxCTK0wY0GociOLoxY8Vws5yXgUCmwOQQFCRWkQOtHKzrFtQPEXi6U+/z89cjCAcO1YDvmfGq3nsWH7yMxcuWMUlEjCIKKSrkeFXDK42fKi5qrO1trguhO7sERze9R5OqmNhPElSEA4KeipNF4ZneoqiYW621Zfmlk046qdz/IjZLKcXIyAjLli3ba9LWyMgIq1ev5sgjjyyLo1aP/+STTy6D9qs9GYuxXvziF5fbrVIE+x966KEsX758Wi/GqjsRujXIli5dOm3sWq3G0qVLOeigg8r16vU6K1asYOXKldO2d/DBB5ePizph1WOdP39+WU6iWn2/oHg8KO7GOS28YLrbbGabgZkdzp9PzHa8pRgNoLxC9VOcesgDpCoQlEfnGbnqCi/fsOg8I8q6wqaXWTCg8F7jckdNWdJgSBUYVHcCnDoXgwpTE2UPu6g82oFXmsxqOkDDdXc8GPAWvJ/KAlUivQThuaC40M4UG9WWbt3XNVZZhosFVAzEGKa6cjzdLDilAFsWW9VAHcB0G1EboBpVr/cwR+xNPBRWpT0tvzeqgeYzl63W4HqqsWa+Vl2vKAC7t+d7G0cptdv2i/WeSbeZwlpYLFPEexXf96Bcx+e08Kr2x5rZ2qPaesA5d8Cnnwp7x+Q5tSzBeIWNatS0p5F7LAFHwJmAIuBVIKLT0x1tLeSgNEZFDAWDJaB1RogcQYEPYDOFihogCQCC8JxQeC6iKCov6FEUEUVROe/vTSAIg0dVTFctboWVrbASHujMabVRrUtVnHyF0IKuepaTcg5gA9QDTht2pm2cytFa4aYM/Jnq3pEaNDB7xlII4FzAAA5FO1N0XEAToW3AWXDAkEGsXYLwHFK9YS48GVmWMTk5WQZiF/P8IFyQhaem2pex+p0mSUK73SZNU4nxeq6pNrUunhfKeE/mTmEwsT4Qpw7iiPGJSSID81REA0PDW6zTaBRGddPAZ0MBRgeU1hg09QCRUliVk+ucHNDegLN9baUkCMLTY2YdwsLqUfTss9ZOczsKg83MWpPV67i1lmazORDf9ZwWXgXVnlWFBUxrXWZ4yIk52IQQcAHqcQMXewKeLAScsajcY8LUBB3A6d7uhrrh9N1A2zgAOoDOCSEj8mCCkQL4gnAAUpQWyLKMPM8HIo53wYIFPPnkk8/1bjwn9Hrs1ZiumQlhRcLcnmLjDkTmtPCqZl9Ui64BpUm66o4UBpNcaVIdYUyEGxmh7To8mbTZmXnu+eWdTLTH8dYQANeDxQtAhw5KGYzXaNfNbsTkKJ93y1/YFplSvODwlcyfN7JPj08QhD2zp7ZnRUX2JEnodDplrNeBPM+L8HrqYy/ci0WB1kJ4FW2Uoigq3coHssAumNPCq+pqbDab5Hle+oiVUjSbs8f7CAc+dSLquWL0vodwIyOYBTG2bpjYuZX//ta3MJ55xrTHRQqd9PCTV+B1DiFgfLeERA44DY0AQ1EDOzSfLVHOtZ/+v5xz+hn7/BgFQdidasXy4ka7VqtRq9WAbkkE2HXhPpB5wQte8FzvwnPG0zn2aqmjIsB+EL7fKnNaeAGl2KrX6xhjyiJrxRdVKGYJsh9cRq3j8bpiBQdTG2mSunGaO0Y5vOO4pH4Ih8cxjpzJkKIas1u8AtCOUow2WKdQQZEPx7RdwtBEIMoiHsosn9zxOPUk2fcHKAjCHqmGicyc26vvH+iuRnh+xxvPduzVgt9VgVVc04u/QRFgc1p4hRC45557+P73v8/Q0BBnnHEG8+fP59e//jU33ngjo6OjLFy4kOOPP57jjz/+ud5d4RkSAE+g7jXtiQmcnQTr8T5wdKPGaqVwBtqRoZb34moM5MoSKYsJiizARC1iMncsziyxblC3is54Tj4AGTSCMFepxvporXcroDkookvonep3PNOFPCjf88AKr6p5uVoItcrjjz/Orbfeyre+9S1qtRrHHXccO3fuLJuMVn3FhxxyyF6rA89MTy1O9GJZ4bklCqAceJeQ5B1c05Nby7juoKKUjIzMOvLYEPdY2diGgPUB7QM+OEICxnVrIurIE2nFk0qRzj6UMAeZmU1XPK6+J+w/9lSMVObnucWersnF9z5oHqsD3ya3B6qV54tsBudc+bwInL/lllu49957WbFiRdlm4JZbbuGOO+7gDW94Ax/72Md49atfzeOPP84Pf/hDgGljVB/PrIpcLAu7q27Jkty/aK+wuWay7tDNGjY0oROT2YDJOljybnHVdkQIBmb5C0HjlKKjNKlRGBMwacpwHuOVI2UnzWQHKmcq6l54PlFYV4wxZcZ0dc4Qnjuqriaxds0dimts8X+1CfcgMpDCC3aJm6KnlTGGPM9JkgSlFNu3b+f+++/HOccJJ5xQlpPYvHkzW7du5aSTTmL+/Pkcc8wx1Ot11q9fD+yq+ZWmKZOTk8CuE7jIjtxbbZgsy6Y1/hQEYe7gvSdJEtI0LSf+PM+Joqi84A9CfIkgCM8tA+lqLALii8dF9WJrLc45xsbG+PrXv06tVuP4448nyzIA2u020O3u3mq1cM6xaNEi4jhm69at0zIkCnEVQuDWW2/llltu4aGHHiLPc+666y7a7TbOufL/VqtV3gFXMycFQRh8HnzwQW6++WZ+/vOfE8cxP/3pTznuuOPKuadoKDxoLg9BEPY/Aym8CutT0d29KnCyLOPhhx/mV7/6FevWrWP16tXcd9991Ov1sqVAIZCK+h/e+1KUVbdR3L02m00WLVpUWrTiOC7dm4PoXxYE4ekRxzELFy5kxYoVWGuZN2/eNItXNb1drF6CIDwVAym8ihRS6Fq5irtNgLGxMe666y6eeOIJtm3bxkMPPcSDDz7I5OQkGzduZMuWLWVRPWMMWZaVtV8KCxfsSl+11rJ69WpWr15NCIEnn3ySH//4x+VkW6/XAUq3ZyEGBUGYOyxbtoxly5bx6le/mjzPGR0dJUmSMtShyKgT4SUIwmwMpEKoipsQAuPj49RqNay1jI2N8fOf/5yf/OQnfO973yPLMnbs2FHGX2zbto2VK1cCXffA+Pg49Xqdww47DNiVOVENyiysY9XaMLVajTiOCSGQpilRFGGtLV2NIr4EYe6hlCJJEkZHRwFoNBplYk+1JZkgCMLeGEh1UPTfKuKohoeHywlv+fLlvPWtb+UP/uAP8N7z5JNPcscdd/CFL3yBt73tbTzwwAPcd9993HLLLaxZs4af/vSnPPTQQ6xatWpaleNqOnLhmoSuta3dbpMkSelqdM4RRRGwe4ajIAiDTyGuoiii2WzSaDTK2NFifthbWRtBEIQqAym8qtWIq30YrbXU63VWrlxZLrNlyxa2b9/O4sWLWb58OYceeijee6688kqOPPJIHn74YVatWsUpp5wyTTDN7IJexJTtqV7MzDgzQRDmFjPPe+89eZ6XYQ7VEgaCIAhPxUAKL2NMeQdaLWZara8D3UmwVquxdOlSTjvtNBYuXMiiRYuYnJzkkUceIcsyjjjiCNatW8eRRx5ZuguqFNsoCCGU6ePFNop4r+J9mXwFYW5RtWTPbDlWvREUBEGYjYEUXtCd/Iqg+GazOa3ERCHAlFKMjIzw0pe+lJNPPrl0Uf7Wb/0WJ5988m4TaKfTIY7jMlajWhqieB5CmBbLURVaUrlaEOYmVWFV3NBVCzqCnP+CIPTGwAqvIqaqYGbl+IKi0CGwW8B71bqltabZbO62neo6xSS7p5o9MwWYTL6CMPcoMp2rpWVAznlBEHrnGQuvL37xi3z2s58tn2/atIlzzz2XdrvNrbfeSqPRAOAd73gHp5122rPf0xnMnOT2Nun1+vqelpv52p56Nu7pdUEQ5hZFSEPBTOuWWLsEQeiVZyy8Xv/61/P6178egPvvv5+3v/3tvOMd7+AP//AP+exnP8uSJUv6tpOCIAiCIAhzgb7UPbj88st597vfTaPRYPPmzVxyySWcc845/N3f/Z00jRUEQRAEQZjiWQuvm266iU6nw2te8xq2bdvGSSedxBVXXMG1117LLbfcwnXXXdeP/RQEQRAEQRh4VHiWAUp/9md/xumnn87ZZ5+923vXX389X/nKV/jEJz7xbDYhCIIgCIIwJ3hWWY1pmvKzn/2Mj370owDce++9bNiwgTPOOANgzvUtDCGwY8cOLrzwQi6++GLOPPPM8vU9ZTUe6IG2M4vEznz+qU99ir+++L/xjYOW0OhjNX7jNZ+cHOfr6ThfPmgR9dySq4ylmzfz68OOYCjP8OR4FKjZt+sAj2I4OCaVJgTFD5NJ3j6xne8ML+WFUSDVmizUiMiZ7VsJBIJyECKsD9iQsdOCDS0ilaFDxkMZnP3ENv75S9dx7rm/05fPRTiwqTbBvuKKK8iyjMsvvxxAqtYLgtAzz+pqeu+993L44YeXZRhCCFxxxRXs3LmTLMu45ppr9klGoyAIgiAIwiDyrMxRDz/8MEuXLi2fr169mre97W38/u//Pnme79UFKQiCIAiC8HzkWQmvs846i7POOmvaa29605t405ve9Kx2ShAEQRAEYS7Sv8AdQRAEQRAE4SkR4SUIgiAIgrCfEOElCIIgCIKwnxDhJQiCIAiCsJ8Q4SUIgiAIgrCfEOElCIIgCIKwnxDhJQiCIAiCsJ8Q4SUIgiAIgrCfEOElCIIgCIKwnxDhJQiCIAiCsJ8YWOHlvcc5N+15CGHan/ce7325jHOufB5CoNPpkOd5uX6SJOX73nvyPN9tXO89xphy+yEEAJRS5TJKqf31MQiCsB+onufOOaIowlpLlmXlOV/MD4IgCE/Fs+rV+FxRiCGgFF/FxFdQiJ8QAs65ae8Xoqq6fLGcMWY34VQVXjOfVyfkmfsgCMLcoRBYxU1X8benOUMQBGFvDKTwqt5hFqIKpoufRx99lE6ng/cepRStVouFCxdirWVsbIzHHnuMKIqIooh58+YxPDyMMaa8a9VaY4wpt1fcyWqtS0tYsc08z6dNvsX6giDMDYqbveI8T5KEJElKIVbMPSLABEGYjYEUXlrr0rIURREA27dvxxjDvHnzSNOU//E//gd33nknWmuWLFnCsccey0UXXcS8efP4wQ9+wD/90z8xOjrKIYccwnnnnccFF1xAo9GYZsmqCjprd31UWZaVljbvPWmaUq/XZeIVhDlK1SJurS3nnTiOAcqQBbF+CYIwGwMpvKp3mMVkODIygnOOLMuIooh3vvOdtNttvPds2bKFz3/+8/zyl7+k3W5z3333cfbZZ3PMMcfw4x//mM2bN3Pbbbdx8sknl2MWsVyFBa2YTJ1z1Ot1arVaadWqWreqcWCCIMwNtNbled5ut0mSZFroQggBrbWILkEQZmUghdeeAtmttaUlTGvNi1/8Yqy1eO+55557ePLJJ3nyySe555572LJlC+973/s4/PDDAbj55pu56aabOOGEEzDGlBPonixYxfhFnIcxhiiKSsFWvC8IwtyhGjOqtSaOY/I8J01TrLXTwhTkpksQhKdiIIWX1rqM7SrEVmEFK0SRUor77ruPTZs28eijj9JqtRgaGmJsbIyJiQmOOOIIQggcddRR3HHHHdx1111lbFZVdDnn2LZtG1u2bGHnzp1MTEywfft20jSdltVY7IdkNQrC3GN0dJRHH32UrVu3opTi8ccfZ968eeWcUU20EQRBeCoGUnhVzfohBPI8L5977+l0OjQaDb7xjW/wxS9+EWMM69atY8WKFRxyyCFkWUae5zjnqNVq1Go1gGkZS0opjDG0221uu+02/v3f/5277roLay0PPPBAuUy73SbPc+bNm1da2OSuVxDmFg899BDf/va3ueGGG6jVavz617/m1FNPpV6vA924T2OMnPeCIMzKQAqvdruNtbYMbLXW7pbZCPAnf/InnH/++TzwwAP87d/+Lffeey/bt28nhEAcx4QQSJKELMsYHx8vBV0R26W1ptVq8bKXvYw1a9bQbrcZGxvj0ksvpdVqYa1laGgI6Fq8ipo+xX4JgjA3OOqoozjkkEM4//zzMcZw1VVXEUVRGVMq57wgCL0ykMIriqLSpZjneZlhVFibarUaSqmyTEQURRx99NE88cQTbNmyBWstSZJQq9XYsWMHaZoyMjJSCq6qeHPO0Wg0yozHHTt2lNsDpt3hFo/F1SgIc4tarVaWninK0xRWLudcGdcpMZ6CIMzGQM4QRWmHag2vIs6riLEqXIAFhRux2WxijOGBBx4gyzJ+9atfkSQJRx555LTlq/Ea1aD5QvAVYxbLVt/fl/Ee1XIXRQHHZzrOzDFnjl9Y/RAdKQhl+EEhtqqCSxAEoVcG0uIFu1K4q3FVhbjasWMHDzzwQGnB2rRpE4899hjr1q1j7dq1bNy4keuvv57JyUl++tOf4r1n7dq1ZFmGtbYUIUW9niRJgF1lI6qB/AXVoPp9HWBfCM5qgkF1u71uu1qAtjpGFa0VorwEoUu1eHPxuJiDpI6fIAi9MJDCqxBcxePJyUmMMcRxTLvd5he/+AVXXnklDz30EGmaUqvV+O3f/m1OPPFEFi1axPXXX8+HPvQhPvOZzzB//nzOO+881qxZQ6vVAiBNU2CXZa1aw+e5phBLhYu12MeiBZLWelqx19nGGhsbo9lsEsfxtAtHYUHMcwchgFxQBEEQBOFZ09MVenx8nDe84Q1ceeWVHHroodx000185CMfIUkSXvOa1/Dud78bgLvvvpsPfOADTExMcPzxx/PBD36wZxHwdKjWzLLW0mw2S0tNs9ksMxiLgPl6vc7Q0BCtVos4jnn1q1/N6tWrCSEQRRELFy5keHgY2NXupyq0DoS72CzLgF1WuGpCAUyPNeu1Ua9SijiOp9UgKiiSDKIoEtElCIIgCH1iVlW0fv16Lr30UjZs2ABAp9Phkksu4TOf+QyHHHIIf/qnf8p//ud/cuqpp/Ke97yHD33oQ6xZs4ZLLrmEa6+9lje+8Y193+lq2YdCPMGuwNbh4eEyGL6IyfDek2UZSimazSYLFy4six9Wy1IUbrdqW6IDwYUw0+JW9Iwsjr8Qo0DPKe0hBGq1Whmzkud5WVqjEGLeP7MYMkEQBEEQdmdW/9m1117LZZddxpIlSwC4/fbbWblyJStWrMBayznnnMN3vvMdHnnkETqdDmvWrAHg/PPP5zvf+c4+2elqPEURa1HEfMGuOKWq6HLOEUVRKTJmxjLNDCgvxixioA4E4VXdL9iVxVnwdAL6i+MtLJLVhIHis+xuKwBSGFIQBEEQ+sGsFq8Pf/jD054//vjjnf/CgAAAIABJREFULF68uHy+ZMkStmzZstvrixcvZsuWLX3c1V0UlqyqG7OIyypKTVQD4avZf4WA8t6XlrIiW6latb5qITuQ4ruq/eFmBvc/XbduMVYhLqMoIoRQJhl0P0cJrhcEQRCEfvG0A7AKa1NBYSXa2+v7gj250ooK0ntatlfX28yYqT2tt2DBAr761a/utl513X1x3HuyulX37+lusyooq3XJABqNBgAXXXQRF1100TPZ3Vn5n1N/M1n10APPatyFU/+/aeqvXxw04/lS4PE+ji8c+BQ3aAAf+MAHpr13oNycCYJw4PO0hdfSpUvZunVr+Xzr1q0sWbJkt9e3bdtWuif7TWG9Kia7wtpViKWqGKyuU1jCilpcY2NjNBqNaeng1XGr5RkK9+TY2BgXXnghF198MWeeeWa53J7KSfRTgFXdiNXyGYWVrmqd62W7M7MXq8+NMSRJwr/8y7/wyfe8ly8OjdDo47EYr/nk5DhfT8f58kGLqOeWXGUs3byZXx92BEN5hifHo0DNfkFzgEcxHByTShOC4ofJJG+f2M53hpfywiiQak0WakTks9rvAoGgHIQI6wM2ZOy0YEOLSGXokPFQBmc/sY1//tJ1nHvu7/TlcxEObIpzRWvNFVdcQZZlXH755QBSTkIQhJ552sLrN37jN3jwwQfZuHEjhx56KN/4xjf4vd/7PZYvX06tVuPWW29l7dq1fPWrX+XlL3/5vthnYLpwKITSTOGzpzpbRRA9QBzHu607c8yqe++5nFRnBvprrbnxxhu59dZbSdOULMue9l138XnMfA26Yva2226T4HpBEARB6CNPW3jVajU++tGP8s53vpMkSTj11FNLy8/HPvYxLr30UsbHx3nJS17CW97ylr7vMOzudquWVqhag6rLVutdFXetVfdkteL8TBG2p23ub7wPoAJGda1AwTuu/4/r+fwnPsHKJMW5AEZ3rTWut3ISqIBSBgs4PC6AwqDIIcBjzmOVkjpegiAIgtAnehZe3//+98vHJ598Ml/72td2W2b16tVcd911/dmzp+CpamzNVuz0qQLQ9xSrVY2j2ldtgHpCGxQZkOJoYIyik7Q5Jkv553nz0ERMWgUEoh50V8ATlIdQp+5SMu1oa0sUmkRqjOAVV092+PTkhMTWC4IgCEKfkIhQQRAEQRCE/YQIL0EQBEEQhP2ECC9BEARBEIT9hAgvQRAEQRCE/YQIL0EQBEEQhP2ECC9BEARBEIT9hAgvQRAEQRCE/YQIL0EQBEEQhP3E065cfyCxp3Y3/SpyOrMwa3Xcahuh57SoqiAI+4XqOT/z9ZmPpV+jIAhPxcBbvLz3ZQNroOzFWLQGKibM6sTpvSdJkmnrFw21q2PtjTRNy+VDCGRZVr63twlaEITBpZgn9tTbtXhfzntBEHphYC1ehfAp2vwopUrRVG3zM3OCzLIM5xxxHAO7ejTO7M+Y5zkhhN1aDCmlaDabWGsJIeC9J89zjDHlGE+3WbUgCAc2xRyTpinOOZxz0+YMrbVYugRB6ImBVgghhLI348xm1kWz7OpdaDFpFusUQq3qoiwm0OJvpluxEGTVZtyF6MrzvJyQZRIWhLlDMWcopaaJrMISVsw5zrnneE8FQTjQGVjhVRVW1b+ZE+JMl2DVilWsX4xVXbbaILu6nTzPSdO0HEtrTRzHMvEKwhymmAOstdRqtWlzSPFeYQkTBEF4KgbS1VhMct770tpUnfjiOJ72ep7nADSbTZIkYXJyklarNW3yrFq/CktWFEXTtqu1pl6vU6/Xp7kzi/WK8STIVhDmFlmWkWUZcRxjrS3nn2oowsywBEEQhD0xkDNFlmUopajVagC0222stVhr6XQ6PPjgg3zhC19gw4YNdDodWq0Wp5xyCmeeeSYLFizgrrvu4qqrruKRRx5h4cKFnHHGGZxzzjkMDQ0BTHM7AmWgfuGedM5hjMEYg/eeyclJms1m6fIslhUEYW4QRRHW2t3CDwoKd6Oc94IgzMZACq9icissU9baaRaoKIp4wQtewPLly4miiNHRUb773e9y2GGH0Wg0uP3222m1Wrz2ta/l0UcfZdOmTfzsZz/jFa94RTl21QUJ7Bb3VQTpV12Ne5uUBUEYbIr5oEiqKSzsWZaVr0lspyAIvTCQwqtq6g8hlC7B4vFBBx3EK1/5SoaHh2k0Gjz44IN8+ctfZtOmTWzfvp1Nmzbxyle+kle96lXccccd/OAHP+BHP/oRp556armNatxYIcaq7k2gnIjjOC4nZhAXoyDMRWZmMUdRVJ7zYu0WBKFXBlJ4Ve8uq0H1WmuiKCKKIkZGRgBKt+DIyAhaazZs2MD27dtZu3YttVqNI444gptuuolf/OIXpaCqxmgZY2i324yOjjI+Ps7OnTtLwVXNpqxOwDLxCsLcIs9zxsbG2LlzJ1mWkaYpzWaTKIrKuajIapbzXxCEp2IghVee59OyDmdSFU6dTodHH32U++67j2XLltFsNtm4cSMHH3wwWmsWLlyItZbt27cDu9yXhajK85z/+q//4pvf/Cbr16/HGMM999zD5ORkOdkWrs49WckEQRh87rvvPr75zW/y3e9+l1qtxqOPPsqrXvWq0sJV1A8Ua7cgCLMxkMLLGINzrhQ9VatXCIEkSajVajjn+NnPfsbnPvc5LrjgAg4//PAyQFZrXU6aMwshwi5Xo7WW4447jsWLF7Njxw46nQ5XXHEFtVpt2rozi7DOJTwK38fxmlrRJCbWTdSwZXJbwlDWzTzVOiaJHKQBBdDDRxqUwWEYUxMkLiayOaGWws4RlDVEBJx3tFWbCNvboL0SArg+fTpGk3lHoiFGk6OweULkPaiYBI0yCq0zNA5DvT/bFWZl5cqV/O7v/i4nn3wy1lquvvpqms3mbsWa5+ocIAhC/xhI4VVkF1aLmM50DyZJwi233MLNN9/M/PnzOe+881i8eDGtVotWq8Xo6CitVqtsHdRoNEo3QVVMaa1ZvHgxBx10ECEERkdHmT9/fingZvaH7Ge/yAODgFZZXy8oHoUz4IIm0wpnNanvjq+UJgGs0djgUSp76sHoyigdDLGGyFs0Hqs0+JgUgw8aHQLWeKC/340D8j59NBYIBLRz5LnFRxrncpTLsJEFpfFAcDk+pBgrwmt/MTIywvDwMEcccQRaa37wgx+QZdm0GzVBEIReGEjhVY3xmllLpxBe99xzDzfccAOTk5O89rWv5SUveUnpWhweHub+++/nmGOOYfPmzSRJwrJly0oRN7N9UDWj8flJ6KeNiNR7MusIxpFPZmhjyRrd90ySkqkMowNa0bUozYIKDhsyhgIYb8iyCB0yjAqkClJvMcEQhwBM9tXg9Yvb11NrNfsy1mtPO40fXv8fNLxjkjrHnvBS5g/FBAWogApdYRZCQHm50AuCIAwiAyu8jDGluxB2xWYBjI+Pc91117Ft2zbWrVvHsccey/j4OM1mk2XLlnH//ffzve99j6VLl/LjH/+YnTt3csIJJ5Rjwi4BV2QqPV+FV0Dj3BCuj8euspRaFBiJArWdbYytEzW7mamN0TFMlFGLNLmuk6i4h310GN1BuwSd1km1IyGjaTKCtXin0Hkg+AC6r7qLv/5fH8L26bMZTRMuOvsclmjNjnkL+PSXvsRv/fY6jNIEH0g7AVVTxDYiNs+/36IgCMJcoGfhNT4+zhve8AauvPJKDj30UK655ho+85nPoJTimGOO4YMf/CBxHPP3f//3fOlLXyqzCi+44ALe9KY39XWnq22B0jSlXq+XJSXGxsa44447+Pa3v83Y2Bh33303X/va1zDGcMEFF3DEEUdw4okncvXVV3P99dfTaDR42ctexstf/vLd4rsKt+PMdkTPJxQQ4Yn6KFcSHaEn2oz4DLVwOZNJQueJSRYD0aJFqJARcOBCN75pFrwLhNRCc5gwvIB2yGgnGfX8SdxYm1RHuLiBq9WJMk0/pdel9QanRLOLw175+8VLub0W8clHN5FNTuCzDGMDSiuaja5bUwUA1V8FKQiCIOwXehJe69ev59JLL2XDhg0APPjgg3z605/m3/7t32i1Wrz//e/nc5/7HBdeeCF33nknH//4x/nN3/zNfbbT1czDIp07y7KyxtaqVat43/veh3OOer1eCqhly5ZxyCGHsGTJEkZGRhgfHyeOY1auXMmhhx4K7GpHBJSBs89HwVXwqMt57+g29pw/+swIUY0NPuXxPOO/T46SJ22ixHENcPHoZkLuuy41H3pyNQatCdYQd1JU7kiUYrNPGa8F5g21WEBEHjQT3tHv9qSHxDVeWOtfrNWL6g1Sa0mzHKM1xliC6n4eWnWdvj4oBrjNqiAIwvOanoTXtddey2WXXcZ73/teAOI45rLLLitb7Bx11FFs3rwZgDvvvJNPfvKTPPLII6xbt473ve99ZWufflN1BxbBrXEcs2zZMs4///xpZSGcc2VroSiKWLJkCVEU7RYvNrNCfXVbz0fG6y1+sPq3ULp/0ktFmvaWjSRPbOEHR58A5Ix0up/v9S9Zh+4ElLX4oAl+9s/doLAKqLUJWRPloDO2BffwbRjfJPIWBzhCXwVk92A8Svcv57ORZ8zLctIAGINWFh9ycpUTBwgKVJgSpH0/GEEQBGFf05Pw+vCHPzzt+fLly1m+fDkATzzxBFdffTUf+chHmJiY4EUvehHvec97WLlyJe9///v5h3/4B9797nf3daerNbKKGKwoiqYVNK26I6FbSLXRaJQZkWmaorWe1ky7cC8WJSoEiIcPYuVr3o6O+ieeM9dm20++zUS2npWv/BNCDea1u9/pirMvJhoH3ajjg8W72ceLEk+jk8FIh+CG8O2c7Q/8lEceupvOqKIdFGktImtpYtfp23EAKJ+jfNq38UzaIUog1eAUhKDwATJyIh9QZup32YMLVhAEQTjwUOFpKIxXvepV/Ou//mvpltuyZQtvfetbOfPMM3n729++2/K//OUvueSSS/jKV77Svz0WBEEQBEEYUJ5xVuOvfvUr3vrWt/LmN7+ZP/7jPwZg8+bN3HTTTbzuda8DKAuQ9puqVqzW8XLOEULYrXdiUXC1Wp/LObfbvhXWsGqQ/cwK9Dt27ODCCy/k4osv5swzzyyXqwbf74uGubkHRYZWGTkNDI73vPe93P+PV/LPw/PQRExaBQSiHowhAU9QHkKdukvJtKOtLVFoEqkxgldcPdnhf9bmc+yFf9NXi1duEh6/9WtM3HsrL339x9iixvG2wR0fPJ1TLv8qKq0xaSMUvqfgeqchM56amSCaaKFCje0P38qmr72fLy5ewG/kFpxmUmtir1CzRKUHAkE5CBHWB2zI2GnBhhaRytAh46EMzn5iG/97/ghn1Pvz2Szb9AjbDzmMDZnnZZ3NfOGr3+P0l72SSDtSlVHLItqRRmtPgwBqIJOSB5ZqL8YrrriCLMu4/PLLAZ7Xmc+CIDw9ntHMPT4+zkUXXcS73vUuzjvvvPL1er3OX/3VX3HiiSdy6KGHcvXVV3Paaaf1bWcL9iRwZhZRnTkJFvFeQBmEv6fih8U6M9d9rl2PmqnCoxh0AJzGOAUoxq2lGVICCoUm9DD5axewGXSsh0hhtMZ6T0g6uFpGsBHBgCLgNag+xnIbNHhF7hzeZNSDJwlTAitoiDQm5ITQfTobXnXLomrn8SqA9qAcZAGTd911ganYqD6nAqoQpsbtD055OspB3j05tc7RyhOFiNxqrApTYfUSXC8IgjCIPCPhVdTIuuqqq7jqqquArhvyz//8z/nLv/xLLr74YrIs46UvfSl/9Ed/1NcdrjJTXM20YFXfq7b2mNnjcW/LHVDia8ryE4zGBAheYx2YYEh1jaZPsU4RlOoW3JwVjQ6KBNBaoTXgAj53+FpAGU0wphvN3edq7wSDyi0+VyRkxMoQVPdzz5xBRxrlHFNyadbhVFBobzBYch2BNgQVUDlEqUEZ2xWl++BYAprQx3J4uVIkJhByiBQY41DBo11MGkGsHFayGgVBEAaWp3XF+P73vw/AhRdeyIUXXrjHZc444wzOOOOMZ71jwgx8Ny9Pm655R6mA0YoIQy3UqGUZeEuqINOzR6R7rUmGLON5TpZlRMqDNxhV717TVW1KovS5t6EgCIIgPI+RIJEBQWmDIQAe8ORaM6EDO5Rnu3J41Y1Hq+MYYvYsu4DC6ZSGCgyFhHoAqxTGBDKfk6eBZtqhEcdTlidBEARBEJ4tIrwGBKXUlFurK750UMQeWiGwEDgIMB46GiZ6qO8UcPg0Q6kYqzQmBIKHPEASApnyJCqQ7+PjEgRBEITnEyK8BgTvFR5N0AGtFcGrblC59iiTgJ4kz1PyEJGr2bPslM9RDmLbJAo55DmpM4QQk5oauTZ4owg6RlyNgiAIgtAfRHgNCN7TbVStDFqBD92+fR3tmLQdrOvgnEIxhPU9CK8AWgG6hnbgvCf1GiJLHkc4FEEbtPxEBEEQBKFvyFV1UIim8vECaBR4ulmNThGcwZg6qllD5WDy0VmHC9qTW0ewoEMHR0Zaj6AR0amPk7U7dPIOWEvfsxoFQRAE4XmKCK8BIahu0VOFh9ygc0UzwHBmiHY20MTEtfl4ElzYOet4znuy3OOIMD6AjtG2htJN6OykPuFZnMAhVhyNgiAIgtAvRHgNCNoHIu+6hUHRtK1ivGG4O875p8lttF0gSydweLxLZh0vdGvXE3ROw6egQrcGlknI/QSLspxN1NkxvJihWWu9C4IgCILQCwMrvLz3u7X0qVa0r742s6VPsW7RIHsQMFNV1wOKoBVBQ2Jg48hBXL/0JYznCZPG4tCoXvonh4ACvIqphQ4ByFWECRpNxgiayfEd7NCwfN8e2rMmKAgm4F2Ocx6jNFpFgCF2ARM8Tlu8MRDyHhynCrRBpaC8RxlPzVgSrzE+EHtPHAwRMYoeUkifzrEAYaqKfwjFC0Dw+PDsCnvsqbXVzO4PgrCvCCHgmbKgh0AI3fZLCkBpsuAwHpTWQI+FoEN3PBWAHPIpC70JEFQgV91GFlqpnrpgPB0cYHKHJtCdBhS5D6B097hCgOBBaTm3hGkMrPByzuG9L/syzqwsX32t6M1ojCkfF70bC+F2wJ8YFsBAiABoArWOQy84kvicv2Bl/iSJbuDQaHpq1ohGkVuDcRM4NE7XabgM0KQYJm/7DupnX+KAj/FSAYzDhwyXO7Q2KBOjtKUZPDZ3dKwljy2Ry3oaMtgI1fbgHD5yNHTEmNbYBGweiNHEqo7udwX5EAg+TF2YdokjQsAx1UdyKtivl9/szL6m3nustWXfweI8GZjzQBhoHIXw8oQ8QxnTFSZGk3hHI1coqwna00ujkADgwXgFSSBTCjTUHCgFHR2IPcSEHjt69EYAEhS1PEeFqaMymiz3YCxGKSLoZkVp1d0ZQZhiYIVXtddi0di6uEgVFxboXnjyPCeKovKuXmuNMYY8z7HW7tYIWxgsjIPIaRqmgYsjOiZjgklCLWFiqEGuFVp5jOpgfHv2AZWijUE1LFnwBONQWY7XHq0tSeR4jJzxxiTOGPp5GmmtMdailMIYCMHhvEPbBlZBcJ7MgUIR1XqztuV5vmvsqd+9MaZsjxVCIE1ToijarZ2WIPSTbjVChVaaoCxpOyGu11EGYhWB8ngPigStZ68imGFw2qC0Rtc9yii8CmS62xPWEjAKwKH7WpVQYWii4ghyCHmO0pbaVEY4gCegTdd6JwhVBlZ4wS5RVYiswqIF3YuM9x7nuu1zlFKMjY0RRRH1eh2tNVEUPWf7LvQRr8BrVIiIIosyijqBWga+7Yl8Si1LiJQmaQz1MGCgniVo5QnK4b1Dt3MinTIEYA1R0xCFgFb97v04hVbdm+QpaxdTcXZaKwzdO2jve/Ep7zovCmtWYfEtXO3ee6IokhsQYd/jclAGpTRBGbSO8KprNzYenNFoBUHFTNmMZsUEhVYKtCZyU+1lbbe1Why6BvGgDKHH8XohAGQOZzReGQiByGmUURityL0jcRk1G3XL9ghChYEUXlmWlZarmUKriN2qvg6UFxrouly01qWlTNwrg40yGm0taadDrjIUijj31HPY7upst3WGrUUrjQ6z97GEboPqHMhcAKeJTEy9MYTNHJOuQ6edMG8yJ6qHvp5FYepmwUYWH7p127r9w7uuxkgVbgvVk/diT3Fdxhi899Niu+Q8EPYHWimCy3HBoJRBxRGJVt1TKIA3AY/HKtVTSo9yCkI3fssphclBafBWkQMRhb0p0Fvwa48EsM7TUQ60omEiglPdWK8QUHgcntTlxDrCiPoSKgyk8CqEUxHDVb2oeO93u7AU6zQajWmxLdVxhMFFGQhWkY1DZlOMNt32R15xU6ixkZihKKauFYxtnT1kTYG2lsTnXbecg1oMsXGQ50xkGRuSDD/hUZb+Cq+paHqF6vZFR2N0t0d6CBDK33pvDgylVOlSL37zxePid18sU3XfC0K/UYBRijx052OspqM9/3X7bZy+5ni+/91vMxEFUI4oaHQPQVnBKfAKZSA10Gp3N9SpQxqgprqWNEIg6P5ZpxUwnHi21hXLXnA4x7/wGHDgQkCHbj9djMK7MHVOC8IuBlJ4xXEMdE/ewvplrZ0WtwKUbkhjDNZ2D7UQa0mS0Gg0dhNvwuDhgsO5nFgZVA28tbSt5TEN/5/XTExM0Bl9gqACys/eQBy6GVFYqClL7CxjE2PgdkLoBtU3Gw2ezDSdPusUayyxVmRPbKcbQE9XKPqAsV0bgNJTWVy9HMeMbN7CyltQ/P7b7TbNZlOEl7DPKH6yJooIKFICTyQJH/zIZZx+zTd5+3nn8njcdd97p+klGt54P1WHEJIIDs6623nSQpJDGnvqmSbymtz0b443AVZ7z4ML6/ze//vfWHf5/wELGR7rMjQeExliG3dDAwShwkAKr6obMY5j8jzHOVeWlygChYsYrhACnU5nN2E2s+yEMJhkPqPjM2pmBMckIVeoTNGIGyz/f96AXX4Irq5wQZMlvcR4Qewn8ZEjdoZ62zKqUjrzHcbUiCcVfvNjTHzzqp6F3NNhV8wiaE33SqIVDsjynOBBK42JenDFTN2UAOXNSfFbT9PuvsdxTKvVEtEl7HPGlYcQiL0mDpplqsFh27q/w+uG1zLa6DA8Nk4nniAzs2cgJ7ZGx0R4HO0IFkx4glKM1hRZCl9tb2F1vIB1ps48Jvp2HF4pNg8dxN+3txDaHcpEcqXBdE9axZR3U04rYQYDKbyKgODCnViIKeccmzZt4lvf+hYbN24khMC6des477zziKKINE354Q9/yE9+8hM6nQ6NRoOzzjqLF7/4xdRqs/c3FA5MtFJEytKIhmibDsGB9VAPCjt8GPXhFSjjIfdkcbMnw79H0655vI/QkzERHRieJIpa2KZlMqmhle7Z8tQrznucy7vp9WlO0kmJTEDrBhqwRmNU1/JVvXF4KpRS08qnOOfIsqx0s2dZVmb9CsK+pOYV0K1z5QGvYVR14y5HWh43lLBQJcTeoMLsGbbeaJz25MGRhEDDBLxSdLCA5ppUsbBmeHFco6V6i+/shaA0B6mIBRmQ+qKuNU6B8Q6CAz01P3RzYwShZGCFV5VqEUjnHKOjo0xMTHD33XdjreW8885DKcU999zD7bffzmOPPcaiRYt4+OGH+cUvfkGr1eKoo456jo5GeLbYoImDIfYxufd4rfDW4IDxWhOn69R8Ts17lPazzoEBhcaQBk8O1I0lIsJkDuNzXNAkscdFbYJ20Mciqt3Y+e4efuPr3+L+e+4gUh6tmiRWYYJDByBoQi/12spxp8dB1mo1Xvayl3HkkUeWwksQ9jVRMN2MXCALAa8D42bKg8EEuX8SaxK8auDD7L/JCIicI/ceE7qlI7zSNL0hDjW2okiJiFWNzMze0aNXFLBwskMzc2gPTLk7PR5PwCpKi5cSi5cwg4EUXsA0t0jhMjHGsGTJEk4//XS01nzqU58q63plWcYNN9xAu93m7LPPZs2aNdx0003ceuutDA0NceSRR+6x8j1MF3rVavl7ig2rZpHNLOJaiMOnGv+pKApnUvmvKDOg1NR+Pw/vrExQRE4Tsow8CvgYfASTKMZrGhdBQKONIe+lBEOAiAxFgicjGIhNQLmMkE+Qq4Rcd8htm6D6ewppZbCmW6/rP/7vp7hFd7frPKTGop1D+UBQqmfhFYA46nZZz/Ic8IwuPIjG//nfHHXUkbvOJbkz3ytlIVt2j5ubOW/MGcthmGotNvW78KpbosF4CLrrQVNFe4WpTNunQk2VQSFA8N2gc6092nfXm592yMMkIznstJ5OL8HwXoHvJtMEpchUQCmLoYY2NSasJjeWoC1JH4PrdQgMJW2ikKP1VEyoCt3PQxsCU2VfJK5e2AMDK7yKmC5rLXEcl66UoaEh1qxZw5YtW2g2m2UGV57nrF+/nuOOO46TTjqJ4eFhTjnlFL773e/ywAMPTBu7OslWBV5R9b5Wq+G9LwuzwnSLQmFBKNb13pMkCfV6fa9u0l4oBZzWBO9RKMzUNowx4MD7wPMtVMcDifHkegtNPYxJMyY64zgdMZKlDCdtUJp0SiT1cll0BIZ9A0KKZyc7GabOMEaBxlB389CJmrrl7t+xBBfwWYCg+cuhGqfaBioEOiYj1S0azmN9jsMTVI8FVJXDeoPCEFTA6za/8/go4+PjGKMwJhbRNQvFuae1JkmSMgO0CFmYqwQPk2lOiA2JUXgPCzqQNrrV4aN8yq0Wx7P/fqba+pB3w6B0TeHx1PM6ACpMcJCOeSyqEwVFvYf7Ch1yvAJlLamNsKFN7FJsCIzbcXzu0GaUKLi+VpMAyFrQ2QmpBxcHjGoznDdIdUyuAzVctZ6FIJQMpPCqWp2KkhCFC6VIly+KRBZ3p7VajcnJyVI4aa0ZHh4mTVMmJyfLMhTANMtUkiTcfPPN/OhHP+KBBx7Ae88tt9zCBRdcgFKKJElwzpVYvDucAAAgAElEQVRFWYuA/0JgFXE1tVqtTNsv9vnpiK4s7Qaa2qib0YnWBAK5c+TO0U47mEYdpQyhx7Y4c4auua8ywRWpgFPm/mcz9F5f2PezqZkqC6Tp1oN0dOsdmSk3RujBshKmFJVRoEPXjdrtlzd1K77roxKegg0bNnDjjTdyww03UKvVuPvuuznhhBPK2NCiO8DMBJ5BxgNbtm3l8kvez7YNG5lMEnJgnofHY3DFKadD1/LUCxamel9N/bADd62/H4Ak0linqPkItEf1GkC5x00XwVWzLNZnVPGvCt34LhFdwh4YSOFVWLeqbruigGp1meK1iYkJWq0WWTYlXqwlz3PiOC6zvGa6B6rFWJctW8batWtZsWIFaZpy//33l5PrUzXaLsRXsVy1sXe1dtLejmHaWKXQ7Jr1C6OWmhrbWkM7y/AqYJ9nFi9B2Nc0m01WrVpVZolOTk5ijCHLsvJGDuaQm5Gu8BpPOvz8hz9k9ZYdrFaGplIswvKIygm+2yI+KIdSGb0UyLMeYiwBy5gOPKbGGR/vfmYZ0FGaJKoRhRQd+tniRxAOHAZSeM2k6rarxmEUk2H1brToS2etJU1TtNbYqd54hcWsirWWI444ghe+8IUAjI6O8u1vf7scq0jRnxkDUli1iufVfar2ley1hlgh3Jx3aG2n7qSmqo4XFr1OwE9l0wiC0D8WLVrE/PnzOeWUU3DOsWHDBjqdTjlfVIvRzhWcgk4ITI6Nc2KtxatqDeb7jBFv2EJOTUXETuN8hop6KavSbQDfChalY560lo1xzBPJGABZAGc1XhvI587nKAgzGUjhVW39U534iriLQhAVbsdWqwXAwoULSdOULVu2cOihh/LII48QQqBer5fxW2malgVXq+7MYjvee9rtdtkDshpAX+xH4YIs4rx0NQ5rCqXUHjPJ9j5xTwk179G2G5yqp5bN8xwVa2r1uNvipse2OIIg9Ia1towXLcIYtNbU6934pJmFnOcCPkASoAPMjywH6RyTPMmEz/CxwdphImVRnbyr0mYhKMXOZobPOtR9RK02xGEL5jG2/Ynu+1rTNJo86SaAiJtOmKv0bBoZHx/n7LPPZtOmTQD8xV/8Baeffjrnnnsu5557Ltdffz0AN910E+eccw6nn346f/M3f7NPdjpJEpIkIYRQFkotrFZFXJYxBudc6c7Lsuz/Z+/doyy7r/rOz/49zuPeW9VPtd4YP7CFFWJsnIVgTEQUjE0wYMeDB48YiOeBYQWy1swQM3jZmMnC4ISJwcFrgBBYCRBmRDA2wiuYCFvjCCXYFrZsCyzZliVLrUerW91dVfdxzvk99vxx7q2ubkuq23Y1IPX9rlXdVXVv/c45v/t77N/e3/3dXHfddTjn+MQnPsHJkye57bbbOHz4MM9+9rO3vWB1XVMUxXY7iwV2ER4UEQ4ePMhgMNgmzQNn8cxEhKqqziL2Lwy1GCNd122HPZeF5owxgvcFOfeZnDlnrHOIMWxtbRK6vRfzXGGFFXqklJjNZjjnWFtbYzAYbB+4yrLcFqp9pqDMcDjAEPCnpxSzQDEoSAcL2gFs2JbT0jItlFlpd/8qLJkKgiVPI/H0mNkDj/VkMaAqKgoRfOrmZXdWWOGZiaVWik9+8pO85S1v4f7779/+3V133cVv//Zvc+TIke3fNU3Dm9/8Zn7rt36Lyy+/nDe+8Y18+MMf5vrrr9/Tm16IoYYQtsN8CyHIBx54gD/+4z/m4x//OB/72Me2pSS+9Vu/lWuuuYaNjQ3e8573cMstt5BS4lu+5Vt4yUtesi0guTDeFt6zhQdqp2E1mUy269/BGS/VTg7X4vWdRboXhPonkpTYDbIzfKicUeXPGe89ZS6ZIWTV1UFxhRUuABZe9a7rmM1m24esZ2qdy2ygLWC67thsM6eNYiWzqYnUKnWCkRSU3rOlE3bjeClC0iG5sBifsQhuNqadC121kxliOtCCuVjFBX/GFVb468BShtfv/u7v8ra3vY03velNAMxmMx5++GHe/OY3c+zYMV7+8pfzoz/6o3zqU5/iWc96FldffTUA3/Vd38UHPvCBPTe8FqHAc3V1Fp6mI0eO8IIXvIArrrgCEeHQoUMcPHiQ5z73uagqZVkSQmA4HPKSl7yEq666alvRGziLh7XwTO00xNq23eZw5ZyZTqfbUhGLv1m8bycHbGGMfTmGl2ruiyQjiBgEQVHSPAxqrcWo6TV3VlhhhT3Fwmvtvd9W/t+Z5LNYD55JxpcomATBKlkMOQtEg3Ula9ZRZIvJQlLFSrFEcqxQdhavuVcWNbBmPZqnABR4jI0EK6tE2xWe0VjK8Hr7299+1s8nTpzguuuu421vextra2u88Y1v5Pd+7/cYDAZccskl2+87cuQIx44d29s7hm0O1+L7xZf3niuuuILv/u7vxnu/zctaGFEAl156KS972ctQVabT6XaI4IkEEhfGErAtC7F4ffG7BVm/KIrt66SUKIqCT3/605w+fXr794v3AdsaYDuve8MNN3Drrbc+yTPneYHkXvlZU+bog0dhfr0QA7hesmK1aq2wwt5iodu3yIRezHM4O2N52WSZpwNsVoqo5C5RUjJQDyHhSsc+KQmSmGkkaKA0Jct4qAZRKXJLth3JCSPjMXMh4NJVaJFpBWzohVpXWOGZCNHzcL3ccMMN/OZv/iZXXXXVWb+/5ZZbeN/73scrXvEKbrvtNn7+538egNtvv53f+I3f4Nd//df39q5XWGGFFVZYYYUVnob4stig99xzD/fffz+veMUrgDMeqMsuu4zjx49vv+/48eNnccD2Ck9mK54bwtupJv9kJXvOzUjc7bqnTp3iDW94Az/yIz/CK1/5yrO8ZGfdiwqv/oev5tCHP8z3+xqnQuMMQodJDijJbqOvbaP9dV/+2KPccuSyJ7m6ICZhRAmhxovyq5PT/MlzXspzvvetlLMZ2TmyWVIRU8EgRGexaULCkExFnQJg6LAcu/MDnPjYe3jhG34R66vd21wamUf/7GZO3v1feNEP/gygtKbmo//ny/nGt/xHjC/IKcH5eA9UsQQaN8LmyOSzt3PPzb/EC3/wX7B28AiIIS6rXN9X/yBbC3RIbmntOlUKOISIYWvjBJ/9t/+YXyvgFXtUYP2yhx7hwSu/lrviGt8//nP+xZE1rm8K6tbRrVc4lymaCMGRxMMStecUJZIwUbDGI0aYhdO85nTHD7/r/+KHf/h/Jmtfm1JElqLVLLw7i/m0sywWPDOlFeBM5QoR4ed+7ucIIfDTP/3T26/Bmazmvb7mE4UxFwLRO4Wf9xI5KV+4935e9ve+iX/eKq8qRwiwKZGBRFIo+2TGskHCciHWiKUigygzEYou872Tx7l93PDYpVeTXcdUBjjNuGWCl5rmIsmO8Vy5vkyKU8fYRb77+ON8f7nODw6GJLOXLrRePfafbJzkyD96A//qXe/CygyJNa2xqM1Umui32OXm1QoXD74sw0tV+dmf/Vmuu+46BoMBN910E695zWt40YtexH333ccXv/hFrrrqKt7//vfz2te+dq/v+SkXmCd67dzF8Nz3nM+C9UR/e+6Gs6iZ2IWOg6pc6z0+GybeQE5YcQglyVkkO2RHkeVrF8r05yAvnoNIosCLcshY+opnGWPc3GG/ijPuOb6kS8+MgX87mfHB2d5UCvhN4GdOnyYQmKkydOusOY9pItMukugApbAOh2EZeUlBKIsSJRO7RCZTVgVGIprn1R4wfXrzktPgyQyrZ5qh9URYUA52Gp1wNs90r7EzQWdB6N+Z9HOhIALWCsYKWQMhtmiGRiPVwFDXA9rYMZnNKO1o94Pr/Kv/pueqLmo3AohRRPoD4TN/JK1wMePLMryuueYafuiHfojXv/71xBj59m//dl71qlcB8I53vIMf+7Efo21brr/+el75ylfu6Q2vsMLfJHziiq/lL/btnVf3lq/5eurZlOahB6mamjo4ElNsCnQawYKVTJl0KcMLznhjsvYCvJVbCPCeKauEKueT73GuN/nc3y9euxiMsQuNJxJ3XpD5Fwe/LydhZzeo6rzk1Fk3A/S6ZZVd8GdXZKwVVjgfnJfh9aEPfWj7+xtvvJEbb7zxS97zTd/0Tdx8881f+Z2tsMLTAJdd9yoOvOAb96y9w6/+ITYf/Rz87l2wmYm5A6cMvAMrtGRCzpRZYQmdzl6PrsFlizUGY4WU4lnhQiMWAuiStfHONbrONbB2GgMr7A0W/blIKlro+C2Msp1VO/YKOSspKppAMHN5HMvQloTJCWazGcbbvl7lyvZaYYWl8cxS/Fthhb9i5GjJ4UsrEHy5aKt9TC6/EnKJSQktBWqhdBC6zNQkourSwRgRoS4rCOCMByNsTI6Rtc/S67Nre6NOzjNq9VShtZXRtbc4Vw1/we9acLzODUHuyTWdUJSWsvZIF2nbDmcdw8P7aVNNmAaMJtzQk3enG66wwgpzrAyvFVb4CiAk+vK+e4M42WJ2/Biu2cIMDbMhBBMYtkKtlq4qMZSEJZ0bihJTIjYBb5VyUFJVFd4pfi6BElPEie8jj0vs208UXjw3xHghOU8XG2KM29yyRYhxIUuz6OMF6X8voRliULomImIwc5HqbjKlsAYx8xBoSpxHEZQVVrjosTK8VljhK8ReUoGHKlyWhZgCyTTMLEQSVSqo1FPgyBjyeSRR5JS2PSZd25FFyZp3bNoZJSNu+c3zyZJVzjXKVvjKca4Bu7Nu7CLMeKEMXJF5FmtWfOFxFjbbFu8VI4ZMPpNcdEHuYIUVnnlYGV4rrPAVIBtLsns3jSpbMDIlDwFBI4jD4REKUgKN9KrfS8ts9F6vuqrJCZp2htp4FmFbxKBZl5bvODercaekyk5u18rbtTfYWboMzja8For6ZVlegP7u8xB94YmzCQgURQntFGUhYyHMk7hXWGGFJbEyvFZY4StAsL0+216hSYqZRLYEMp6RDHDiUQzTOKOLEe8UYx1pmQal/8d7Txal7QzGWqrSMt7a4tFHH6Wqhoj23ovzwc5KDjuz7hY1SquqYjgcnlebK3wpdtaC3VmayFpLjJFjx45dkH6OIfHoo49RDyrSyQ2apsEYh/ce7wRViyadcw5XWGGFZbEyvFZY4SvAoEvsb/aO41XhmA73o9UIZwbYsSHFSEwFbm2NahDJ7YQwnWLKwdLtTqdTyAZjDc57mmaLX/jFX+TXf+Nfk7P0dT55AvmAp8BO3tHO8GJZlhRFwetf/3p+4id+4ryef4UnxsLoUtXturJd1/HRj36Ut7zlLZw4cWK7vNmeQYUYM488fpRisI/SlcQQCJJpYgvBIFaw3rC0tskKK6ywMrwuBBTo6NXPnfEYV9HGiBj6dP6oxJAYJk80oDs8DSpP7HVwoiiBIIGWQEgRNYnCGHy2iCid9Bvn3uXYXbyQxT/KWWE9PSMD2f8skPbwvD9zgUk55khq2NKDnJLM0LSUJpOYEFQRl/AlLLvbBSMM0gSvjqkZ8Hjp8Zzm5ace56XTU7TW4qshNihPMvzOhjFIAjuL2KoD75lKSUzKejehcjW/1cHxR06dlw/N8NSqBEqfxuC7gCWDE1SELmSwfTF6qwopwQXkPf1VYsEfNALZCkkNPoGRiPOGyWzGZz/9Sf6xKzjM3tZpLUSZkXhbjhiTSbYhpEykwlUOnw02ZTRAXLKvpSzQboafBQbqaPcXuK3h9rPaFFHTMxiXGTtWFZME1OHqSAyCaqSQrk8YsUrlApWJTC6yBADdMRfSPAGDFCm8QVQhKglDKDyevQ0XR4CYKGIEL2CEmJSkYHzRGx4p9aL+ZgldnGcYVobXBUFvAFkUp2ByJocWI2CKQLBKzAFrIaiQdQd/Q594+Hs1vd6SZNR6yAtJASXl1C9Ufe2MlXj9XkDO/PdUC1IWmZdp2htEYwjGkDRye4D7JOLSlAql66Y0DRRGqVKmzbsbXipCV1Ts61pMDEyM4XROHBf478oBrxtWJO9pEhQ2LyMNRnIeksWaiKmniPWMZUBOhkssBOv5QGyI2oF2yz+8FLu8X0g4HKA5Q1KYi8EqZwQ/RRbG8dPf8FpAZC7yrr3mmnGKdRZFCLMp33Z4xHPM3m6fhSqnUuLnphOcrSicRehI2aMGksl9YoZkrCxxCBBQSqIApi+rFp1BbW8QRREKLEkUQ0KWML2izQQ1mKioRCyOwkBpDepGGDkN2SBZLsLEy772mdKLIyu9AQ+KpghZUGNIqngie7lxLFYSRSFG8BYwKELW3tVgnmFz9HywMrwuEKxoP8hzJIcGQoPFYEyHNYoxric5dyVGz6wIJj/x6pDoSwIZtQzckIxB1NDlyIyO0li8gbwyup7WcKnAhTVOGMcHB/vovHJaB4gOUWlRNVQopSY2l/EJiMHaAa6c9qdb8Zh0ikkRCWVJXQwpxfHoxiamzohdps6nkMUgtSM4g4Se9V9IgTOexz1M60AqOuS8pDaKXd7fh0TVWXLMkBLGGgrXn+izZpJmnDHLJx+s8KQI2TAOhqwGlSFeHCVTrFqm7bQvYeQELQQX0+77tgKzlmSFNChIWEzIpKIXAetFKSyCIOhcquWpkSxEUVwM0ASq7BhIgRNhYvYBj9Ikxyw5MEuxIp85EAFjSJpRMTjbiyijiZwA088loxmRgOyh4SUKGId6R27jnJPoEGPIqiRNYARzkc7TleF1AaDzQsrBCK2zNEVFQvAWXAZaMF2m0A5fCrpDHHH4JBvPowbGmihSZCgZQWkFOgudUyyWWjMBXY50vcLfSPhOGY5B3DqD676N4fO/hnJ9QGEPIZJw2VJlQ5kzQZcokp2V9sSMct2i+9fJzlNs3ssn/5930z72IOONDaBgOBzSZUhp98XXdzMcM8QVxJAws8wgOwoxDIBqWFCKYEpLYnkemoOnfL8q0HakwpHEIioU0YCbh+Jyok0B8eVSnrsVnhqNKI+5RLaZY6Hl0XbGgWYLb2sqJlhbYOuKZGumzRJbicJgY5NyX0GoC8YpUW80VGXv5axDxE2n7F8vaKmWCuHXLlG6CNrRjid4TcQMmwYeHlW0JDZtYsMmRl9phzwNkYA2dhTWY6zpjd9oiOpQMf2k6iKprPf2rBIjmUTnLODxqdd9E/qCG9PQ4Z3DW3dR+rxWhteFgIIESNExzp4TxhMrYeQMdZ6XaJGSlGDqlTQfefuBzSfZMfaL4XA02C5TxkgkUSfFIBjTlwsJXew9Xm617TxdIbQY2UCkoxwMqMr91KnGb5VEacgZklWmTrC6O5tPEIYHRzR0bJzOxNTwVbZm33iCk0RTDLGxQkf7sbMtCLuHBm1RkVBmMZCCZeAH1IP9GFMw3trkxMaMchbYN45YOZ9jgHvK96uCRdjIAWsMQ+fQKKij56yIogba0FK5EnsRckf2EgOUqzRxCX1d0C3vGLoh1eAApqt7gr9CnJm5P/6pIUYYHDnCLLacOD1hnAJXjw5w+NQWAK2toLTEosakhKTdx07ohCCWwpeYqsL6mhA7xqFhQ4Q14HISBzXTXWSxxpwzbWxRM9f7mIf4JPWlpyYmknJmHwZIe2p4GaDRzJjEgbJAgpBzXwgdMjgIOYJC6Yq9u/DTBCvD6wJAVPFB2Z/hYIZ9UQkKlYLLmaxC9kLwkCnZmYytVE/YZjIRzBS1LUZaknbk+SYlc4KXZDP/YYWnK7LPxLpFtWGmGRsVFzODVkkVJBIzoBXFLhNpBIbG4ZJSUCKupIgzYs58sJtyNGVM19BJg7QzJC3B1bFCFohkik7ABEzqMNaSZ4HWGe7UzOduu53N//2fLv3sv/gvf4H/9Sne71S5ossc3ed52Q3fxmu+9TtQ08sZ2BwRMmIMlmcGsf6vGyKKGKUB/qSd8TmgzDPoAjEmlERSIavDabe750KgKEu6EPskkcJhx4/zqbY39t86OYWLkHUKMSN59wGexKEiWAkIFmenSI6klJkWBY/kRJYF7+/igohgrUclITmRgSQWb/ps5Ftu/RP+y60f5IqNwCOFWTpBYhkcipnkDenZV/B//I8/ysDWJBTNCZ8i4vp7MHJxHo5WhtcFgZJsg7GBQjoGeYZEqJOQ84yZtUwLw8TMcNHi9MzH4J5kfYgaCTZiKwgGNCipBavgEmhSxPbZjecjCbDC3yyoQDJAVBoshXhELckquRZMlxFyv5kscYJXYEsaVBKlLSnE03YVM+O48/DlfGH/ldgwYGxaEgZ9kuSOnRAymIQ4Yb2tmORAV0a0EGwoGBrPyQfu5shffJb77/7c8g//L3+B+3/lXz/py0aEU6bgg3WkGq3xmm/9DsRAlD6BBRQjFm/cnlYTuFiRMQT1TE3FXYev5gv1gEDH1JdodKh0CAbJNVkCy5CzkwsUyVDbEls6NuKUyef+EoD3PufrELVgIpptPxl2gahDJJPNFMk1YjNFbqmTImaN4w9NaDlD9r6YIBi8kb7KhcZ5lNFSzJeNj33kz/j9f/Nr3DBznModeQ8rTpwwjqOFcOxvPYf/7cb/hcGwJgtkFK8JEYsVh70IPxdYGV4XBNlkZtUWj5cdJ9yMLRFGxuNxaI50oiQNTNKU/SqYHYaX0ckTtumCRf0QqYTODMhZEeMosZRR0BRJg4KMInHF8nq6QpLgGo+0Fd7vx9b7idpzVkKt1AFSEsi252jsgiTwcBlxSRm0M8pGgYpkS9b+9nVc/uJXcUCPMDbHaRmSlxAjsdqCCWQLB8YlE41MRx15YKniEDl+mvb9/44bxh/jn50nseaXR2tP+lowlnvXj/CZU/dB0yF5ns0oghqZ50z1wv4X6Xq+t8gGjQW4ddZe8kouee7zMbXQDQ6jsxLNp7EZXNpPs1S0SGlli31a4oMySTMOrQ944N/8HADPfe2PY7REXEfKBZp33558BKMNnT+F6KVQJVzawE4ntLOSR/7gF9BTJ9Bkweyd3t7TBZJAbB/mzfTyKzCfI23HlVj+h8uexXO2HsPnvds3Hhns5//NLTePp/09QJ/VKgJWtuep7JY2/gzFyvC6ALBqWM9rjKKD4NhyAzpbYe2AwtY4UzByI3woMDme5aFSfeIVzM+G0DoazZzMHmZC7jw1FZVaQmwYk7DGUl9kXIZnEiyGUjwVjoF6iihMQ8N02tLWkSp51hhQ+IJNZru2JwhXtjWDEsQHUgap91EkQ+sPc6q6mjwd0sgWg04p0+6bU5CKmR/SGqVirSf5d2OsAWsP0laG7AxGFG+eOHT+ZPCmfPK+EcOz28Sw1V7QKwGuP0VrjkBGjL0Y1/ELglYSp0xHbhs2Bwdwa1fjJDILQ+owQjRQaKLMA+pmk908Xgo02SHDQ8Tastmcopja/iABdGkdaQuqtUQRWkzYfSwKNVEGtGGK6CFaEzGuwA0OMK5LIspYZ4zFU12E6+K2XZMjiiEb31s7Eehg2ChfXScqKTDm/CpXPBWOROFIl3pBy7kzNANZM6SAmIK5ssVFiZXhdUEgSK7o7D7+LBhOdid5xAqFdZicQDxIgYQxiTNj74+BN5w+9YQt2rgBXogobTBc1Qb+wkFTCuIdVden6PahootvgXmmoCuVyVqgNQ0xjzFxQqUBiowMBd8CbUKbwMjszscSFaroCWGLYGZEZ4hZKbUhNi06DayFTMWEKAOi3d3jZcgggRmBYAtKGym1RZsOxNHKJqEY0xYtE/vkhtS5OAxMnkLOQjQz2BpT54ibk4WBnjti+nEvCiQQw0V5kt5L1CSO0FB2E6qYGQXFpkjWhjpXRDsD25G1ImZYpsMPW0PsNtnwyqxqGW4quZ72L6Yx6/4Aod0kqSHb3dcxIwE1MwxjqhiQtsN2HaUBsULZNRxIU/bJgJblx+IzAaKgi7lgzFygY66dpYoTqHNgsDWmqXJPwt8jFG3DsG0o7GA+T5Us2oc957VHJV28qi8XheGlqqSUsHM160VxWe89IrJd7uTcQrSL8hznEnUXtel2lknpiw3LmfdLJmnBsSuvJVzx1RxVgzO9Glc/vi0WQ0SJ8+wOgE9/w6u2r6GAnacAixiyAbWKz8rDccD4wY/jYkeWSPADrOa5kNfuE0iMoBj6qGSBkX7ZjLYkJKGUSDWP2cgeH02SGgQoUBoq1Fi89qfbqRbsd442g2rCLnNdMahYYganmY6ChhEjTTiUICUY0xsMuiQjXRwpC+BwRijohWvbLIhmRiYg6thrxdqshqSWygSaFPF4CisM0wZddwB1QohCyJFyScJwMpkuC1ksKo6NWGBVqVOkTB2tabEUqJhehHcXiFEMULb9xpdNJGPJWqIhMzIRR0ZUsUsQpAVB5iK0NvWFi4yY7ULMOfVzzVpHNJaE0EpmajJ17JWfEI+gmAydafCUGMxZNSQXtSXh7Ll+PkT8nevFoig4nJn/dl5wPNh5WCVkTMw47/r5K4powqii4uZrRd8HKWeM9P/L/H4V5oZkH57xZDDCZt/DROl5njYKeMh7SCJXBMmOwlh8mlG0CcklUkAwGxQiiHhamWfE7XZpAcQTYkZSZmAdE1Ph5uKDTiBYIPeeETG9amzoOnxRoDmTVTEiWGtJKRGl/3nAgE62er2q6Cm6TOe3KACLg3lJrD1FshgVnNALtEZHZyNIxKqQsoUIxuclyP0WtJ1LbzsEi0QBUaLNNJIoMLhOETFzQdLd0WcCG4w4LIJDOClQut7pJUkxKZwR4N4jRBJREmrYDvtL1vk4MWSFPhesz8xfzCUROWuOfTlYtLPA4vudbe681l8HnvGG1+ID3fnVNA2nTp3i4Ycfpus6RqMRR44c4fDhw9vG2cK42rlYn4s0T3c2xpzVvjUCOoMcka/6W9QvezWXa01lMy7OkJx6cblihOaWFMP2ALjs7/73FL44y1gEekNABbIydJmHOIL8p3dRnb4XTYFJsU6ZZ1jODl0+OXq575ToXfP05SRaWzPJwtA11Cah6uaLwR4aXv1WiRelk5ogBQfTYwBEO0DjlNxLW5Pe4koAACAASURBVM8T2XeD9tppaqk1MZMBjVljpJFCMsEUKFDkBl1yY1KUnAXEIcbiUktnKmbZUpLZZzoEhyJ72jeSLL4pqclgClo7xNCwL7dsjIdEG1AXCGku0LtrgxBMIuYCJw6jBUH3oVjWEGqb2JSWOtd9VYQlZAGyMUhyrLWWohZmBBpxREq8Gq7Mjoey57EAd8ya3W9xfmC5ArijaUAE6xwpBLz3xJTQnHG+oDWOx6PQKTQuU3WGIoMxFlEwmul8i8kW5hyhcw2vxaK7MJaWWXx3GlmLe16sE2f/fYbckYBsHCRlfOI0n7nnL0lGSRIRjRjNZC0xc8mLv3/D3+NDt96KEUOac22s6deilDI9NUaxZLJaTohgED7zqU9jRCi0wmjf/l6hQxjbAvUONVNUA0YHGB9pw2kG6sjqGYsyWrI41FQ9UaBSYRAdR8tLcF3/OTkpGCvU6sGkfq6q9sbqXHJKc1/K3VtPiIEGweM5lPcxZhPsCMk1GgIqp8BBYz0zcXuedCTZ4FR49OjD/OcP3YZtYVrN8Dbi1BJSSY5giozZxZt0ww0v50O33gJkEgVWS+gMxgnZJzZzQ4nBB9Mn1fglEmu01/EzFiwZUegwPCbCOsIXH3iArBZTVjhtyHuovq3WEkx/GGYu7C3ax2I092r5Rs5Wr99pfC2w8/tljbFz29i5Ny/a/NJ5+1eLi8LwyjnjXP+oXddx6tQp7rzzTt7xjnfw2GOPce211/I93/M9fOd3fif79u3bNnae6MPLOVMUBc45YoyEEFhbW8MYQ9u2/QdqBTPbgDiD6DFhTFEUjOqa8akxKSWKwbD3QnSB0ju870M8TdOxtrYPYwzT6ZQYI8YIpA6dnxgMhtopMwMRxWjEEUntjCwJWUIXRXJAcodzJV4sEjti1xKJqHqQ0A9UI6Ske+qG7kuB9MZS5ZQYWiT3Hq+Do5KNB79Ate8wYu1Sgp5ov5ktPJSFUwqnjAFywmokpkTopki5BOdIFU0zjC2w1vWbZDcjauzJ51ZR7T0PWZW0l+UCVHFGaBOsrw0QJ2jT4axhUAg6m6I54Wy55HUVyc32uLTOMrRwSiCTsZowBEIzRnwBy2hfxYBRQ2EdpRfaENHYe7gcBVZAnOWPRPlAtzsPbYEEvLadYsoSI4bYTqHr1bcBXDvjirTJZoh8W3YMxZCrjEsJSQpiEecoWCN0DbiEc2fm1gKLeX3WwWa3XpwfhIC+JuT8a9HWoh2lA7dFNctIMSCVJX/+0D38g9d8B8Ok/Tg0CXXA1GKtI2dlHBv+4Xe8Cs2Kcw7VTIqpl1/QGVkTZYI6Kp0IloIBliSZ6A1lfQkubZHieOn+3g3ZKd2oYzyZYusGhg2uKVhPmdAFnFUmVphYoWqXi+xKbuduGMGJYejg1PwwZDRhJRCbMdVoRMyZLgTW1/cRQsA623vAQpyXnoHGZKJRJGWGXcDQ9TZJHdC1jqlMaMqWVHpcs3cUDAF80Xuy3vcHf8T73n8bI6lpOU2hAUO/PreOXl5/F3dSase84lWvQ1ByFFRKMELtHQNVZLxBEmgHvSwDSxxoEAWfEIVBBJshYuhniOGU6fhvhuvU9RG65mHQvTPaS3UMk8N1QKukGlJhUQNiO0QFE+n3tvkUfKI59uVgEXXaacjFGLe/t9Y+pUPlrwLPeMNr0dHQG10iwr333ssv/dIv8aY3vYlLL72U22+/nQ9/+MO89KUvZTgcbhtpOw2vEAIpJUSE2WxGjJGiKM5a1BffCxkGA/CGuhAGNrO5eZLkDzEaDgkx0qa+yG9VFhTOnDmVi9I20/6kGwMClEWFnw/KlDKiiSJPEQ3EeeR+UFgk93Ufk9t9UFlVfE4EA8ZkjMl4D6V3VFJg44wUIyA4ZzBLtLk0MpSFI9UFLjUU4vowIODChEsPrLHZNag6nN99iDrAA03MWDIuN1ht5pzOROGEwvQh27jEc4gqpYkk0xucVhNiMr6wVKbA5EDcbPv9wxjcHvaN5Ehop/iqQGKDhClGA86Aj1MGpSEmZZoCssyzAJVASIpoRnKgkDGJRNaMNZmht73grzPkZRak3CEpI6kgdRlSS2EE40vqZAjTKantOPS8l3HlN/23uzZnjNmec1974y9irMVYy3Q8xlpLPRjgnSOmFqlO0b3vZnwcIa0yqWYMbcKIJVIQ1EEDRVFgbV8YOIRAWZaE0B8mnOsLajvnlj71LrxyMfab006v2Ww2m1/P0mGZmoPsd4qNEDQTU+DwtOOfrF3J36FilAMTM0MvBV94Yujb/KPLDjIej/HOn9ksUIy7FGeFIne4EDm1fx0vB2hm8F/HJ/m12YM8vPkIo9Lhzd4t6SZbitkA6U4TTMVmWeOocSIUDYxyRRFKYla829i9D+nHYkz9wcVooMxj8rzWhpXMoLCYAG0zJdL3edc1tE1DWZZYa9AsFN4CBSaWlKFkPSY6LWhcxcxZkmmJfkCODtcOcWYEch51Q3dBBqZTQ5tLRi/8Oi755tcyWnsujTT4ZosiNaQCNqziO4dJu8+r5/7AL2OzY2CENIxoeZLTH/lPXHr7f+afHryMr3aJY7JBg7JvuL7EXVpUKpxNVF1LtJbx2jqlHmBjq+HfTx5m2k15cPMRag9G9m7sxOywalkXEC9Q9aHF3uuUKU2B0bnniX6s7zSIzg0PfrlhwZ1/Y63tRWXbFhGhLMtVqPFCYcHnWnipjh8/zkMPPURRFLzgBS/g6quv5sSJEzz44IN89rOf5dChQ9sL8+Lv4ewwxfp6P+hjjDjn5gZR2h44KUO0I7IZ0eWCIAWDfWu0AVAlJSEiiBgSllk4wxfbf8llpJgIoSNKr0c0C4r2bgQ66TO4Qu6IvkKqfbR4VAUntud96O4nBdXezdth0QROLc4oxnkUTxs8rR1AeZCIwyzR5rIw1tFRMg6OadcSXEE3z36bNC0DwNYjIoa4TIqz9CVjolhUI11MJIU0OkwrJaoGI4Ixfqm+ERSHJaglZotRxYvDGodaT1Clo0CrQyRbL9Xmssi2QIoh01yzMW0ZIThfc3LrNJ3JiKQ+c6+oiHH3jUSkl5SI0nPmNEHKDaneT1cM6dQBBmc9EUte4lmMcYhVcnaIOqJ41BnEFagUzCiI5X7sYD/1oSuXeu7F+jc4fBXWGHzhOXSFp2mb3tNrDCKRR8tI60sku55XI/NS8SmQEKIrqB3bNeAWC/ZO3shiLi+oBMssvguumHOOpmm2jTgR2Ta6RPoKgy2ml6CySjSJTgRxmUuHJc/LBesxs4nBJYttLXmuV/XCVDLJEZstVT3ADh2TjU0cJaJxXv9OmcZAardARozLAZdMIAw82WbMedXGfGpoHmLiPq7Q/dgJ+MmMqIboDGIbGlWSJFhyzYE5j0vmHK6kxNSSqn497XCoGrzxZDUU1YCiKJhMJgS1GLUYDFGUaZdJGVQDmcRMEp1tiJohGorUMeparkhDhsmDFhi3d95AxdBUaxB6z/QlV13GibHAcD9uMMDEgHdCdoYiSl8qbhccvOQqfPaUOXFcT2DW1zFVyVAs144Oc+nG41wyWid5w1qzTH8bVB3kGdLL3TJrW/LsNFLu46Ou5AvaMBt6BjrdPvzuBTaKIY9TzEONMj9ItIQcWLeelHPPf5Mz++oCi7m22F+fyBHyZFh4uRZOEmvt9s875/1fp9EFz3DDayexFnqL9/Tp02xsbHDllVdS1zVFUXDkyBEuv/xyPv/5z/OSl7zkDFF2/qEdPXqU++67j+PHjzOZTHj00Uf56Ec/ynQ63T6txxjPWOWaQRt0cpJBKOmOfopk6rnCfIKccYDYAkyee5YAXs7s7g9jrIWsWFWss7RtS2sEMY6IxUjGJFibPYzkLdLDn6KTkipNEDK6xMlFNZM1kuyIjPReDO1I1vfZP9pRTx/mkJ3Ag3egdg9PQ6agGB/loJlQPPopoqnp4hT4Tnjwo0xmp5HhIRCL5t2Ni4TSAkE9mAwZqsfv51CRMCc+R9dsYDVS6AyV5cpT5NyRTEUUj2jCpgnZejopUVX87ASXlB3lyXtQv3vNxOXwcvTBP0fGpzjgI+XJz6IPGjqA5iRucJTYTUniyL6GtNx1O5SApZdUVGxUDsiYavwI4eidJCyDtImKW0obDDPPno0VyXmULbJkoqmQVFGGDdZ1g9w15KMf27W5nJWUIvAK5OGPk4FgDE3qQ4ULjheFYVadxBcdX3z4Pv7wD2+mrQOlRkzqn7EznmpORs85Y63l0KFDvPjFL6YoijlnKp2VDLMMTp48yX333cfRo0fpuo67774bgJtvvpm2bbfbbjUzIXGoVbwxjI3yl/d/juFll/K5qkCjYhHGRUXZFqB9IsEPAP9xUBO8wxrbi02qUhw8gGQI2hBNgTjHMDsmscUax8OVZeiO8Il9Ix7OgWIJ7atlkdVwMs/6655+CO7/FEZLsu8Npon2SS0qZmn2VIcS52PRimKTsF83AYhH7+wPeXkLaxxRDZ32xrGLCaztCyur0s03VhUhqLKlmY6A2gKTLSYloh1jBpnP2MQfFxEr9Z71DQhSGiahos4z5KHPIMc6iv1DnE1oDGjqD7LoPOfpKfEdpIc+gmYhTQNiO7oTDbq5STda5xODGpmVTIcjcmkpl8hoBua8rkByFd4IRRQ2uxkjX3FyvWYmjttGA4ad7qnh1SLc5zyxLvjDP3o/VT2gM5msiUGCXFhM6guiv+a1r+a9730vRVF8ScJKVVV0XUfXdVTV8tI0i4NWSokYI6PRiK//+q/n0ksvxTm3CjVeSCwW16Iotj1SXdeRUmI0Gm13fl3XDAYDPv/5z8+rqNuzTscPPPAAt9xyC3fdddc29+rOO+/knnvuIcbIcDjsayXOT8HeKFVznK8+VHK1s0ynf8HprSkH9u+nECAFcoqoZsR5Yk6LzHhO3PJurrnmGg4ePIgxQlVVTGYTclbUeNSVVM5ACthDE1Ch7T7DuEkMpcGLbovkPRVEM0YTM7eGSl/yw8WWGBMTCkZ1QXVgk2Q9qfnknub9NtlRH9jkwMFDZPt5jrdKbHrh2Gtmn+CuO+/g0NVfw4H9+yifQl5ggZx7nlW0NZU3GM1IcRr3/IN09otMJg9jUsfQBPIyhoWCzYHO1URTYlCqNCXERJMtxhfsL5VrXjgilQ+i05NfaZds47njO5hMJhzc3/BV1UM00ymzEDk4KCiSpWs3mXSZIJ6R371vVHsuUzIl1vme/xJb3LMq0toGs+bTtF1knzT9uFnmc5aMYiHXeF/Q6ZguteQo+FyzvzZ89VWJlgZt/3LX5nLW7RDec8Jn+jE4GfPxj3+cb/iGlzIa9fPLUHDIGYqvu5KN9nFu+v2b0Lknz3uHAm3oIGWcdXRdoKoqrr32Wp73vOdxySWXAGyvAYPBYOlT78mTJ7njjjv40Ic+hPeeU6dOoarcdNNNnD59mtFo1Gfa5YBKw3CWKYxnJsLMwHV/9+9zbNrxQAxs1TBbKxh2nhwTxlp+AHjvN/5trDUYMdx3//08/NBDvOxbvoU4C7S5pa0y1JZnTwyboSM0CYPlWetfz51t7D2AS6i9Lw07IbjjjNJhBj6wHo5SBUFCJtIi82xsFcETdud4KcSUSKbAuKJXUE8d7qree/Oc5i5mXWKfzHDOce999/Poo4/yzd/8zT2/tu2TDIwYuq4vUZWkz+40mknWYikw2RMVtuqE/J0r+AITjmuNhEv2rGsEZV+eMFLla/yQcvMoz8mRohWi74ixRdtE5zyqdqmKEEe6TxNSh5tknnfwcjanLUdRmsuP8F+f/2w2w5WcHhZEB26JmqqiYLKhNS3NUFgzhiNT4fHYYaYJqSrKsuT/62Jfbm4P9Vf2NxNMAc89UPOeP3gvEoXhoMY5w/jUadz+IVhHDpHXvPbV/M7v/M62F0pE8N5vR57uvfdeHn/8ca655pqlrm2MoSxLYoyMx2OapuH5z3/+toPFGHNeiTUXAqJLpgqMx2O+7/u+j1/5lV/h3nvv5Z3vfOf2a8eOHeNFL3oRv/qrv8q73/1u3vOe92yH4173utdx4403Xpi73wUL63nxAaytrXH33Xfzp3/6p3zxi1/kx3/8xzl06BD33HMPt956K3fccQdvfetbedaznnUWMa/rurM8Z0+UebEzwxEROlVypg+FGOZaJoIkxaI4o71nzDgQyCkzHI143eu+lze+8Yd58YtfjDWGoiznpH4lipBMXyimSAGjHUkMM1szi7Bu6CUGlhlMmlESM3EkBA+U82ceq2CNUBJxOYCt2MtJOQPoZpSxxQ72MwHaAFes19xz9938yA/9T/zEP/sZrvvG61jGP9UT3CEYQQR8TrjcAZGZHTLLBg+smSX7Zl5io8US5obaEAWFWYYoQmUUH2e913KPuBF1XbMxm/GZz3+OH/9Hr+cd73w31770G2lUyBH2FyCpIyAk66mXehQl5r7MFCJYzRQpAB2dKZlRkDIcsPOKocuE3UikDClbxC2EEROaMiZ6qgKMtChxyRT1PkNvUB/k9NYxUkrcd999/NRP/RQ/9VNv5doXXtsXvM4ZJlu0VUVwBSZZBqGkEUV8XxveagYiIn34fUEDWFvrFfF3LrYhhKVJvIuTcwhhzjvqN75yPj+3n0T6sdPrtPS59Bohb82wawNSYehsnzG4rvRpxcBgbcTmqdM978wafv/3f59b/+SDvOtfvQuJDkTYcsopA1dvJqZDQzAJn5QBnkfilH2FZeT2MOxNItL1oc7GQzSIVbSONLQkIgZweAoG7L5GKCnNQ41GcKoUqVfYrNcu4dh0RpfgoOlzhX/3P/wHPvKRP+Od7/yF7c8AmB+Mc88Nko5AQyIhOEoKXCig7cO9Wgey6T8rt9RqshySwiPJMjRCKQKZ3pOTxkxNAFMw0mE/BJawaepBzeOzMRllkC2mNahRfvnX/29u+8ht/Nq/+w1UHUkMHsNgGQM7g7S9BNFxD0TlcJPZWLMQO2q1ZIXHU8PlVYFbKk16OSQVWqATpcbgs8GEXu5IvSU7YZZaDHBotJ/pdHoWIX6BU6dOcdNNN/HQQw/x9re/fdfr7gwz7qQYxBip63p7ry7LXtPtbzTH65Of/CRvectbuP/++wG4/vrruf766wE4fvw4r3/96/nJn/xJAO666y7e+c538uIXv/jC3PGXAecca2trWGvx3pNS4v77799eTE+ePMnGxgbXXHMN1trtxXXB/1iEERYfYtM0Z5Fzc850Xbcdj1b6RI2UMlYEKxBCImWlqGyfQpsi1kDQnvNkq37BPHbsMay17Nu3b/uaKSXEQBaZu+mhnPVZd9HXIB6fYGjmwpLL1EvRhGqHmIo2GwoytSSQjMWTMdjU4SKYotpTj1dOYHxBqR25axlWI8qyH4qFz8R2Sukcg6pa0iWrZDLdPIThu3Ffv7Laj4rHZsGTqExmuSGvkFus8TTq0KzUJgEJL5aAQzTjiRhfIkuIji6LQVUxKCs6KShKx6guKMQRU6YMY2xpsaYk4qiW2mN7MmuHIWMwqaNsxlCtYWyJUYtmpTIRkb7/dkfXt6plH5yQhNBnT0nuNzed61MZ2b1v9P9v78yjpKruxP95tXRV9UZ30xtLszR0IyCLLAqtsrggBlCPmsSYxEnMRLN6xpkTY4wJZ35nMhp0xpExycmZcXIm0WQSE5eRKDGagEYIKKvKKtDYDU03vXfX+uq9+/uj+j5uPQoFB+gq+n7O4dBd3VX97va93/vdrkjNCYCiguEIIQj4O2g50o/PU0hBqDSVNGIK8gqDRJIRfIaXovwifEkPfh+YHpFKirAFhhcsa6DeETjxHe46QWcqdNU1L90e0mouhb2dhFjEIlDowfIYxLCxbJv8wgB53lTiTciwsQ0PRjIPtXsKi4tTzwdYSegNx8kvKCRpxfAYHrxePwEMQoYNeQLDY5GXTOI1E4zOD6UycE/Honu6WCCSBl6PByNgkMgzSPgEBARB8vEmbTx26kYB47QVPgsTDxYePHaSvGg/RqAAgPxgiKAtCHmSGEYqkaGnp5dQKOUidNdPFELgF37yKcDCxvJ7sY1UcpHXZ5BvC/AFUgV2DYFxGhbiM2G0HcOXSFUotUNefLZAiDwMIx9EgEAyVY8wz2/iPY2q8CUBDwgbTwII+TH8BgUlhRQNL6EoWIjX8kE0dbj0nMapSwgLyx/F5w1Q7vGCZRDMs7GCgjzbg980QQgK8grwe86eDAOI2R78AgoMUjdaYGCbFrYl8Pr9eLwQxO/UfguFQk5okMxOl/t1KBTCNE3y8k5PcVYPV+7sRnXdZ32M129+8xtWrlzJfffdd9LPVq1axW233ca4ceOAlOL105/+lCNHjjB37ly+/e1vO9rl+UbNiEilaAsqKiqoqKigra2N1tZWCgoKaG9v58iRIyxbtoz8/HxH4ZJKjxqUp2rScpJIgewE4Ns2ntQFDanDjgC/kSqGmioUaWAMlAZN1QhML1uhWtdS5SQ8eEgFsQ6UiwSPlSqIKQw8BuR5UiUiMDynVxJAWBhWAq8niM9IpXIbwky5bTy+VHE9w8DwepVKK2cHrwGG4UmV8/NE8CoeEo8VJ+T3pJRTO1XO4qPbYmOQymwzAMNjp4TOQN/4jVRhVSwz1TcfteAEqZg3PPg8vlRRStvEMFIVyETqgIvhPY3POkOELUAYBEKFeEQSwzZTirkHDCNJqpiID+/pWtkGKnDKYHOPIRCeZCqgWxgDYyEwrAR4A2CcztxJpoqjGgEMwBZJDEy8eMDISylRXg/GwN2Jp4MMuTBIdalh23hEEs/AWvMIEF4DyxckYKSKQnpNG7AGrkXxYBgebMPAsAxSJbtPZCPCCSEsg+rVchAfhSqs5fuFEGnxXamixzY+v5Xq54F17/EaeL0+DNsGM3WAsvM8+Dy20j9eDI9A2FaqkKpXEAz6sIWF5bXBAn/Cm1r/3tT68FiAMIj4DIL4UhdMn8WVahtgeQS2MPH4BvrWAz4BHtvAIzx4MFIy53SEhBCA5ZTE8SDAm2Sg1BNeA3yGADuBjR+v10sgEEi5FZWDsDomhjBSCr8w8FhGqlaaN1WfPSkMhEimlFyPB584m3E9Ax4Mw4dpGEQEFAofPtuH3/AANkJEiPm8GB7PR8ZO+iCVTCUEXiO1NpMC8Hrx+X34sBFWHLz+VHKN8dFJR7ZhkzRsfKZFQJrdPAYeG3yWj6QBtkcQEKkCs2dz7vgAnzBSyihJLI8H22ukFGNDEMBAjSJRLVVyrIUQTqUAGUN9JriLssIJeaAWVB8MTkt6n8rE19jYyObNm52fh8NhJk+ezLe+9S3Gjh3L/fffz49//GPuvffes/fEHxM5CGVlZYwfP56Kigo2bNjAwYMH2bt3Lz6fj7q6ujTFS32fihS0UkOXE0X+PqQyBj0eg9QCPKHB24YxIIC8A9la6QXd6urqKCgocJS8E6e71N/2GKmTveEPpDLQBoQ7Riqu/PRrBKYEppeU0uZx4kNSwtRrkFrgnoHfPYv4B+S0bZ+wpnlEyg3o9+cxbvwECkL5A+0WTv9JTl5QxoAqO7Bpe/0DlfpSr3k9pDYpTjeGCZAqbqpLGDDtpP6OkfrK40/VxT6bGEDQn8eEiXWEgvl4RGqReoyUlTCl1J9QVE7rAwcKFxpGqtAogRAIT+pzBvbNM4qrFYb8WDxGSlk0nD828HmGB2PAZXRaj2nINZHaUAIBPxMnjiEUyiN1ByP4vCmLb5AQHkvgsQXCY2NbNh7Dn9LRDSOlc3k9A+uPNMVLHpbONL7Dvb7l12rWs2VZGF5BwA+IVHKMj9Sm6xUGCC+W8DiKuxAmHq9n4DNT7jPbtrCFoKyshNrasSmXmteXUiaTAzdThHx4hJGyVnp8JH1+bFPgE2c3ZkV4Uv1L0sL2GinLheDENeoGqYLrp/snBxQKwxZ4DDtVaDovhGV7BlyWKeusIVJZj8OHD6e2ttbpY7lpqrI5VdFfYNgMrBWBZYDll5ZUG2EYeDwpRfGs9Q0C2wggfJ4TdxAK38Ah2wZMLI+N129gCw82JzZ5WX3fLYts/KmwE5/AsFI3GAwrHsbo6pF4hMA0LAikFLl0QW+QSfAbgMfIAzyprEqPMeDiTRkDbG/qNgWSqTV7NqV8YGBPEgPnZ8GJNWlJg4gwnD+qGkmk618aPUpKSqisrDzp8COTZ9L3yfR+UD/X6ReXFWwwOO0YL4CrrrqKn//854wePRqAH/7wh5SUlHD33Xdn/P1du3bxwAMP8Pzzz5+dp9VoNBqNRqPJYf5PUcGvvfYaTz75pPP90aNH2bBhA7femiqaKIsVDhaqFiyLp0qXYyQSoaenx9F6A4EA5eXlTv0Q+RrgxHydaSVd9aQmUQNE3b/n9Xrp7e114spUn3amLIxTXYEwmL7r00EWsPN6vWl3ZhqGQX9/f9rtAKppWLU6yMwU2S+DOc9OFzleasyRtMBIV3UsFsPv99Pf3+9YPmXdGfmzTDcr5DKqVVMGrcuElvz8fJLJJLZtEwqFHHeELIwqhCAUCqVlIefCOpBtNk3TWe+yDaZpYpqpelz5+SnLbzQadfoDUm1LJpMkEgknXf50a5INFuoZP5FIEI2mbjUoKCjA7/c7fSHndzweJ5FIUFBQ4MiHcDhMX18fVVVVOTHOcGKs1dCUTBZXNXZYvi8Wi5FMJikqKnKSQdx16DIh5Yb71oZsQ7ZBxkgbhkE8HicWi1E8EPMoC5YXFRU5slPO/2g0SkFBgSNPrYESNNk+Jz72btXZ2UksFqOmpsZ5LRgM8sgjj3DZZZcxevRonn76aa699tqz8qAfB9UN4Pf70zZqWcNLneRysFTXoeQMDINp71GDeVXlSWZauJW5/Px8ZxNSq26rG3UmV+jHcZ8MFrLuWTweTzMr+3w+gsFgWjkPdztl30WjUadfcgW1KKA7RlC2U7ZdZgXL16VgUhXObBeqp4ta4FDOh7y8vJMOS3L9QGqN8dywqAAAIABJREFUyoOJ7JNcWgdqrKh8VrnhBINBgsFg2gbr3IphGI5yKvtArie18HO2Eo/HnSQkVdZB+lUvgNO2RCLhHILlmpcbtAzAzmbkQUEW4FXXvhpPLNth2zamaTryUPZHIpFwivWq60HuDe6/mQuyUZXvkUjEKSMhS71IA4jf7z+pjV6vl2AwmFaXL9vnv+RjK17Nzc1UV1envVZWVsb/+3//j69+9auYpsmsWbP44he/+H9+yI+LOlCZJmGm4DrVeqJarD5OJpSa1up+HrfPWf36VEGB6vvVz/44SuFg4s5cydQvavycPOU5iQaKoMkkdLIZ2T5p0XAr+fJaC2l1le2XgljeOZYLQvXjIOM2ZFshPbBdIr+WhxN105Z9lc19pCqbavvkXFfbo26ick3I+SOVz2Ty7N2zdy6Rz+71ep1nl+vXnbykBlqrPw8EAo7nIBfIZI1NKz80gDxAqPNejTF23zGoHujl33F/XrajHjjdwfWqFUxVztV9WVpK1TmUC8rXGcV45RpyAqsDkWmTl7V+3K49dwV7OL3JLBeD3BB8Pl/aidyyLKLRKC0tLY4ADQaDXHTRRY7roLu7m87OTidrqrq6mtLSUudZpBLitgbkwmk/Fos5puL333/fWXCXXHIJTU1NVFdXY5ombW1tdHR0YBgGhYWFlJaWUlhYmOaWyWSdzEYsy3KsW9JFJC9wNk2TDz74gLq6Oo4cOUJlZSXRaJSjR48SjUbxeDwEg0HGjRvnbLyDlSl8Lujt7WXfvn3MmTOHTZs2pS6ULyxk/PjxALS0tNDe3u7M9xEjRjhuCOmSlJYAWdolda9f9gpg27aJRCK0tbXR19fHjBkz2L59OxUVFQwbNsxxLR8+fNixcJWUlDBq1Cjy8vIcd7100+eCpU/KP+lilHWVDh48yIQJE9i0aRM+n4/y8nIqKirIy8ujv7+fw4cPO/O+tLSU6upqJ+MtF9a+O+TEtm1H5skr5+RBo6uri8OHDxMKhaipqSEvL4/u7m7a2tqcPaqsrIyKigpnvqsKmBpykc1zQaJ6Mfbs2ePsDfJOxUmTJjFs2DD6+/tpampy5GhpaSkjR450rIlyrSeTyUG/Dui0EBcwtm07/5LJpDBNU8RiMRGNRkUikXBeTyaTab9rWZaIx+MiGo0K27aFEEKYpikSicRp/V3LskQ4HHY+1zRN0dPTIxKJhLAsSxw/fly8+OKL4tprrxUXX3yxmDp1qrjpppuEEEJ0dHSIaDQq/vu//1s0NDSImpoaMX/+fPHUU0+Jjo4O5xlN0xSWZaV9n0wmhWVZ56w/zxamaQrTNMXWrVvFtGnTxMyZM8WMGTOEEEL85Cc/Ee3t7aK7u1v89Kc/FfPnzxfjx48Xn/70p8XGjRtFIpFwxqWnpydtjLKZvr4+0d3dLWzbduaBbdsiFouJpqYm8cUvflEIIcSqVatEd3e3aGpqEl/5ylfErFmzxJw5c8QXv/hF8cEHHwjTNJ0xv1BYt26dGDVqlBBCiClTpohLLrlE3H777aK7u1u0t7eLxx9/XCxYsEBMmzZNLF68WDz//POiq6srbc3K+a++ls2YpimOHTsm/u7v/k7MmzdPCCHExRdfLB5++GGxc+dO0dXVJTZs2CAWLFggamtrxfTp08WDDz4ourq60ta9/BePx0UymRzkVn046nOapikikYgwTVN86UtfEkKk2j979mzx/e9/X7z33nuiq6tLvPzyy2LmzJmirq5OLFq0SDz++OPOms+FcRYitR/IMUsmkyIWizlzVe4VQgjR09MjnnvuOTFv3jyxePFi8frrr4uuri6xZs0aMXv2bDFx4kRx1VVXiccff1x0dnaeNAfUz5R/L9uRc9a2bXH99deLiRMniilTpojJkyeLhoYG8frrr4v+/n6xbt06cfXVV4tZs2aJBQsWiH//938X8XhcdHZ2inA47OyHUj5mO9kfkfx/QLiCl+GEa0pksGAJ5dQoLUmSM3FpGUaqwKI82QBOAKA8ndfV1fG1r32NyspKvF4vW7duBaC9vZ23336bw4cPc9ttt3HZZZfx5z//mebmZrZv386iRYtO8mXL58r2E69EPnttbS2rV6+mpKTEee2NN97gkksu4Y033qCnp4cvfOEL1NXVsWbNGrZs2UIoFGLq1KmEw2GCwaBz4sn24HoZAK7WaAPo7u5m/fr1xGIxIBXj19/fz49//GPGjBnDkiVLsG2bdevW8eabb9LQ0EBVVRVCiDO6uyybkZYMgF/96lfO+ikoKODZZ5+lp6eHT33qU8ycOZNXX32VpqYm9uzZw7Rp05zimirqCThbEQNW6xtuuIGbbroJgMcff5zVq1czduxYWltbefvtt1m0aBELFy7k6NGjNDc38+yzz3LLLbekXXkG5ERAMaSeU1r5pWXi7//+7wF4+umn6ezs5LHHHqOuro5t27axY8cOvvzlLzNjxgw2b95MW1sbf/rTn7jmmmsAHCtoNqOGmkhPhWqlktbrAwcOcPDgQcaOHUtnZycej4e//vWvrF+/ni996UtcfPHFbNq0ie7ubrZu3cqiRYvSXNHuenXyZ9mMfOZIJEIoFOKOO+5g6dKlBAIBfD4fNTU1bN++nQ0bNtDQ0MBll13G4cOH6erq4plnnuHWW2914gDFQKJNLpD9dtqzgDs2JFPslAzQU5UYqShl8sd/1N87qa6XsiiCwSAjR46koaGBWbNmMWPGDKdER2dnJ3/5y1/o7+/n0ksvZdasWVx55ZW0t7eza9euk64uUj8/VxQv+dwFBQXMmjWLadOmMXnyZCDVfoCtW7fi8/m49tprmTt3LvPnz6epqYn33nvPSZZQ40CyHRmfIRR3o3Q3r1+/3mm/bdv09/fz2muvUVdXx7x585g+fTozZszgr3/9K0ePHh30bOGzjWVZjuJZX1/P5MmTmThxIl6vl02bNhEIBFi4cCHTpk3jyiuvZM+ePbz33nvOHID0wOxcmA8ej4fi4mKmT5/u3PIxffp0PB4P3d3d7Nmzh/3797NgwQJmzJjBpZdeSmFhIevWrUsLW5CositbkWtVlcHJZJKJEycCMHnyZOrq6ohEIvT19bFv3z7ef/99li5dyowZM5g7dy4lJSVs3brVUa5zYazdSDkgs3VlG7Zu3UpzczNz586luLgYr9dLc3Mzzc3NLF68mNmzZzNnzhwCgQBvvfUWyWTScb2544hzZS+QzyjDccrKypg4cSJTpkzhoosuorCwkIMHD9LU1MSSJUuYN28eV155JcFg0HFNS0OE21iSzeTerD0D1JOAFFTqxAQyvi7ju9yDeLoTWSpyqqCRSKWhsLDQiWNwW0JaWlrw+/3U1tbi8XiYNGkS/f39HD169KS/o1rp3MI4W1GVxUAgwMaNG3n22WcBqKqqIj8/n0gkQnFxMePGjcPv93PxxRcTjUZpbW3FME5c46R+XjajzjP53B988AHvvvuuswFDKusrHA7T1tbGiBEjKC8vp7S0lMmTJ3Pw4EH6+vqyvmzAx0HGY65du5ZNmzbR1NSEbdscPHiQUCjEhAkTCAQCTJs2jWPHjnH06FHn+i9I32jcVsVsxOPxUFBQQFlZGQUFqStzZNyWz+ejp6eHtrY2x6pXXV1NUVERBw4cANJlUS4oXSruuEzZlhdffJGXX36ZkpISSktLHeVk/Pjx5OXlMWbMGEpKSnj//fdzIqZN4pbLakKU3G8AOjo6qKqqora21pnbfX19JBIJxo8f78R5hkIh9u7dm5blK1EVsVzpG8BRmnbv3s0f/vAH/vjHP7Jv3z76+vo4fvw4fX19TJ8+nZKSEmpra8nPz+fgwYNpilsuHUZz50k/BqpCIoVTJjedO7vOXVvp40zgU53I1A1Yloxoa2vjyJEjAFRWVuLz+SgoKKC8vBxIBdXKYEN38KS6kUtlL9vdLO5Mz9/+9rds3LiRT33qU87pt7CwMM1dW1RU5Cipajul2yLb2+xW8G3bZufOnWzfvp2/+Zu/IRwOA6nNNxqNUlhY6KTKFxQUUFhYSCQSAVL9JzPDsplTbTYqMnFCBtL/7Gc/Y9SoUcydO5ebb76Z3t5eAMetWl5ejhDCCaqXd7ipazQXguvhRIailBG7d+8mEolQUVFBX18fvb29VFZWOr8fCoWIx+NpVhIp23LB1SjHX6027vP5iMfj+P1+fvSjH9HV1cX8+fMZMWIEra2tlJSUOIH0+fn5WJbF8ePH0xKKsn2cpYx2eyikR6W3t5fS0lKqqqqYOXMmBw4ccA5giUQiLQO0qKgIv99PZ2fnSaU0hDhRFy5XLIGybyzLorq6mv3799PY2EgoFGLOnDksXbqU3t5e4vE4oVAIj8fj1LKT3hG5j+aSJyA3nvIscCYT8WwMnt/vd+4YU7MaZVkEeVu6ZVk888wz7Nixg6997WtORl88HneEixQs7o0rl065KuoGEQgE+M53vuNkbh08eJAPPvjA6TvZB2pKufp9tm82ErVUAMA777zDsWPHGD16NPX19Wzbtg044ZJUS51IBUNuurl0unPHmajZwvJQc9FFF/HEE08A8KMf/Yg1a9bw4osvMmnSJHp6ehyhqhZHPNW454rVF04cFqTy+C//8i8sX76cadOmcfjwYedQIZHtVg+RubTJwoniwW4ZAPDLX/6So0eP8uijj3LgwAHa29sdRUIqFUIIRwnJFauO6g7Py8tL64P+/n62bt3K1VdfTUVFBWVlZbz//vtO8WSpdKp7Qa5kc54Ocq36/X7uvfdegsEg+fn5HDp0iH/4h3+gtLSU9vZ2gLR5DyfL/lyYC5LckN7/Rz5sQNzxX2fz76nWNvXEL82qvb29/OIXv6Cjo4OrrrrK+dnw4cMdd4NMpfX7/QQCAcfS4XaVAjnjglJj5gzDYPjw4Y6rqaqqitbWVpqamujp6XFcs7K0htfrdayTMl4qF1DH37Is2tvb2bFjB++++y47duygp6eHZ599ltdee43W1la6u7sJh8OYpkkikaC3t5fq6mry8/NzuoCqu26VDIiVFq/y8nLq6urYt28f27dvd+5O7e/vJxgMcvz4cSBVv0otoqoqIrlQWFe1Uv/5z3/muuuuY9q0aSxevJiqqiqCwSAlJSVEIhEMI1UsNBKJOAWG3cqrlAvZvh5kfKNUqNQ5XF5ejmEYjBs3jpaWFg4dOuQcyKRVBHACqLN9jCWqrFatnKZp0tXVxd69e7n66qv5j//4DwoLC2lubqa1tZVAIEBnZ6dj7fV4PBw/fpz+/n6GDx/ulE6R8U0yBCNX+gXSx3DMmDHO3lheXs7cuXMxTZO+vj4gVYbI5/MRjUYxDMPxCKnhBmpZpWwmd0Yoh1Bdieomo8Zi9PT08Morr7B3717GjRvHFVdcAaQmYk1NDYlEgr1792JZFlu2bCEYDDoB+BJ3bFcuTDg4cd1JJBIhHo87yhWk4hxs26aiooJoNMqBAweIRCLs3LmTgoICRo4cmVOCReJ2NY4dO5arr76aFStWUF9fz7hx4wCoqKigrq7OyWzr6Oigu7ub3bt3U1NTQ2FhYc6MM6RvOhLVzSLr1kmrh3zNNE1CoRDjxo0jHA5z6NAhTNNk+/btjB492lkjpzqAZDvSgrdp0ya2bNkCwI033sj48eMJhUJUVFQwYsQINm7cSCQSoaWlhd7eXurr6zOe+HNpTqjj39HR4bjZpVVLutRLS0vJz89n27Zt9Pf3c/DgQXp6epg6daojQ3Ihns+dtAUnDgqFhYVcfPHFAFx++eXO2g8EAowZM8aJb9u1axeJRILGxkbC4TCTJ0/+0KLg8nCW7cj+kIkCUjGV1+clk0mqq6spKytj27ZtdHV1sX//fsLhMBMmTHD6VSrzucKQsHgNBtIakynwVSoUP//5zykuLsa2bY4dO0ZdXR2dnZ1MmjSJPXv2sH79eiKRCH/6058YPnw4F198cZq1yx3DlivuN3lCP3bsGIcOHXKsGg0NDYTDYUaPHs3VV19NT08Pf/jDHxg1ahRvvfUW9fX1TJkyxenPXEmZVpHzor6+nkmTJgGp+fDee+8BOLFNXV1dHDhwwBnfd955h0svvZThw4c7AdjZTqYAcPU1y7JIJBJ0d3fT1NREQ0MDGzduZPfu3ViWxZQpU7Asy8n8bGlp4Y033nAyHy3LcjIb5SYjN/RsnxOWZdHV1cVzzz3H4cOHgdSzb926lVGjRlFZWcmkSZN4+eWXCYfDtLa20tvby6JFi5zYU7XETaZbOLIRNS7LNE06Oztpa2vjiiuu4M0336Srq4vOzk5mzJhBbW0t+/bt48UXX2TWrFm88847mKbJVVddlWbdyHbUMZIKt5QD5eXlXHnllQDcc889dHR08NZbb9HT08M111xDLBbj1Vdf5aWXXmLWrFls27YN27aZPXv2SQVU1b+XK3JRPmc4HGbnzp1Okdj29nba2tooLS1lzJgxHDp0iD/+8Y+0t7fT1NREPB5n/vz5zlVZqls2F8h+6Z2jqK4EGWgvJ0V3dze7du3ijTfeoKamhoMHD+L1evnLX/7CW2+9xdy5c4nFYvz617/mqaeeYty4cXzhC19g2rRpaZ+bK1Xb3ViWRTwe5/333+fBBx8kEAiQTCbZvHkzl19+OYsWLWLmzJk8++yzPPfcc3R2dlJfX88nP/lJR/Hyer2OmT3b3SsSVWGSMWx5eXn4/X7HZRYIBCgpKeGWW25h1apV/P73v8fv91NTU8M111zDiBEjTjo9ZysfFWslDwx79uxh5cqVbNiwgZUrVzJp0iQWL15MXV0d06dP55e//CW//OUvaWlpYdy4ccyfP5/6+vq0mj1qX+TCmkgkEuzbt4+33nqLDz74AID77ruPaDTK5z//ea666ioaGhp46KGHeO211wgGgyxdupTly5c7l0a7DyC5EGogZaGaGPHrX/+aK664gm9961uUlpYye/ZsZs6cydixYxkxYgQ/+MEP+N///V+qqqq46aabuPzyy9PuPM121AMynFDA3EiXYSgUoqSkBL/fT319PX19faxevZrnn3+eiooKrrvuOmbMmHGS/FeD+OXfzXbkM/f19fGLX/yC/fv3E41G8fv93HDDDTQ0NFBTU8PWrVt56KGHWL9+PaFQiJtvvpkbbriBWCxGIBBwEmxyoaYjXOBXBg0W8lTjvm9NXpUBKX91c3OzE7NhGAa1tbUcOnSIsrIykskkfX19TizE8OHDKS4udk65MqZDvTIoVyxeMistHA7T0dHhPPeECRPo6OigtLTUuT5D+vcDgQCBQICCggInq0WNb8h25B2LUvmOx+PACSEsky1aW1udjMa2tjZisZhTdqOqqirtzrJsVzA+6uQt10lfXx9NTU3MmDGD/fv3k5eXRygUoqysDCEEHR0dTnajvDJFLcEgi1DKk696mXC2Ytu2Ux4lGo0ydepUDh48iG3bFBcXU1hYiBCC48ePO24Y6YIMBoNOoLn74JHNa191C8GJbLRjx44xZswYDhw44Fx8PGzYMCe2r6ury1k7BQUFFBcXO2s+F5ILVAVZyvNT3buYTCYJh8P09/dTUlJCXl4ekUiE1tZWZ54PGzaMkpKStHsLASfxRo1zyub5ACcyeyORCJ2dnU7ogW3bDB8+nPz8fKdAant7u6OwFxUVOdcmyUOHPXDPZS5cGaQVr3OAe8NxFzxU3QRqppKcgHl5eU4ZhUAg4Ews9WTrDiLMpRgvSGVyyfap5SHUy37VbCCZ5SndLLJyvVRus3mThfQ4D1VgqjEOeXl5joImNxY1k0tNFc8F64aayavGIsLJbnLpYpDthxNJKFJBk7c+qGtLum3UNSWzv7J5Q5abLJywhAohiEQizh2eqjtN7Tv1YCetPrIieravA8AZS7luZfkPuXHKuS8VTr/f77gmVRmQKzF96oX3bpe47AepMMGJuaFms6ttlF/LMXfvDe41ls3IfU+Vh3INyz6QbZBKlipXZJKCfK+cU9ne7uw3FVwgyCw0VYjKCaQKS5kqLCfiqUynpzJX5wJy48wkMOVCzHRiU83JuSBUVFSlQKIKG7ci5v65JJfcCKdCVSAk7oBx90Yj+07dnOT7/X5/WpmRXLCAqlZqtyXIPbfVeSOv3JFrRFVicmVOyLUvFQz1gOp2GbsVFjhhOcp25VriToKAzG541Tvi/l6t2+Z+j3vtSHni3luykVP1hyoH3G51VSGVCTbyXy7MB9CK1zkjkwLhPrWqWTnqKU+egNTCcBJVUMvPyWT5ynZUF4l708hkzZHmY/XuSzWNOFdQXQrq6VcVkNKaIf+XP5PVrHNJ4VbnpfpPolqz1PpEmeKXVOuoZVmOdcw9/rmwBuQmoRYBtm3buX9Uoioosh/kid6yLMdyHAqFsr7NbosnpOSdGhCtKs3qmlBDKeTY58omq85p9TCVKVxAyge3ZTeTcq0WonWjHuZyAWnpVNuiXguXqZ0yOScUCqVZw7Jd2QTtajwnuDcW1T0o3UUymFo95akne7nBSrejqmC5J2mmxZvNuK19siK/NLebpukonpCuxMr3yjieXIlrgxMbhlvoSmGRSbicysKVC+11F7uFj66pJ60+0vUoPwdOzHN3CRI5f9zu+2zuIzmuqptVvZ1CtkXNXEsmkyQSCaeWm3rCz4U6XkIIpxaTPFj4/X5H+VLni7oW5DjKi5Bl6ZFcCa/IZLl2/1yGWWSy2qiJCJJM/eNeJx/2N7MFOYby9gL386r7o0zMkGtBlpzJJCOzvd1a8TrHnGojzWQ6dptU5WuZPvPDzNfZPungZOXUbRXM1Aa1naqAVn3+7r8hP8v9Hvl56slbjRuIxWL4/X58Pp9zibNMhJA3D5xpEGemE3+m9p2qnz7s97KRU4mWTK5T+boa0+Q+6WbaYE5nvmQz7ticD3Mbqr8rca+ZbG6zu33q2nRb8lVOpVioB7gPcy+75488/Lrfo8qRTHNKfQ7TND+0gvzpzH33s53K3fZhc/xUZPM8yMSp5n2mfUJ+nUnm50q7teKlyXnc8TJuYaZ+bxjGSfEh7hOpetGse3mop/FcSWfXaC5U3LFMagygO/xCrvdIJOJkQycSCXw+X1rhUcgcmC4trdIyr4aSuDmVEqXRgK5cr7lAUE+jbkXKrXjJ31NPzOrP3QGcQpy4L00K8VwI4NZoLnTcWX1wcnygRMYTyq+lrFD/yfeoX8v3qL/jrp+l0ZwJ2uKlyXlUhUje5ygVJTUDTFWopGtRWr7UuCH5Pvkz1QWmKm65UNJBo7mQcStZHxaMLYRwgvLVAxXghA8YRuquTxlrBzgB3DK2SE16UcMWMj2XRMsJjYpWvDQ5jzyJugtJyqktL1UNBAJOUL5bEEajUcf9IOM31KKnapahPAVnCgbVaDTnD6lAuWPcMile8rDU29uLz+cjGAxmjBvzer0ZC2CroQuZ4kXdz6Wi5YRGRftLNDmPOxMoFothWRaFhYUA/OlPf2LLli309vaSSCRoaGhg/vz55OXlsXHjRjZu3Eh+fj5FRUWEQiGKi4tZunQpoVCId999l9dff53Ozk4sy+Kyyy6joaGB6urqwWquRqNRcMdZqck0knfffZcXXniBaDSKZVlMmDCBOXPmcNFFF7Fz5042bNhAR0cHxcXFVFRUYNs2c+bMoa6uju7ubl544QUaGxtJJBKMGzeO66+/nnHjxjmHOHcAv1a0NB+GVrw0OY+araSm4kv3YDAYdK6ZsSyLzZs3M2zYMEKhEC+//DIjR46krKyMpqYmmpubGTNmDIsXL+bQoUO89957zvUVlmWxe/duhBDccsstOX1fpkZzIZDJ0uROrpEyoKKigq6uLnw+n3PRclVVFc8//zy2bVNeXo4QgpdeeomysjLGjRtHQUEBf/3rX0kkEpSWliKEIBwO89vf/pa77rrLeY9WtDRngt4xNBcEMn5DxmbJK0iEENTX13PFFVewePFirrnmGhobG9m2bRvvvvsuzc3NfPnLX+bOO+9k5syZjrD2+/28/vrr7Nixg9raWhoaGrjyyitpa2vj9ddfdwpXajSawUN1Nar/IL0w8YgRI7j66qu5/PLLmTdvHolEgk2bNnHgwAE2bdrEJZdcwle+8hWWL1/uhCbk5eXR2NjI7373OyorKx0ZUlJSwrPPPktfX58OrNd8LE7L4vXEE0/w8ssvA7Bw4ULuu+8+NmzYwEMPPUQ8Huf666/n3nvvBWD37t1897vfJRwOM2fOHP7xH/9RZ4BpzinyxBkKhejt7XW+ltWMd+3axe9+9zvefPNNAFpaWkgmk9TV1VFXV0dxcTFFRUWMHTuW+vp6R3jv2rWLV199lbfffpvu7m6CwSCRSIQrrrgC0zQpKCjQJ12NJotQC8tKpSiRSPDOO+/wP//zP+zcuZNoNEpnZyfDhw9n48aNTJ48mQkTJlBcXEx5eTnXX389HR0d+P1+jhw5wuuvv05LSwu2bdPX10c8Hqe8vHyQW6rJZT5SI9qwYQN/+ctfeO655zAMg7/9279lzZo1PProo/ziF79gxIgR3H333axfv56FCxfyrW99i3/6p39i5syZPPDAA/zmN7/h9ttvPx9t0QxR1GJ6hYWFjvC1bZtdu3axbt06Ro8ezVNPPUVeXh4rV66ktraWmpoaDh8+TH9/P/n5+QSDQYLBIO3t7RiGQXFxMddeey1f/epXCYVCzoWsBQUFhEKhtErKGo0m+wiHw3R0dLB//366urr4t3/7NwCef/559uzZw8iRI2lqanIs2NJy3t/fTyKRwOv1UlNTwyOPPMLw4cOBE5XmR4wYMZhN0+QwH6l4VVRUcP/99zvXFUyYMIHGxkbGjh1LTU0NACtWrGDt2rVMnDiRWCzGzJkzAbj55ptZvXq1Vrw05xR3bS552o3FYnR3dxMOhxkxYgRTp04lEok4QjUWi9HY2Eh/fz8lJSUcP36c5uZmx1JWUVHhfM7s2bMxTZNIJJKW1aTRaAYftUgndTAWAAAM4UlEQVSqzDqW6zMcDtPb24vH46Gurs45MHV0dGDbNo2NjfT09GBZFr29vWzbts25lqmkpIT6+no6OjqYMmUKw4cPJxaL0dvb+6GV6zWaD+OMykk0Njbymc98hs997nMcOnSIRx99FEhZxf7zP/+Tb37zm6xatYpf/epXABw+fJi77rqLP/zhD+fm6TUajUaj0WhyiNMOvtq/fz9333039913H16vl8bGRudn8rShXmipvq7RnEsy3XGnFlZ88sknefXVV4lEIlRVVeH3+5k9ezajRo2isbGRV155heLiYqfwam1tLXfeeSehUIh169bxzDPP0NPTg23bVFVVsWjRIm6//XadOq7RZAG2bTsXbcPJ9/hFIhE2b97MM888Q2NjI+Xl5fh8Pmpqali2bBn79u3jjTfeoKWlhYKCAoYNG0ZlZSUrVqygvr6evXv38tJLL7Fr1y7C4TDDhg2jrq6Ob3zjG1RUVAxm0zU5ymkpXlu2bOGee+7hgQceYNmyZWzevJnjx487Pz9+/DiVlZVUV1envd7e3k5lZeXZf2qNxoVhGESjUQKBAF6vF9u2icfjhEIhPvnJT3LTTTc5mY4+nw+/349t28RiMT772c8Sj8f5/e9/z7Zt25zsxmAwyHXXXcfChQuJx+P4/X68Xi9erzftjjeNRjP4qPerqnc45ufnc/nllzNr1iznsnv1nsUJEyawbNkyDMNg3759fO9732PKlCkUFRVRWFjIJZdcwkUXXZSWLenxeAiFQoPcYk2u8pGKV0tLC1//+td57LHHmD9/PgAzZszg0KFDHD58mNGjR7NmzRpuueUWRo0aRSAQYMuWLcyePZsXXniBBQsWnPNGaIY26qXVqkCVlqji4uI0oSnjPw4dOsTatWvZvXs34XAYIQSTJk1izpw5FBcXOzEjRUVF5Ofnp12kq8aQaDSawSVT1XrLspw17Pf78fv9FBYWpsWDRaNR1q5dyzvvvENnZyeGYTBp0iQuvfRSRo4cmaZk6Zp9mrPFRypeTz75JPF4nIcffth57bbbbuPhhx/mm9/8JvF4nIULF7J06VIAHn30UR588EH6+/uZOnUqd9xxx7l7eo2GE25Fn8+XVkVaCklpAZP/pJDOz89n7NixeL1eTNNk2LBh1NfXU1pamhaka1mWUxJFVsP2er0kk0nnb2o0mvOPtGy53f7ykORWxtTiqvKy+zFjxhCPx+nv76egoIAxY8Ywfvx48vLynEB89X5HtTCrRvNx0Hc1anIeNcZLnnKlZUoqTOoda+oVQ2r1eWnJkgJZXoqbTCYJBALO58slI+NKtLtRoxkc5HrMdGG9O95TXd+qZVy1YHs8HpLJZNodjlLxUt/rvqtRozkTtOKlyXmkUmWaJvF4HJ/PRyAQOKVbIB6POxdiy/f5fD4SiQTJZNK541H9fFWIS2UsGAyedE+cRqM5f7gvuZa3Sahr3x3zFY/HAZxDk4zfdMsLwzAwTRPTNAmFQs7fct8Nq9GcKVrx0uQ8agajqiRlisOKxWIZlTL1vR6Ph/7+fgKBAH6/33E5qjcwqDXDtBDWaAYH9+XUyWQSwLFGyXUqf0dNwFHr/8niyKZpkp+f7/y+rPdXWFiIYRjEYjGSySRFRUXnu6maCwiteGlyHtWVoKaRS4HqVsak0HVPfTU2zDRNp0K1tIyp7gV3rIhGozn/uBUv1Solf66uf+lGlOtaIuM/IRUrKkMS1GKsajiCmsij0Zwp+hJFTc7jVoTk/2och/qaivt98nu/3++cntVYEPff1YJXo8ke3C5G9xr1+/2Ypul8r/5MDaJ3vyZdmLKEjFsWaDRngrZ4aTQajUaj0ZwndHCKRqPRaDQazXlCK14ajUaj0Wg05wmteGk0Go1Go9GcJ7TipdFoNBqNRnOe0IqXRqPRaDQazXlCK14ajUaj0Wg05wmteGk0Go1Go9GcJ7TipdFoNBqNRnOe0IqXRqPRaDQazXlCK14ajUaj0Wg05wmteGk0Go1Go9GcJ7TipdFoNBqNRnOe0IqXRqPRaDQazXlCK14ajUaj0Wg05wmteGk0Go1Go9GcJ7JG8XrxxRf5xCc+wZIlS3j66acH+3HOC5///OdZtmwZN954IzfeeCM7duy44Puhv7+f5cuX09zcDMCGDRtYsWIFS5Ys4bHHHnN+b/fu3dx8881cd911fPe73yWZTA7WI59V3O3/zne+w5IlS5w58Mc//hE4db/kMk888QTLli1j2bJlrFq1Chg645+p7UNp7B9//HE+8YlPsGzZMn72s58BQ2fsIXP7h9L4A/zwhz/k/vvvB049xkePHuWzn/0sS5cu5atf/SrhcHgwH/ncIbKAY8eOicWLF4uuri4RDofFihUrxP79+wf7sc4ptm2LK664Qpim6bx2offD9u3bxfLly8XUqVNFU1OTiEajYuHCheKDDz4QpmmKO++8U6xbt04IIcSyZcvEtm3bhBBCfOc73xFPP/30YD76WcHdfiGEWL58uWhtbU37vQ/rl1zlzTffFJ/+9KdFPB4XiURC3HHHHeLFF18cEuOfqe2vvPLKkBn7TZs2idtuu02Ypimi0ahYvHix2L1795AYeyEyt//AgQNDZvyFEGLDhg3isssuE9/+9reFEKce47vuukusWbNGCCHEE088IVatWjU4D3yOyQqL14YNG5g3bx4lJSXk5+dz3XXXsXbt2sF+rHPKwYMHAbjzzju54YYbeOqppy74fvjNb37DypUrqaysBGDnzp2MHTuWmpoafD4fK1asYO3atRw5coRYLMbMmTMBuPnmmy+IfnC3PxqNcvToUR544AFWrFjB6tWrsW37lP2Sy1RUVHD//feTl5eH3+9nwoQJNDY2Donxz9T2o0ePDpmxv/TSS/n5z3+Oz+ejo6MDy7Lo7e0dEmMPmdsfDAaHzPh3d3fz2GOP8ZWvfAXglGNsmiZvvfUW1113XdrrFyK+wX4AgLa2NioqKpzvKysr2blz5yA+0bmnt7eX+fPn873vfQ/TNLnjjju4/vrrL+h++MEPfpD2faZxb21tPen1iooKWltbz9tznivc7W9vb2fevHmsXLmSoqIi7r77bn7729+Sn5+fsV9ymbq6OufrxsZGXn75ZT73uc8NifHP1Pann36azZs3D4mxB/D7/axevZr/+q//YunSpUNu7bvbn0wmh8za//73v8+9995LS0sLcLLcl2Pc1dVFYWEhPp8v7fULkayweNm2jWEYzvdCiLTvL0QuueQSVq1aRVFREWVlZdx6662sXr16SPXDqcZ9qMyHmpoafvSjH1FZWUkoFOLzn/8869evv6Dbv3//fu68807uu+8+ampqhtT4q22vra0dcmN/zz33sHHjRlpaWmhsbBxSYw/p7d+4ceOQGP9nnnmGESNGMH/+fOe1U7UxU1tzue0fRlZYvKqrq3n77bed748fP+64Yy5U3n77bUzTdCakEIJRo0Zx/Phx53cu9H6orq7O2F736+3t7RdkP+zdu5fGxkbHtC6EwOfznbJfcp0tW7Zwzz338MADD7Bs2TI2b948ZMbf3fahNPYHDhwgkUgwefJkQqEQS5YsYe3atXi9Xud3LuSxz9T+l156iZKSkgt+/F966SWOHz/OjTfeSE9PD5FIBMMwMo5xWVkZfX19WJaF1+vN+bZ/GFlh8WpoaGDjxo10dnYSjUZ55ZVXWLBgwWA/1jmlr6+PVatWEY/H6e/v57nnnuORRx4ZUv0wY8YMDh06xOHDh7EsizVr1rBgwQJGjRpFIBBgy5YtALzwwgsXZD8IIfjnf/5nenp6ME2TX//611x77bWn7JdcpqWlha9//es8+uijLFu2DBg645+p7UNp7Jubm3nwwQdJJBIkEglee+01brvttiEx9pC5/XPnzh0S4/+zn/2MNWvW8MILL3DPPfdw1VVX8dBDD2UcY7/fz5w5c3jppZcAeP7553O67R9GVli8qqqquPfee7njjjswTZNbb72V6dOnD/ZjnVMWL17Mjh07uOmmm7Btm9tvv53Zs2cPqX4IBAI8/PDDfPOb3yQej7Nw4UKWLl0KwKOPPsqDDz5If38/U6dO5Y477hjkpz37XHTRRdx111185jOfIZlMsmTJEpYvXw5wyn7JVZ588kni8TgPP/yw89ptt902JMb/VG0fKmO/cOFCdu7cyU033YTX62XJkiUsW7aMsrKyC37sIXP7v/GNb1BaWjokxj8TpxrjlStXcv/99/OTn/yEESNG8K//+q+D/KTnBkMIIQb7ITQajUaj0WiGAlnhatRoNBqNRqMZCmjFS6PRaDQajeY8oRUvjUaj0Wg0mvOEVrw0Go1Go9FozhNa8dJoNBqNRqM5T2jFS6PRaDQajeY8oRUvjUaj0Wg0mvOEVrw0Go1Go9FozhP/H1/3M6TLfeOWAAAAAElFTkSuQmCC\n",
      "text/plain": [
       "<Figure size 720x360 with 1 Axes>"
      ]
     },
     "metadata": {},
     "output_type": "display_data"
    }
   ],
   "source": [
    "plt.figure(figsize=(10,5))\n",
    "plt.imshow(img2, interpolation='bilinear')\n",
    "plt.show()"
   ]
  },
  {
   "cell_type": "code",
   "execution_count": 110,
   "metadata": {},
   "outputs": [],
   "source": [
    "# code here"
   ]
  },
  {
   "cell_type": "code",
   "execution_count": 126,
   "metadata": {},
   "outputs": [
    {
     "data": {
      "image/png": "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\n",
      "text/plain": [
       "<Figure size 432x216 with 2 Axes>"
      ]
     },
     "metadata": {},
     "output_type": "display_data"
    }
   ],
   "source": [
    "bins = np.linspace(data.age.min(), data.age.max(), 10)\n",
    "g = sns.FacetGrid(data, col=\"Gender\", hue=\"loan_status\", palette=\"Set1\", col_wrap=2)\n",
    "g.map(plt.hist, 'age', bins=bins, ec=\"k\")\n",
    "\n",
    "g.axes[-1].legend()\n",
    "plt.show()"
   ]
  },
  {
   "cell_type": "markdown",
   "metadata": {
    "button": false,
    "new_sheet": false,
    "run_control": {
     "read_only": false
    }
   },
   "source": [
    "# Pre-processing:  Feature selection/extraction"
   ]
  },
  {
   "cell_type": "markdown",
   "metadata": {
    "button": false,
    "new_sheet": false,
    "run_control": {
     "read_only": false
    }
   },
   "source": [
    "### Lets look at the day of the week people get the loan "
   ]
  },
  {
   "cell_type": "markdown",
   "metadata": {},
   "source": [
    "- Make new column 'dayofweek' from 'effective_date'\n",
    "    - Example: 2016-09-08 => dayofweek is 3 (The day of the week with Monday=0, Sunday=6)\n",
    "    - Link: https://pandas.pydata.org/pandas-docs/stable/reference/api/pandas.DatetimeIndex.dayofweek.html"
   ]
  },
  {
   "cell_type": "code",
   "execution_count": 111,
   "metadata": {},
   "outputs": [
    {
     "data": {
      "text/html": [
       "<div>\n",
       "<style scoped>\n",
       "    .dataframe tbody tr th:only-of-type {\n",
       "        vertical-align: middle;\n",
       "    }\n",
       "\n",
       "    .dataframe tbody tr th {\n",
       "        vertical-align: top;\n",
       "    }\n",
       "\n",
       "    .dataframe thead th {\n",
       "        text-align: right;\n",
       "    }\n",
       "</style>\n",
       "<table border=\"1\" class=\"dataframe\">\n",
       "  <thead>\n",
       "    <tr style=\"text-align: right;\">\n",
       "      <th></th>\n",
       "      <th>Unnamed: 0</th>\n",
       "      <th>Unnamed: 0.1</th>\n",
       "      <th>loan_status</th>\n",
       "      <th>Principal</th>\n",
       "      <th>terms</th>\n",
       "      <th>effective_date</th>\n",
       "      <th>due_date</th>\n",
       "      <th>age</th>\n",
       "      <th>education</th>\n",
       "      <th>Gender</th>\n",
       "      <th>dayofweek</th>\n",
       "    </tr>\n",
       "  </thead>\n",
       "  <tbody>\n",
       "    <tr>\n",
       "      <th>0</th>\n",
       "      <td>0</td>\n",
       "      <td>0</td>\n",
       "      <td>PAIDOFF</td>\n",
       "      <td>1000</td>\n",
       "      <td>30</td>\n",
       "      <td>2016-09-08</td>\n",
       "      <td>2016-10-07</td>\n",
       "      <td>45</td>\n",
       "      <td>High School or Below</td>\n",
       "      <td>male</td>\n",
       "      <td>3</td>\n",
       "    </tr>\n",
       "    <tr>\n",
       "      <th>1</th>\n",
       "      <td>2</td>\n",
       "      <td>2</td>\n",
       "      <td>PAIDOFF</td>\n",
       "      <td>1000</td>\n",
       "      <td>30</td>\n",
       "      <td>2016-09-08</td>\n",
       "      <td>2016-10-07</td>\n",
       "      <td>33</td>\n",
       "      <td>Bechalor</td>\n",
       "      <td>female</td>\n",
       "      <td>3</td>\n",
       "    </tr>\n",
       "    <tr>\n",
       "      <th>2</th>\n",
       "      <td>3</td>\n",
       "      <td>3</td>\n",
       "      <td>PAIDOFF</td>\n",
       "      <td>1000</td>\n",
       "      <td>15</td>\n",
       "      <td>2016-09-08</td>\n",
       "      <td>2016-09-22</td>\n",
       "      <td>27</td>\n",
       "      <td>college</td>\n",
       "      <td>male</td>\n",
       "      <td>3</td>\n",
       "    </tr>\n",
       "    <tr>\n",
       "      <th>3</th>\n",
       "      <td>4</td>\n",
       "      <td>4</td>\n",
       "      <td>PAIDOFF</td>\n",
       "      <td>1000</td>\n",
       "      <td>30</td>\n",
       "      <td>2016-09-09</td>\n",
       "      <td>2016-10-08</td>\n",
       "      <td>28</td>\n",
       "      <td>college</td>\n",
       "      <td>female</td>\n",
       "      <td>4</td>\n",
       "    </tr>\n",
       "    <tr>\n",
       "      <th>4</th>\n",
       "      <td>6</td>\n",
       "      <td>6</td>\n",
       "      <td>PAIDOFF</td>\n",
       "      <td>1000</td>\n",
       "      <td>30</td>\n",
       "      <td>2016-09-09</td>\n",
       "      <td>2016-10-08</td>\n",
       "      <td>29</td>\n",
       "      <td>college</td>\n",
       "      <td>male</td>\n",
       "      <td>4</td>\n",
       "    </tr>\n",
       "  </tbody>\n",
       "</table>\n",
       "</div>"
      ],
      "text/plain": [
       "   Unnamed: 0  Unnamed: 0.1 loan_status  Principal  terms effective_date  \\\n",
       "0           0             0     PAIDOFF       1000     30     2016-09-08   \n",
       "1           2             2     PAIDOFF       1000     30     2016-09-08   \n",
       "2           3             3     PAIDOFF       1000     15     2016-09-08   \n",
       "3           4             4     PAIDOFF       1000     30     2016-09-09   \n",
       "4           6             6     PAIDOFF       1000     30     2016-09-09   \n",
       "\n",
       "    due_date  age             education  Gender  dayofweek  \n",
       "0 2016-10-07   45  High School or Below    male          3  \n",
       "1 2016-10-07   33              Bechalor  female          3  \n",
       "2 2016-09-22   27               college    male          3  \n",
       "3 2016-10-08   28               college  female          4  \n",
       "4 2016-10-08   29               college    male          4  "
      ]
     },
     "execution_count": 111,
     "metadata": {},
     "output_type": "execute_result"
    }
   ],
   "source": [
    "data.sort_values(by=['effective_date'])\n",
    "data['dayofweek'] =data.effective_date.dt.dayofweek\n",
    "data.head()"
   ]
  },
  {
   "cell_type": "markdown",
   "metadata": {},
   "source": [
    "Lets plot some columns to underestand data better:"
   ]
  },
  {
   "cell_type": "code",
   "execution_count": 112,
   "metadata": {},
   "outputs": [],
   "source": [
    "img3 = np.array(Image.open('day_of_week.jpg'))"
   ]
  },
  {
   "cell_type": "code",
   "execution_count": 113,
   "metadata": {},
   "outputs": [
    {
     "data": {
      "image/png": "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\n",
      "text/plain": [
       "<Figure size 720x360 with 1 Axes>"
      ]
     },
     "metadata": {},
     "output_type": "display_data"
    }
   ],
   "source": [
    "plt.figure(figsize=(10,5))\n",
    "plt.imshow(img3, interpolation='bilinear')\n",
    "plt.show()"
   ]
  },
  {
   "cell_type": "code",
   "execution_count": 127,
   "metadata": {},
   "outputs": [
    {
     "data": {
      "image/png": "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\n",
      "text/plain": [
       "<Figure size 432x216 with 2 Axes>"
      ]
     },
     "metadata": {},
     "output_type": "display_data"
    }
   ],
   "source": [
    "# code here\n",
    "bins = np.linspace(data.dayofweek.min(), data.dayofweek.max(), 10)\n",
    "g = sns.FacetGrid(data, col=\"Gender\", hue=\"loan_status\", palette=\"Set1\", col_wrap=2)\n",
    "g.map(plt.hist, 'dayofweek', bins=bins, ec=\"k\")\n",
    "g.axes[-1].legend()\n",
    "plt.show()"
   ]
  },
  {
   "cell_type": "markdown",
   "metadata": {
    "button": false,
    "new_sheet": false,
    "run_control": {
     "read_only": false
    }
   },
   "source": [
    "We see that people who get the loan at the end of the week don't pay it off, so lets use Feature binarization to set a threshold values less then day 4 \n",
    "- Make new column 'weekend': =1 if 'dayofweek'>3, else =0"
   ]
  },
  {
   "cell_type": "code",
   "execution_count": 115,
   "metadata": {},
   "outputs": [],
   "source": [
    "# code here\n",
    "def weekend_binarization(dayofweek):\n",
    "    if  dayofweek > 3:\n",
    "        return 1\n",
    "    else :\n",
    "        return 0"
   ]
  },
  {
   "cell_type": "code",
   "execution_count": 116,
   "metadata": {},
   "outputs": [
    {
     "data": {
      "text/html": [
       "<div>\n",
       "<style scoped>\n",
       "    .dataframe tbody tr th:only-of-type {\n",
       "        vertical-align: middle;\n",
       "    }\n",
       "\n",
       "    .dataframe tbody tr th {\n",
       "        vertical-align: top;\n",
       "    }\n",
       "\n",
       "    .dataframe thead th {\n",
       "        text-align: right;\n",
       "    }\n",
       "</style>\n",
       "<table border=\"1\" class=\"dataframe\">\n",
       "  <thead>\n",
       "    <tr style=\"text-align: right;\">\n",
       "      <th></th>\n",
       "      <th>Unnamed: 0</th>\n",
       "      <th>Unnamed: 0.1</th>\n",
       "      <th>loan_status</th>\n",
       "      <th>Principal</th>\n",
       "      <th>terms</th>\n",
       "      <th>effective_date</th>\n",
       "      <th>due_date</th>\n",
       "      <th>age</th>\n",
       "      <th>education</th>\n",
       "      <th>Gender</th>\n",
       "      <th>dayofweek</th>\n",
       "      <th>weekend</th>\n",
       "    </tr>\n",
       "  </thead>\n",
       "  <tbody>\n",
       "    <tr>\n",
       "      <th>0</th>\n",
       "      <td>0</td>\n",
       "      <td>0</td>\n",
       "      <td>PAIDOFF</td>\n",
       "      <td>1000</td>\n",
       "      <td>30</td>\n",
       "      <td>2016-09-08</td>\n",
       "      <td>2016-10-07</td>\n",
       "      <td>45</td>\n",
       "      <td>High School or Below</td>\n",
       "      <td>male</td>\n",
       "      <td>3</td>\n",
       "      <td>0</td>\n",
       "    </tr>\n",
       "    <tr>\n",
       "      <th>1</th>\n",
       "      <td>2</td>\n",
       "      <td>2</td>\n",
       "      <td>PAIDOFF</td>\n",
       "      <td>1000</td>\n",
       "      <td>30</td>\n",
       "      <td>2016-09-08</td>\n",
       "      <td>2016-10-07</td>\n",
       "      <td>33</td>\n",
       "      <td>Bechalor</td>\n",
       "      <td>female</td>\n",
       "      <td>3</td>\n",
       "      <td>0</td>\n",
       "    </tr>\n",
       "    <tr>\n",
       "      <th>2</th>\n",
       "      <td>3</td>\n",
       "      <td>3</td>\n",
       "      <td>PAIDOFF</td>\n",
       "      <td>1000</td>\n",
       "      <td>15</td>\n",
       "      <td>2016-09-08</td>\n",
       "      <td>2016-09-22</td>\n",
       "      <td>27</td>\n",
       "      <td>college</td>\n",
       "      <td>male</td>\n",
       "      <td>3</td>\n",
       "      <td>0</td>\n",
       "    </tr>\n",
       "    <tr>\n",
       "      <th>3</th>\n",
       "      <td>4</td>\n",
       "      <td>4</td>\n",
       "      <td>PAIDOFF</td>\n",
       "      <td>1000</td>\n",
       "      <td>30</td>\n",
       "      <td>2016-09-09</td>\n",
       "      <td>2016-10-08</td>\n",
       "      <td>28</td>\n",
       "      <td>college</td>\n",
       "      <td>female</td>\n",
       "      <td>4</td>\n",
       "      <td>1</td>\n",
       "    </tr>\n",
       "    <tr>\n",
       "      <th>4</th>\n",
       "      <td>6</td>\n",
       "      <td>6</td>\n",
       "      <td>PAIDOFF</td>\n",
       "      <td>1000</td>\n",
       "      <td>30</td>\n",
       "      <td>2016-09-09</td>\n",
       "      <td>2016-10-08</td>\n",
       "      <td>29</td>\n",
       "      <td>college</td>\n",
       "      <td>male</td>\n",
       "      <td>4</td>\n",
       "      <td>1</td>\n",
       "    </tr>\n",
       "  </tbody>\n",
       "</table>\n",
       "</div>"
      ],
      "text/plain": [
       "   Unnamed: 0  Unnamed: 0.1 loan_status  Principal  terms effective_date  \\\n",
       "0           0             0     PAIDOFF       1000     30     2016-09-08   \n",
       "1           2             2     PAIDOFF       1000     30     2016-09-08   \n",
       "2           3             3     PAIDOFF       1000     15     2016-09-08   \n",
       "3           4             4     PAIDOFF       1000     30     2016-09-09   \n",
       "4           6             6     PAIDOFF       1000     30     2016-09-09   \n",
       "\n",
       "    due_date  age             education  Gender  dayofweek  weekend  \n",
       "0 2016-10-07   45  High School or Below    male          3        0  \n",
       "1 2016-10-07   33              Bechalor  female          3        0  \n",
       "2 2016-09-22   27               college    male          3        0  \n",
       "3 2016-10-08   28               college  female          4        1  \n",
       "4 2016-10-08   29               college    male          4        1  "
      ]
     },
     "execution_count": 116,
     "metadata": {},
     "output_type": "execute_result"
    }
   ],
   "source": [
    "data['weekend'] = data.dayofweek.apply(weekend_binarization)\n",
    "data.head()"
   ]
  },
  {
   "cell_type": "markdown",
   "metadata": {
    "button": false,
    "new_sheet": false,
    "run_control": {
     "read_only": false
    }
   },
   "source": [
    "## Convert Categorical features to numerical values"
   ]
  },
  {
   "cell_type": "markdown",
   "metadata": {},
   "source": [
    "- groupby 'Gender' and count by 'loan_status'"
   ]
  },
  {
   "cell_type": "code",
   "execution_count": 128,
   "metadata": {
    "button": false,
    "new_sheet": false,
    "run_control": {
     "read_only": false
    }
   },
   "outputs": [
    {
     "data": {
      "text/plain": [
       "Gender  loan_status\n",
       "female  PAIDOFF        0.865385\n",
       "        COLLECTION     0.134615\n",
       "male    PAIDOFF        0.731293\n",
       "        COLLECTION     0.268707\n",
       "Name: loan_status, dtype: float64"
      ]
     },
     "execution_count": 128,
     "metadata": {},
     "output_type": "execute_result"
    }
   ],
   "source": [
    "# code here\n",
    "data.groupby(['Gender'])['loan_status'].value_counts(normalize=True)"
   ]
  },
  {
   "cell_type": "markdown",
   "metadata": {
    "button": false,
    "new_sheet": false,
    "run_control": {
     "read_only": false
    }
   },
   "source": [
    "**86.5** % of female pay there loans while only **73** % of males pay there loan"
   ]
  },
  {
   "cell_type": "markdown",
   "metadata": {
    "button": false,
    "new_sheet": false,
    "run_control": {
     "read_only": false
    }
   },
   "source": [
    "Lets convert male to 0 and female to 1:\n"
   ]
  },
  {
   "cell_type": "code",
   "execution_count": 129,
   "metadata": {
    "button": false,
    "new_sheet": false,
    "run_control": {
     "read_only": false
    }
   },
   "outputs": [],
   "source": [
    "# code here\n",
    "def recode_Gender(Gender):\n",
    "    if Gender=='male':\n",
    "        return 0\n",
    "    elif Gender=='female':\n",
    "        return 1\n",
    "    "
   ]
  },
  {
   "cell_type": "code",
   "execution_count": 130,
   "metadata": {},
   "outputs": [
    {
     "data": {
      "text/html": [
       "<div>\n",
       "<style scoped>\n",
       "    .dataframe tbody tr th:only-of-type {\n",
       "        vertical-align: middle;\n",
       "    }\n",
       "\n",
       "    .dataframe tbody tr th {\n",
       "        vertical-align: top;\n",
       "    }\n",
       "\n",
       "    .dataframe thead th {\n",
       "        text-align: right;\n",
       "    }\n",
       "</style>\n",
       "<table border=\"1\" class=\"dataframe\">\n",
       "  <thead>\n",
       "    <tr style=\"text-align: right;\">\n",
       "      <th></th>\n",
       "      <th>Unnamed: 0</th>\n",
       "      <th>Unnamed: 0.1</th>\n",
       "      <th>loan_status</th>\n",
       "      <th>Principal</th>\n",
       "      <th>terms</th>\n",
       "      <th>effective_date</th>\n",
       "      <th>due_date</th>\n",
       "      <th>age</th>\n",
       "      <th>education</th>\n",
       "      <th>Gender</th>\n",
       "      <th>dayofweek</th>\n",
       "      <th>weekend</th>\n",
       "    </tr>\n",
       "  </thead>\n",
       "  <tbody>\n",
       "    <tr>\n",
       "      <th>0</th>\n",
       "      <td>0</td>\n",
       "      <td>0</td>\n",
       "      <td>PAIDOFF</td>\n",
       "      <td>1000</td>\n",
       "      <td>30</td>\n",
       "      <td>2016-09-08</td>\n",
       "      <td>2016-10-07</td>\n",
       "      <td>45</td>\n",
       "      <td>High School or Below</td>\n",
       "      <td>0</td>\n",
       "      <td>3</td>\n",
       "      <td>0</td>\n",
       "    </tr>\n",
       "    <tr>\n",
       "      <th>1</th>\n",
       "      <td>2</td>\n",
       "      <td>2</td>\n",
       "      <td>PAIDOFF</td>\n",
       "      <td>1000</td>\n",
       "      <td>30</td>\n",
       "      <td>2016-09-08</td>\n",
       "      <td>2016-10-07</td>\n",
       "      <td>33</td>\n",
       "      <td>Bechalor</td>\n",
       "      <td>1</td>\n",
       "      <td>3</td>\n",
       "      <td>0</td>\n",
       "    </tr>\n",
       "    <tr>\n",
       "      <th>2</th>\n",
       "      <td>3</td>\n",
       "      <td>3</td>\n",
       "      <td>PAIDOFF</td>\n",
       "      <td>1000</td>\n",
       "      <td>15</td>\n",
       "      <td>2016-09-08</td>\n",
       "      <td>2016-09-22</td>\n",
       "      <td>27</td>\n",
       "      <td>college</td>\n",
       "      <td>0</td>\n",
       "      <td>3</td>\n",
       "      <td>0</td>\n",
       "    </tr>\n",
       "    <tr>\n",
       "      <th>3</th>\n",
       "      <td>4</td>\n",
       "      <td>4</td>\n",
       "      <td>PAIDOFF</td>\n",
       "      <td>1000</td>\n",
       "      <td>30</td>\n",
       "      <td>2016-09-09</td>\n",
       "      <td>2016-10-08</td>\n",
       "      <td>28</td>\n",
       "      <td>college</td>\n",
       "      <td>1</td>\n",
       "      <td>4</td>\n",
       "      <td>1</td>\n",
       "    </tr>\n",
       "    <tr>\n",
       "      <th>4</th>\n",
       "      <td>6</td>\n",
       "      <td>6</td>\n",
       "      <td>PAIDOFF</td>\n",
       "      <td>1000</td>\n",
       "      <td>30</td>\n",
       "      <td>2016-09-09</td>\n",
       "      <td>2016-10-08</td>\n",
       "      <td>29</td>\n",
       "      <td>college</td>\n",
       "      <td>0</td>\n",
       "      <td>4</td>\n",
       "      <td>1</td>\n",
       "    </tr>\n",
       "  </tbody>\n",
       "</table>\n",
       "</div>"
      ],
      "text/plain": [
       "   Unnamed: 0  Unnamed: 0.1 loan_status  Principal  terms effective_date  \\\n",
       "0           0             0     PAIDOFF       1000     30     2016-09-08   \n",
       "1           2             2     PAIDOFF       1000     30     2016-09-08   \n",
       "2           3             3     PAIDOFF       1000     15     2016-09-08   \n",
       "3           4             4     PAIDOFF       1000     30     2016-09-09   \n",
       "4           6             6     PAIDOFF       1000     30     2016-09-09   \n",
       "\n",
       "    due_date  age             education  Gender  dayofweek  weekend  \n",
       "0 2016-10-07   45  High School or Below       0          3        0  \n",
       "1 2016-10-07   33              Bechalor       1          3        0  \n",
       "2 2016-09-22   27               college       0          3        0  \n",
       "3 2016-10-08   28               college       1          4        1  \n",
       "4 2016-10-08   29               college       0          4        1  "
      ]
     },
     "execution_count": 130,
     "metadata": {},
     "output_type": "execute_result"
    }
   ],
   "source": [
    "data.Gender = data.Gender.apply(recode_Gender)\n",
    "data.head()"
   ]
  },
  {
   "cell_type": "markdown",
   "metadata": {
    "button": false,
    "new_sheet": false,
    "run_control": {
     "read_only": false
    }
   },
   "source": [
    "## One Hot Encoding  \n",
    "#### How about education?"
   ]
  },
  {
   "cell_type": "markdown",
   "metadata": {},
   "source": [
    "- groupby 'education' and count by 'loan_status'"
   ]
  },
  {
   "cell_type": "code",
   "execution_count": 131,
   "metadata": {
    "button": false,
    "new_sheet": false,
    "run_control": {
     "read_only": false
    }
   },
   "outputs": [
    {
     "data": {
      "text/plain": [
       "education             loan_status\n",
       "Bechalor              PAIDOFF        0.750000\n",
       "                      COLLECTION     0.250000\n",
       "High School or Below  PAIDOFF        0.741722\n",
       "                      COLLECTION     0.258278\n",
       "Master or Above       COLLECTION     0.500000\n",
       "                      PAIDOFF        0.500000\n",
       "college               PAIDOFF        0.765101\n",
       "                      COLLECTION     0.234899\n",
       "Name: loan_status, dtype: float64"
      ]
     },
     "execution_count": 131,
     "metadata": {},
     "output_type": "execute_result"
    }
   ],
   "source": [
    "# code here\n",
    "data.groupby(['education'])['loan_status'].value_counts(normalize=True)"
   ]
  },
  {
   "cell_type": "markdown",
   "metadata": {
    "button": false,
    "new_sheet": false,
    "run_control": {
     "read_only": false
    }
   },
   "source": [
    "#### Feature befor One Hot Encoding\n",
    "- Print head() data with 5 columns: 'Principal','terms','age','Gender','education'"
   ]
  },
  {
   "cell_type": "code",
   "execution_count": 133,
   "metadata": {
    "button": false,
    "new_sheet": false,
    "run_control": {
     "read_only": false
    }
   },
   "outputs": [
    {
     "data": {
      "text/html": [
       "<div>\n",
       "<style scoped>\n",
       "    .dataframe tbody tr th:only-of-type {\n",
       "        vertical-align: middle;\n",
       "    }\n",
       "\n",
       "    .dataframe tbody tr th {\n",
       "        vertical-align: top;\n",
       "    }\n",
       "\n",
       "    .dataframe thead th {\n",
       "        text-align: right;\n",
       "    }\n",
       "</style>\n",
       "<table border=\"1\" class=\"dataframe\">\n",
       "  <thead>\n",
       "    <tr style=\"text-align: right;\">\n",
       "      <th></th>\n",
       "      <th>Principal</th>\n",
       "      <th>terms</th>\n",
       "      <th>age</th>\n",
       "      <th>Gender</th>\n",
       "      <th>education</th>\n",
       "    </tr>\n",
       "  </thead>\n",
       "  <tbody>\n",
       "    <tr>\n",
       "      <th>0</th>\n",
       "      <td>1000</td>\n",
       "      <td>30</td>\n",
       "      <td>45</td>\n",
       "      <td>0</td>\n",
       "      <td>High School or Below</td>\n",
       "    </tr>\n",
       "    <tr>\n",
       "      <th>1</th>\n",
       "      <td>1000</td>\n",
       "      <td>30</td>\n",
       "      <td>33</td>\n",
       "      <td>1</td>\n",
       "      <td>Bechalor</td>\n",
       "    </tr>\n",
       "    <tr>\n",
       "      <th>2</th>\n",
       "      <td>1000</td>\n",
       "      <td>15</td>\n",
       "      <td>27</td>\n",
       "      <td>0</td>\n",
       "      <td>college</td>\n",
       "    </tr>\n",
       "    <tr>\n",
       "      <th>3</th>\n",
       "      <td>1000</td>\n",
       "      <td>30</td>\n",
       "      <td>28</td>\n",
       "      <td>1</td>\n",
       "      <td>college</td>\n",
       "    </tr>\n",
       "    <tr>\n",
       "      <th>4</th>\n",
       "      <td>1000</td>\n",
       "      <td>30</td>\n",
       "      <td>29</td>\n",
       "      <td>0</td>\n",
       "      <td>college</td>\n",
       "    </tr>\n",
       "  </tbody>\n",
       "</table>\n",
       "</div>"
      ],
      "text/plain": [
       "   Principal  terms  age  Gender             education\n",
       "0       1000     30   45       0  High School or Below\n",
       "1       1000     30   33       1              Bechalor\n",
       "2       1000     15   27       0               college\n",
       "3       1000     30   28       1               college\n",
       "4       1000     30   29       0               college"
      ]
     },
     "execution_count": 133,
     "metadata": {},
     "output_type": "execute_result"
    }
   ],
   "source": [
    "# code here\n",
    "data[['Principal','terms','age','Gender','education']].head()"
   ]
  },
  {
   "cell_type": "markdown",
   "metadata": {
    "button": false,
    "new_sheet": false,
    "run_control": {
     "read_only": false
    }
   },
   "source": [
    "#### Use one hot encoding technique to convert categorical varables to binary variables and append them to the feature Data Frame "
   ]
  },
  {
   "cell_type": "markdown",
   "metadata": {},
   "source": [
    "- Make new dataframe **Feature** has: 'Principal','terms','age','Gender','weekend', 'education'\n",
    "- In **Feature**: Use one hot encoding technique to convert 'education' to binary variable, then drop column 'Master or Above'"
   ]
  },
  {
   "cell_type": "code",
   "execution_count": 134,
   "metadata": {
    "button": false,
    "new_sheet": false,
    "run_control": {
     "read_only": false
    }
   },
   "outputs": [
    {
     "data": {
      "text/html": [
       "<div>\n",
       "<style scoped>\n",
       "    .dataframe tbody tr th:only-of-type {\n",
       "        vertical-align: middle;\n",
       "    }\n",
       "\n",
       "    .dataframe tbody tr th {\n",
       "        vertical-align: top;\n",
       "    }\n",
       "\n",
       "    .dataframe thead th {\n",
       "        text-align: right;\n",
       "    }\n",
       "</style>\n",
       "<table border=\"1\" class=\"dataframe\">\n",
       "  <thead>\n",
       "    <tr style=\"text-align: right;\">\n",
       "      <th></th>\n",
       "      <th>Principal</th>\n",
       "      <th>terms</th>\n",
       "      <th>age</th>\n",
       "      <th>Gender</th>\n",
       "      <th>weekend</th>\n",
       "      <th>Bechalor</th>\n",
       "      <th>High School or Below</th>\n",
       "      <th>college</th>\n",
       "    </tr>\n",
       "  </thead>\n",
       "  <tbody>\n",
       "    <tr>\n",
       "      <th>0</th>\n",
       "      <td>1000</td>\n",
       "      <td>30</td>\n",
       "      <td>45</td>\n",
       "      <td>0</td>\n",
       "      <td>0</td>\n",
       "      <td>0</td>\n",
       "      <td>1</td>\n",
       "      <td>0</td>\n",
       "    </tr>\n",
       "    <tr>\n",
       "      <th>1</th>\n",
       "      <td>1000</td>\n",
       "      <td>30</td>\n",
       "      <td>33</td>\n",
       "      <td>1</td>\n",
       "      <td>0</td>\n",
       "      <td>1</td>\n",
       "      <td>0</td>\n",
       "      <td>0</td>\n",
       "    </tr>\n",
       "    <tr>\n",
       "      <th>2</th>\n",
       "      <td>1000</td>\n",
       "      <td>15</td>\n",
       "      <td>27</td>\n",
       "      <td>0</td>\n",
       "      <td>0</td>\n",
       "      <td>0</td>\n",
       "      <td>0</td>\n",
       "      <td>1</td>\n",
       "    </tr>\n",
       "    <tr>\n",
       "      <th>3</th>\n",
       "      <td>1000</td>\n",
       "      <td>30</td>\n",
       "      <td>28</td>\n",
       "      <td>1</td>\n",
       "      <td>1</td>\n",
       "      <td>0</td>\n",
       "      <td>0</td>\n",
       "      <td>1</td>\n",
       "    </tr>\n",
       "    <tr>\n",
       "      <th>4</th>\n",
       "      <td>1000</td>\n",
       "      <td>30</td>\n",
       "      <td>29</td>\n",
       "      <td>0</td>\n",
       "      <td>1</td>\n",
       "      <td>0</td>\n",
       "      <td>0</td>\n",
       "      <td>1</td>\n",
       "    </tr>\n",
       "  </tbody>\n",
       "</table>\n",
       "</div>"
      ],
      "text/plain": [
       "   Principal  terms  age  Gender  weekend  Bechalor  High School or Below  \\\n",
       "0       1000     30   45       0        0         0                     1   \n",
       "1       1000     30   33       1        0         1                     0   \n",
       "2       1000     15   27       0        0         0                     0   \n",
       "3       1000     30   28       1        1         0                     0   \n",
       "4       1000     30   29       0        1         0                     0   \n",
       "\n",
       "   college  \n",
       "0        0  \n",
       "1        0  \n",
       "2        1  \n",
       "3        1  \n",
       "4        1  "
      ]
     },
     "execution_count": 134,
     "metadata": {},
     "output_type": "execute_result"
    }
   ],
   "source": [
    "# code here\n",
    "Feature = data[['Principal','terms','age','Gender','weekend']]\n",
    "Feature = pd.concat([Feature,pd.get_dummies(data['education'])], axis=1)\n",
    "Feature.drop(['Master or Above'], axis = 1,inplace=True)\n",
    "Feature.head()\n"
   ]
  },
  {
   "cell_type": "markdown",
   "metadata": {
    "button": false,
    "new_sheet": false,
    "run_control": {
     "read_only": false
    }
   },
   "source": [
    "### Feature selection"
   ]
  },
  {
   "cell_type": "markdown",
   "metadata": {
    "button": false,
    "new_sheet": false,
    "run_control": {
     "read_only": false
    }
   },
   "source": [
    "Lets defind feature sets, X:\n",
    "- X is input, X = Feature"
   ]
  },
  {
   "cell_type": "code",
   "execution_count": 135,
   "metadata": {
    "button": false,
    "new_sheet": false,
    "run_control": {
     "read_only": false
    }
   },
   "outputs": [
    {
     "data": {
      "text/html": [
       "<div>\n",
       "<style scoped>\n",
       "    .dataframe tbody tr th:only-of-type {\n",
       "        vertical-align: middle;\n",
       "    }\n",
       "\n",
       "    .dataframe tbody tr th {\n",
       "        vertical-align: top;\n",
       "    }\n",
       "\n",
       "    .dataframe thead th {\n",
       "        text-align: right;\n",
       "    }\n",
       "</style>\n",
       "<table border=\"1\" class=\"dataframe\">\n",
       "  <thead>\n",
       "    <tr style=\"text-align: right;\">\n",
       "      <th></th>\n",
       "      <th>Principal</th>\n",
       "      <th>terms</th>\n",
       "      <th>age</th>\n",
       "      <th>Gender</th>\n",
       "      <th>weekend</th>\n",
       "      <th>Bechalor</th>\n",
       "      <th>High School or Below</th>\n",
       "      <th>college</th>\n",
       "    </tr>\n",
       "  </thead>\n",
       "  <tbody>\n",
       "    <tr>\n",
       "      <th>0</th>\n",
       "      <td>1000</td>\n",
       "      <td>30</td>\n",
       "      <td>45</td>\n",
       "      <td>0</td>\n",
       "      <td>0</td>\n",
       "      <td>0</td>\n",
       "      <td>1</td>\n",
       "      <td>0</td>\n",
       "    </tr>\n",
       "    <tr>\n",
       "      <th>1</th>\n",
       "      <td>1000</td>\n",
       "      <td>30</td>\n",
       "      <td>33</td>\n",
       "      <td>1</td>\n",
       "      <td>0</td>\n",
       "      <td>1</td>\n",
       "      <td>0</td>\n",
       "      <td>0</td>\n",
       "    </tr>\n",
       "    <tr>\n",
       "      <th>2</th>\n",
       "      <td>1000</td>\n",
       "      <td>15</td>\n",
       "      <td>27</td>\n",
       "      <td>0</td>\n",
       "      <td>0</td>\n",
       "      <td>0</td>\n",
       "      <td>0</td>\n",
       "      <td>1</td>\n",
       "    </tr>\n",
       "    <tr>\n",
       "      <th>3</th>\n",
       "      <td>1000</td>\n",
       "      <td>30</td>\n",
       "      <td>28</td>\n",
       "      <td>1</td>\n",
       "      <td>1</td>\n",
       "      <td>0</td>\n",
       "      <td>0</td>\n",
       "      <td>1</td>\n",
       "    </tr>\n",
       "    <tr>\n",
       "      <th>4</th>\n",
       "      <td>1000</td>\n",
       "      <td>30</td>\n",
       "      <td>29</td>\n",
       "      <td>0</td>\n",
       "      <td>1</td>\n",
       "      <td>0</td>\n",
       "      <td>0</td>\n",
       "      <td>1</td>\n",
       "    </tr>\n",
       "  </tbody>\n",
       "</table>\n",
       "</div>"
      ],
      "text/plain": [
       "   Principal  terms  age  Gender  weekend  Bechalor  High School or Below  \\\n",
       "0       1000     30   45       0        0         0                     1   \n",
       "1       1000     30   33       1        0         1                     0   \n",
       "2       1000     15   27       0        0         0                     0   \n",
       "3       1000     30   28       1        1         0                     0   \n",
       "4       1000     30   29       0        1         0                     0   \n",
       "\n",
       "   college  \n",
       "0        0  \n",
       "1        0  \n",
       "2        1  \n",
       "3        1  \n",
       "4        1  "
      ]
     },
     "execution_count": 135,
     "metadata": {},
     "output_type": "execute_result"
    }
   ],
   "source": [
    "# code here\n",
    "X = Feature\n",
    "X[0:5]"
   ]
  },
  {
   "cell_type": "markdown",
   "metadata": {
    "button": false,
    "new_sheet": false,
    "run_control": {
     "read_only": false
    }
   },
   "source": [
    "What are our lables?\n",
    "- y is output, y = 'loan_status' column"
   ]
  },
  {
   "cell_type": "code",
   "execution_count": 137,
   "metadata": {
    "button": false,
    "new_sheet": false,
    "run_control": {
     "read_only": false
    }
   },
   "outputs": [
    {
     "data": {
      "text/plain": [
       "array(['PAIDOFF', 'PAIDOFF', 'PAIDOFF', 'PAIDOFF', 'PAIDOFF'],\n",
       "      dtype=object)"
      ]
     },
     "execution_count": 137,
     "metadata": {},
     "output_type": "execute_result"
    }
   ],
   "source": [
    "# code here\n",
    "y = data['loan_status'].values\n",
    "y[0:5]"
   ]
  },
  {
   "cell_type": "markdown",
   "metadata": {
    "button": false,
    "new_sheet": false,
    "run_control": {
     "read_only": false
    }
   },
   "source": [
    "## Normalize Data "
   ]
  },
  {
   "cell_type": "markdown",
   "metadata": {
    "button": false,
    "new_sheet": false,
    "run_control": {
     "read_only": false
    }
   },
   "source": [
    "Data Standardization give data zero mean and unit variance (technically should be done after train test split )\n",
    "- Find the suitable Scaler to scale data of X (if we need to do to have a better prediction)"
   ]
  },
  {
   "cell_type": "code",
   "execution_count": 138,
   "metadata": {
    "button": false,
    "new_sheet": false,
    "run_control": {
     "read_only": false
    }
   },
   "outputs": [
    {
     "name": "stderr",
     "output_type": "stream",
     "text": [
      "C:\\Users\\DELL\\Anaconda3\\lib\\site-packages\\sklearn\\preprocessing\\data.py:645: DataConversionWarning: Data with input dtype uint8, int64 were all converted to float64 by StandardScaler.\n",
      "  return self.partial_fit(X, y)\n",
      "C:\\Users\\DELL\\Anaconda3\\lib\\site-packages\\ipykernel_launcher.py:2: DataConversionWarning: Data with input dtype uint8, int64 were all converted to float64 by StandardScaler.\n",
      "  \n"
     ]
    },
    {
     "data": {
      "text/plain": [
       "array([[ 0.51578458,  0.92071769,  2.33152555, -0.42056004, -1.20577805,\n",
       "        -0.38170062,  1.13639374, -0.86968108],\n",
       "       [ 0.51578458,  0.92071769,  0.34170148,  2.37778177, -1.20577805,\n",
       "         2.61985426, -0.87997669, -0.86968108],\n",
       "       [ 0.51578458, -0.95911111, -0.65321055, -0.42056004, -1.20577805,\n",
       "        -0.38170062, -0.87997669,  1.14984679],\n",
       "       [ 0.51578458,  0.92071769, -0.48739188,  2.37778177,  0.82934003,\n",
       "        -0.38170062, -0.87997669,  1.14984679],\n",
       "       [ 0.51578458,  0.92071769, -0.3215732 , -0.42056004,  0.82934003,\n",
       "        -0.38170062, -0.87997669,  1.14984679]])"
      ]
     },
     "execution_count": 138,
     "metadata": {},
     "output_type": "execute_result"
    }
   ],
   "source": [
    "# code here\n",
    "X= preprocessing.StandardScaler().fit(X).transform(X)\n",
    "X[0:5]"
   ]
  },
  {
   "cell_type": "markdown",
   "metadata": {
    "button": false,
    "new_sheet": false,
    "run_control": {
     "read_only": false
    }
   },
   "source": [
    "# Classification "
   ]
  },
  {
   "cell_type": "markdown",
   "metadata": {
    "button": false,
    "new_sheet": false,
    "run_control": {
     "read_only": false
    }
   },
   "source": [
    "Now, use the training set to build an accurate model. Then use the test set (loan_test.csv) to report the accuracy of the model\n",
    "You should use the following algorithm:\n",
    "- Logistic Regression\n",
    "\n",
    "__ Notice:__ \n",
    "- You can go above and change the pre-processing, feature selection, feature-extraction, and so on, to make a better model.\n",
    "- You should use either scikit-learn, Scipy or Numpy libraries for developing the classification algorithms.\n",
    "- You should include the code of the algorithm in the following cells."
   ]
  },
  {
   "cell_type": "markdown",
   "metadata": {},
   "source": [
    "# Logistic Regression"
   ]
  },
  {
   "cell_type": "code",
   "execution_count": 140,
   "metadata": {},
   "outputs": [
    {
     "data": {
      "text/plain": [
       "LogisticRegression(C=0.01, class_weight=None, dual=False, fit_intercept=True,\n",
       "          intercept_scaling=1, max_iter=100, multi_class='warn',\n",
       "          n_jobs=None, penalty='l2', random_state=None, solver='liblinear',\n",
       "          tol=0.0001, verbose=0, warm_start=False)"
      ]
     },
     "execution_count": 140,
     "metadata": {},
     "output_type": "execute_result"
    }
   ],
   "source": [
    "from sklearn.linear_model import LogisticRegression\n",
    "from sklearn.metrics import confusion_matrix\n",
    "LR = LogisticRegression(C=0.01, solver='liblinear').fit(X,y)\n",
    "LR"
   ]
  },
  {
   "cell_type": "code",
   "execution_count": 141,
   "metadata": {},
   "outputs": [
    {
     "data": {
      "text/plain": [
       "array([0.47891206])"
      ]
     },
     "execution_count": 141,
     "metadata": {},
     "output_type": "execute_result"
    }
   ],
   "source": [
    "LR.intercept_"
   ]
  },
  {
   "cell_type": "code",
   "execution_count": 142,
   "metadata": {},
   "outputs": [
    {
     "data": {
      "text/plain": [
       "array([[-0.03503352, -0.06089505,  0.02204736,  0.08002533, -0.35818286,\n",
       "        -0.00159748, -0.01496263,  0.02428687]])"
      ]
     },
     "execution_count": 142,
     "metadata": {},
     "output_type": "execute_result"
    }
   ],
   "source": [
    "LR.coef_"
   ]
  },
  {
   "cell_type": "code",
   "execution_count": 143,
   "metadata": {},
   "outputs": [
    {
     "name": "stdout",
     "output_type": "stream",
     "text": [
      "score Scikit learn:  0.7485549132947977\n"
     ]
    }
   ],
   "source": [
    "print('score Scikit learn: ', LR.score(X,y))"
   ]
  },
  {
   "cell_type": "markdown",
   "metadata": {},
   "source": [
    "# Model Evaluation using Test set"
   ]
  },
  {
   "cell_type": "code",
   "execution_count": null,
   "metadata": {},
   "outputs": [],
   "source": [
    "from sklearn.metrics import f1_score\n",
    "from sklearn.metrics import accuracy_score\n",
    "# and the others libraries..."
   ]
  },
  {
   "cell_type": "markdown",
   "metadata": {
    "button": false,
    "new_sheet": false,
    "run_control": {
     "read_only": false
    }
   },
   "source": [
    "### Load Test set for evaluation "
   ]
  },
  {
   "cell_type": "code",
   "execution_count": 144,
   "metadata": {
    "button": false,
    "new_sheet": false,
    "run_control": {
     "read_only": false
    }
   },
   "outputs": [],
   "source": [
    "# Read CSV file: loan_test.csv\n",
    "# code here\n",
    "data_test = pd.read_csv(\"loan_test.csv\")"
   ]
  },
  {
   "cell_type": "code",
   "execution_count": 163,
   "metadata": {},
   "outputs": [
    {
     "data": {
      "text/plain": [
       "(54, 12)"
      ]
     },
     "execution_count": 163,
     "metadata": {},
     "output_type": "execute_result"
    }
   ],
   "source": [
    "# Model Evaluation\n",
    "data_test.shape"
   ]
  },
  {
   "cell_type": "code",
   "execution_count": 148,
   "metadata": {},
   "outputs": [
    {
     "name": "stdout",
     "output_type": "stream",
     "text": [
      "<class 'pandas.core.frame.DataFrame'>\n",
      "RangeIndex: 54 entries, 0 to 53\n",
      "Data columns (total 10 columns):\n",
      "Unnamed: 0        54 non-null int64\n",
      "Unnamed: 0.1      54 non-null int64\n",
      "loan_status       54 non-null object\n",
      "Principal         54 non-null int64\n",
      "terms             54 non-null int64\n",
      "effective_date    54 non-null datetime64[ns]\n",
      "due_date          54 non-null datetime64[ns]\n",
      "age               54 non-null int64\n",
      "education         54 non-null object\n",
      "Gender            54 non-null object\n",
      "dtypes: datetime64[ns](2), int64(5), object(3)\n",
      "memory usage: 4.3+ KB\n"
     ]
    }
   ],
   "source": [
    "data_test['effective_date'] = pd.to_datetime(data_test['effective_date'])\n",
    "data_test['due_date'] = pd.to_datetime(data_test['due_date'])\n",
    "data_test.info()"
   ]
  },
  {
   "cell_type": "code",
   "execution_count": 149,
   "metadata": {},
   "outputs": [
    {
     "data": {
      "text/html": [
       "<div>\n",
       "<style scoped>\n",
       "    .dataframe tbody tr th:only-of-type {\n",
       "        vertical-align: middle;\n",
       "    }\n",
       "\n",
       "    .dataframe tbody tr th {\n",
       "        vertical-align: top;\n",
       "    }\n",
       "\n",
       "    .dataframe thead th {\n",
       "        text-align: right;\n",
       "    }\n",
       "</style>\n",
       "<table border=\"1\" class=\"dataframe\">\n",
       "  <thead>\n",
       "    <tr style=\"text-align: right;\">\n",
       "      <th></th>\n",
       "      <th>Unnamed: 0</th>\n",
       "      <th>Unnamed: 0.1</th>\n",
       "      <th>loan_status</th>\n",
       "      <th>Principal</th>\n",
       "      <th>terms</th>\n",
       "      <th>effective_date</th>\n",
       "      <th>due_date</th>\n",
       "      <th>age</th>\n",
       "      <th>education</th>\n",
       "      <th>Gender</th>\n",
       "      <th>dayofweek</th>\n",
       "      <th>weekend</th>\n",
       "    </tr>\n",
       "  </thead>\n",
       "  <tbody>\n",
       "    <tr>\n",
       "      <th>0</th>\n",
       "      <td>1</td>\n",
       "      <td>1</td>\n",
       "      <td>PAIDOFF</td>\n",
       "      <td>1000</td>\n",
       "      <td>30</td>\n",
       "      <td>2016-09-08</td>\n",
       "      <td>2016-10-07</td>\n",
       "      <td>50</td>\n",
       "      <td>Bechalor</td>\n",
       "      <td>female</td>\n",
       "      <td>3</td>\n",
       "      <td>0</td>\n",
       "    </tr>\n",
       "    <tr>\n",
       "      <th>1</th>\n",
       "      <td>5</td>\n",
       "      <td>5</td>\n",
       "      <td>PAIDOFF</td>\n",
       "      <td>300</td>\n",
       "      <td>7</td>\n",
       "      <td>2016-09-09</td>\n",
       "      <td>2016-09-15</td>\n",
       "      <td>35</td>\n",
       "      <td>Master or Above</td>\n",
       "      <td>male</td>\n",
       "      <td>4</td>\n",
       "      <td>1</td>\n",
       "    </tr>\n",
       "    <tr>\n",
       "      <th>2</th>\n",
       "      <td>21</td>\n",
       "      <td>21</td>\n",
       "      <td>PAIDOFF</td>\n",
       "      <td>1000</td>\n",
       "      <td>30</td>\n",
       "      <td>2016-09-10</td>\n",
       "      <td>2016-10-09</td>\n",
       "      <td>43</td>\n",
       "      <td>High School or Below</td>\n",
       "      <td>female</td>\n",
       "      <td>5</td>\n",
       "      <td>1</td>\n",
       "    </tr>\n",
       "    <tr>\n",
       "      <th>3</th>\n",
       "      <td>24</td>\n",
       "      <td>24</td>\n",
       "      <td>PAIDOFF</td>\n",
       "      <td>1000</td>\n",
       "      <td>30</td>\n",
       "      <td>2016-09-10</td>\n",
       "      <td>2016-10-09</td>\n",
       "      <td>26</td>\n",
       "      <td>college</td>\n",
       "      <td>male</td>\n",
       "      <td>5</td>\n",
       "      <td>1</td>\n",
       "    </tr>\n",
       "    <tr>\n",
       "      <th>4</th>\n",
       "      <td>35</td>\n",
       "      <td>35</td>\n",
       "      <td>PAIDOFF</td>\n",
       "      <td>800</td>\n",
       "      <td>15</td>\n",
       "      <td>2016-09-11</td>\n",
       "      <td>2016-09-25</td>\n",
       "      <td>29</td>\n",
       "      <td>Bechalor</td>\n",
       "      <td>male</td>\n",
       "      <td>6</td>\n",
       "      <td>1</td>\n",
       "    </tr>\n",
       "  </tbody>\n",
       "</table>\n",
       "</div>"
      ],
      "text/plain": [
       "   Unnamed: 0  Unnamed: 0.1 loan_status  Principal  terms effective_date  \\\n",
       "0           1             1     PAIDOFF       1000     30     2016-09-08   \n",
       "1           5             5     PAIDOFF        300      7     2016-09-09   \n",
       "2          21            21     PAIDOFF       1000     30     2016-09-10   \n",
       "3          24            24     PAIDOFF       1000     30     2016-09-10   \n",
       "4          35            35     PAIDOFF        800     15     2016-09-11   \n",
       "\n",
       "    due_date  age             education  Gender  dayofweek  weekend  \n",
       "0 2016-10-07   50              Bechalor  female          3        0  \n",
       "1 2016-09-15   35       Master or Above    male          4        1  \n",
       "2 2016-10-09   43  High School or Below  female          5        1  \n",
       "3 2016-10-09   26               college    male          5        1  \n",
       "4 2016-09-25   29              Bechalor    male          6        1  "
      ]
     },
     "execution_count": 149,
     "metadata": {},
     "output_type": "execute_result"
    }
   ],
   "source": [
    "data_test['dayofweek'] = data_test['effective_date'].dt.dayofweek\n",
    "data_test['weekend'] = data_test['dayofweek'].apply(lambda x: 1 if (x>3)  else 0)\n",
    "data_test.head()\n"
   ]
  },
  {
   "cell_type": "code",
   "execution_count": 150,
   "metadata": {},
   "outputs": [
    {
     "data": {
      "text/html": [
       "<div>\n",
       "<style scoped>\n",
       "    .dataframe tbody tr th:only-of-type {\n",
       "        vertical-align: middle;\n",
       "    }\n",
       "\n",
       "    .dataframe tbody tr th {\n",
       "        vertical-align: top;\n",
       "    }\n",
       "\n",
       "    .dataframe thead th {\n",
       "        text-align: right;\n",
       "    }\n",
       "</style>\n",
       "<table border=\"1\" class=\"dataframe\">\n",
       "  <thead>\n",
       "    <tr style=\"text-align: right;\">\n",
       "      <th></th>\n",
       "      <th>Unnamed: 0</th>\n",
       "      <th>Unnamed: 0.1</th>\n",
       "      <th>loan_status</th>\n",
       "      <th>Principal</th>\n",
       "      <th>terms</th>\n",
       "      <th>effective_date</th>\n",
       "      <th>due_date</th>\n",
       "      <th>age</th>\n",
       "      <th>education</th>\n",
       "      <th>Gender</th>\n",
       "      <th>dayofweek</th>\n",
       "      <th>weekend</th>\n",
       "    </tr>\n",
       "  </thead>\n",
       "  <tbody>\n",
       "    <tr>\n",
       "      <th>0</th>\n",
       "      <td>1</td>\n",
       "      <td>1</td>\n",
       "      <td>PAIDOFF</td>\n",
       "      <td>1000</td>\n",
       "      <td>30</td>\n",
       "      <td>2016-09-08</td>\n",
       "      <td>2016-10-07</td>\n",
       "      <td>50</td>\n",
       "      <td>Bechalor</td>\n",
       "      <td>1</td>\n",
       "      <td>3</td>\n",
       "      <td>0</td>\n",
       "    </tr>\n",
       "    <tr>\n",
       "      <th>1</th>\n",
       "      <td>5</td>\n",
       "      <td>5</td>\n",
       "      <td>PAIDOFF</td>\n",
       "      <td>300</td>\n",
       "      <td>7</td>\n",
       "      <td>2016-09-09</td>\n",
       "      <td>2016-09-15</td>\n",
       "      <td>35</td>\n",
       "      <td>Master or Above</td>\n",
       "      <td>0</td>\n",
       "      <td>4</td>\n",
       "      <td>1</td>\n",
       "    </tr>\n",
       "    <tr>\n",
       "      <th>2</th>\n",
       "      <td>21</td>\n",
       "      <td>21</td>\n",
       "      <td>PAIDOFF</td>\n",
       "      <td>1000</td>\n",
       "      <td>30</td>\n",
       "      <td>2016-09-10</td>\n",
       "      <td>2016-10-09</td>\n",
       "      <td>43</td>\n",
       "      <td>High School or Below</td>\n",
       "      <td>1</td>\n",
       "      <td>5</td>\n",
       "      <td>1</td>\n",
       "    </tr>\n",
       "    <tr>\n",
       "      <th>3</th>\n",
       "      <td>24</td>\n",
       "      <td>24</td>\n",
       "      <td>PAIDOFF</td>\n",
       "      <td>1000</td>\n",
       "      <td>30</td>\n",
       "      <td>2016-09-10</td>\n",
       "      <td>2016-10-09</td>\n",
       "      <td>26</td>\n",
       "      <td>college</td>\n",
       "      <td>0</td>\n",
       "      <td>5</td>\n",
       "      <td>1</td>\n",
       "    </tr>\n",
       "    <tr>\n",
       "      <th>4</th>\n",
       "      <td>35</td>\n",
       "      <td>35</td>\n",
       "      <td>PAIDOFF</td>\n",
       "      <td>800</td>\n",
       "      <td>15</td>\n",
       "      <td>2016-09-11</td>\n",
       "      <td>2016-09-25</td>\n",
       "      <td>29</td>\n",
       "      <td>Bechalor</td>\n",
       "      <td>0</td>\n",
       "      <td>6</td>\n",
       "      <td>1</td>\n",
       "    </tr>\n",
       "  </tbody>\n",
       "</table>\n",
       "</div>"
      ],
      "text/plain": [
       "   Unnamed: 0  Unnamed: 0.1 loan_status  Principal  terms effective_date  \\\n",
       "0           1             1     PAIDOFF       1000     30     2016-09-08   \n",
       "1           5             5     PAIDOFF        300      7     2016-09-09   \n",
       "2          21            21     PAIDOFF       1000     30     2016-09-10   \n",
       "3          24            24     PAIDOFF       1000     30     2016-09-10   \n",
       "4          35            35     PAIDOFF        800     15     2016-09-11   \n",
       "\n",
       "    due_date  age             education  Gender  dayofweek  weekend  \n",
       "0 2016-10-07   50              Bechalor       1          3        0  \n",
       "1 2016-09-15   35       Master or Above       0          4        1  \n",
       "2 2016-10-09   43  High School or Below       1          5        1  \n",
       "3 2016-10-09   26               college       0          5        1  \n",
       "4 2016-09-25   29              Bechalor       0          6        1  "
      ]
     },
     "execution_count": 150,
     "metadata": {},
     "output_type": "execute_result"
    }
   ],
   "source": [
    "data_test['Gender'].replace(to_replace=['male','female'], value=[0,1],inplace=True)\n",
    "data_test.head()"
   ]
  },
  {
   "cell_type": "code",
   "execution_count": 151,
   "metadata": {},
   "outputs": [
    {
     "data": {
      "text/html": [
       "<div>\n",
       "<style scoped>\n",
       "    .dataframe tbody tr th:only-of-type {\n",
       "        vertical-align: middle;\n",
       "    }\n",
       "\n",
       "    .dataframe tbody tr th {\n",
       "        vertical-align: top;\n",
       "    }\n",
       "\n",
       "    .dataframe thead th {\n",
       "        text-align: right;\n",
       "    }\n",
       "</style>\n",
       "<table border=\"1\" class=\"dataframe\">\n",
       "  <thead>\n",
       "    <tr style=\"text-align: right;\">\n",
       "      <th></th>\n",
       "      <th>Principal</th>\n",
       "      <th>terms</th>\n",
       "      <th>age</th>\n",
       "      <th>Gender</th>\n",
       "      <th>education</th>\n",
       "      <th>weekend</th>\n",
       "    </tr>\n",
       "  </thead>\n",
       "  <tbody>\n",
       "    <tr>\n",
       "      <th>0</th>\n",
       "      <td>1000</td>\n",
       "      <td>30</td>\n",
       "      <td>50</td>\n",
       "      <td>1</td>\n",
       "      <td>Bechalor</td>\n",
       "      <td>0</td>\n",
       "    </tr>\n",
       "    <tr>\n",
       "      <th>1</th>\n",
       "      <td>300</td>\n",
       "      <td>7</td>\n",
       "      <td>35</td>\n",
       "      <td>0</td>\n",
       "      <td>Master or Above</td>\n",
       "      <td>1</td>\n",
       "    </tr>\n",
       "    <tr>\n",
       "      <th>2</th>\n",
       "      <td>1000</td>\n",
       "      <td>30</td>\n",
       "      <td>43</td>\n",
       "      <td>1</td>\n",
       "      <td>High School or Below</td>\n",
       "      <td>1</td>\n",
       "    </tr>\n",
       "    <tr>\n",
       "      <th>3</th>\n",
       "      <td>1000</td>\n",
       "      <td>30</td>\n",
       "      <td>26</td>\n",
       "      <td>0</td>\n",
       "      <td>college</td>\n",
       "      <td>1</td>\n",
       "    </tr>\n",
       "    <tr>\n",
       "      <th>4</th>\n",
       "      <td>800</td>\n",
       "      <td>15</td>\n",
       "      <td>29</td>\n",
       "      <td>0</td>\n",
       "      <td>Bechalor</td>\n",
       "      <td>1</td>\n",
       "    </tr>\n",
       "  </tbody>\n",
       "</table>\n",
       "</div>"
      ],
      "text/plain": [
       "   Principal  terms  age  Gender             education  weekend\n",
       "0       1000     30   50       1              Bechalor        0\n",
       "1        300      7   35       0       Master or Above        1\n",
       "2       1000     30   43       1  High School or Below        1\n",
       "3       1000     30   26       0               college        1\n",
       "4        800     15   29       0              Bechalor        1"
      ]
     },
     "execution_count": 151,
     "metadata": {},
     "output_type": "execute_result"
    }
   ],
   "source": [
    "# Model Evaluation\n",
    "data_test[['Principal','terms','age','Gender','education','weekend']].head()"
   ]
  },
  {
   "cell_type": "code",
   "execution_count": 152,
   "metadata": {},
   "outputs": [
    {
     "data": {
      "text/html": [
       "<div>\n",
       "<style scoped>\n",
       "    .dataframe tbody tr th:only-of-type {\n",
       "        vertical-align: middle;\n",
       "    }\n",
       "\n",
       "    .dataframe tbody tr th {\n",
       "        vertical-align: top;\n",
       "    }\n",
       "\n",
       "    .dataframe thead th {\n",
       "        text-align: right;\n",
       "    }\n",
       "</style>\n",
       "<table border=\"1\" class=\"dataframe\">\n",
       "  <thead>\n",
       "    <tr style=\"text-align: right;\">\n",
       "      <th></th>\n",
       "      <th>Principal</th>\n",
       "      <th>terms</th>\n",
       "      <th>age</th>\n",
       "      <th>Gender</th>\n",
       "      <th>weekend</th>\n",
       "      <th>Bechalor</th>\n",
       "      <th>High School or Below</th>\n",
       "      <th>college</th>\n",
       "    </tr>\n",
       "  </thead>\n",
       "  <tbody>\n",
       "    <tr>\n",
       "      <th>0</th>\n",
       "      <td>1000</td>\n",
       "      <td>30</td>\n",
       "      <td>50</td>\n",
       "      <td>1</td>\n",
       "      <td>0</td>\n",
       "      <td>1</td>\n",
       "      <td>0</td>\n",
       "      <td>0</td>\n",
       "    </tr>\n",
       "    <tr>\n",
       "      <th>1</th>\n",
       "      <td>300</td>\n",
       "      <td>7</td>\n",
       "      <td>35</td>\n",
       "      <td>0</td>\n",
       "      <td>1</td>\n",
       "      <td>0</td>\n",
       "      <td>0</td>\n",
       "      <td>0</td>\n",
       "    </tr>\n",
       "    <tr>\n",
       "      <th>2</th>\n",
       "      <td>1000</td>\n",
       "      <td>30</td>\n",
       "      <td>43</td>\n",
       "      <td>1</td>\n",
       "      <td>1</td>\n",
       "      <td>0</td>\n",
       "      <td>1</td>\n",
       "      <td>0</td>\n",
       "    </tr>\n",
       "    <tr>\n",
       "      <th>3</th>\n",
       "      <td>1000</td>\n",
       "      <td>30</td>\n",
       "      <td>26</td>\n",
       "      <td>0</td>\n",
       "      <td>1</td>\n",
       "      <td>0</td>\n",
       "      <td>0</td>\n",
       "      <td>1</td>\n",
       "    </tr>\n",
       "    <tr>\n",
       "      <th>4</th>\n",
       "      <td>800</td>\n",
       "      <td>15</td>\n",
       "      <td>29</td>\n",
       "      <td>0</td>\n",
       "      <td>1</td>\n",
       "      <td>1</td>\n",
       "      <td>0</td>\n",
       "      <td>0</td>\n",
       "    </tr>\n",
       "  </tbody>\n",
       "</table>\n",
       "</div>"
      ],
      "text/plain": [
       "   Principal  terms  age  Gender  weekend  Bechalor  High School or Below  \\\n",
       "0       1000     30   50       1        0         1                     0   \n",
       "1        300      7   35       0        1         0                     0   \n",
       "2       1000     30   43       1        1         0                     1   \n",
       "3       1000     30   26       0        1         0                     0   \n",
       "4        800     15   29       0        1         1                     0   \n",
       "\n",
       "   college  \n",
       "0        0  \n",
       "1        0  \n",
       "2        0  \n",
       "3        1  \n",
       "4        0  "
      ]
     },
     "execution_count": 152,
     "metadata": {},
     "output_type": "execute_result"
    }
   ],
   "source": [
    "Feature_test = data_test[['Principal','terms','age','Gender','weekend']]\n",
    "Feature_test = pd.concat([Feature_test,pd.get_dummies(data_test['education'])], axis=1)\n",
    "Feature_test.drop(['Master or Above'], axis = 1,inplace=True)\n",
    "Feature_test.head()"
   ]
  },
  {
   "cell_type": "code",
   "execution_count": 153,
   "metadata": {},
   "outputs": [
    {
     "data": {
      "text/html": [
       "<div>\n",
       "<style scoped>\n",
       "    .dataframe tbody tr th:only-of-type {\n",
       "        vertical-align: middle;\n",
       "    }\n",
       "\n",
       "    .dataframe tbody tr th {\n",
       "        vertical-align: top;\n",
       "    }\n",
       "\n",
       "    .dataframe thead th {\n",
       "        text-align: right;\n",
       "    }\n",
       "</style>\n",
       "<table border=\"1\" class=\"dataframe\">\n",
       "  <thead>\n",
       "    <tr style=\"text-align: right;\">\n",
       "      <th></th>\n",
       "      <th>Principal</th>\n",
       "      <th>terms</th>\n",
       "      <th>age</th>\n",
       "      <th>Gender</th>\n",
       "      <th>weekend</th>\n",
       "      <th>Bechalor</th>\n",
       "      <th>High School or Below</th>\n",
       "      <th>college</th>\n",
       "    </tr>\n",
       "  </thead>\n",
       "  <tbody>\n",
       "    <tr>\n",
       "      <th>0</th>\n",
       "      <td>1000</td>\n",
       "      <td>30</td>\n",
       "      <td>50</td>\n",
       "      <td>1</td>\n",
       "      <td>0</td>\n",
       "      <td>1</td>\n",
       "      <td>0</td>\n",
       "      <td>0</td>\n",
       "    </tr>\n",
       "    <tr>\n",
       "      <th>1</th>\n",
       "      <td>300</td>\n",
       "      <td>7</td>\n",
       "      <td>35</td>\n",
       "      <td>0</td>\n",
       "      <td>1</td>\n",
       "      <td>0</td>\n",
       "      <td>0</td>\n",
       "      <td>0</td>\n",
       "    </tr>\n",
       "    <tr>\n",
       "      <th>2</th>\n",
       "      <td>1000</td>\n",
       "      <td>30</td>\n",
       "      <td>43</td>\n",
       "      <td>1</td>\n",
       "      <td>1</td>\n",
       "      <td>0</td>\n",
       "      <td>1</td>\n",
       "      <td>0</td>\n",
       "    </tr>\n",
       "    <tr>\n",
       "      <th>3</th>\n",
       "      <td>1000</td>\n",
       "      <td>30</td>\n",
       "      <td>26</td>\n",
       "      <td>0</td>\n",
       "      <td>1</td>\n",
       "      <td>0</td>\n",
       "      <td>0</td>\n",
       "      <td>1</td>\n",
       "    </tr>\n",
       "    <tr>\n",
       "      <th>4</th>\n",
       "      <td>800</td>\n",
       "      <td>15</td>\n",
       "      <td>29</td>\n",
       "      <td>0</td>\n",
       "      <td>1</td>\n",
       "      <td>1</td>\n",
       "      <td>0</td>\n",
       "      <td>0</td>\n",
       "    </tr>\n",
       "  </tbody>\n",
       "</table>\n",
       "</div>"
      ],
      "text/plain": [
       "   Principal  terms  age  Gender  weekend  Bechalor  High School or Below  \\\n",
       "0       1000     30   50       1        0         1                     0   \n",
       "1        300      7   35       0        1         0                     0   \n",
       "2       1000     30   43       1        1         0                     1   \n",
       "3       1000     30   26       0        1         0                     0   \n",
       "4        800     15   29       0        1         1                     0   \n",
       "\n",
       "   college  \n",
       "0        0  \n",
       "1        0  \n",
       "2        0  \n",
       "3        1  \n",
       "4        0  "
      ]
     },
     "execution_count": 153,
     "metadata": {},
     "output_type": "execute_result"
    }
   ],
   "source": [
    "X_test = Feature_test\n",
    "X_test[0:5]"
   ]
  },
  {
   "cell_type": "code",
   "execution_count": 155,
   "metadata": {},
   "outputs": [
    {
     "data": {
      "text/plain": [
       "array(['PAIDOFF', 'PAIDOFF', 'PAIDOFF', 'PAIDOFF', 'PAIDOFF'],\n",
       "      dtype=object)"
      ]
     },
     "execution_count": 155,
     "metadata": {},
     "output_type": "execute_result"
    }
   ],
   "source": [
    "y_test = data_test['loan_status'].values\n",
    "y_test[0:5]"
   ]
  },
  {
   "cell_type": "code",
   "execution_count": 156,
   "metadata": {},
   "outputs": [],
   "source": [
    "yhat_train = LR.predict(X)"
   ]
  },
  {
   "cell_type": "code",
   "execution_count": 157,
   "metadata": {},
   "outputs": [
    {
     "data": {
      "text/plain": [
       "array(['COLLECTION', 'COLLECTION', 'COLLECTION', 'COLLECTION',\n",
       "       'COLLECTION', 'COLLECTION', 'COLLECTION', 'COLLECTION',\n",
       "       'COLLECTION', 'COLLECTION', 'COLLECTION', 'COLLECTION',\n",
       "       'COLLECTION', 'COLLECTION', 'COLLECTION', 'COLLECTION',\n",
       "       'COLLECTION', 'COLLECTION', 'COLLECTION', 'COLLECTION',\n",
       "       'COLLECTION', 'COLLECTION', 'COLLECTION', 'COLLECTION',\n",
       "       'COLLECTION', 'COLLECTION', 'COLLECTION', 'COLLECTION',\n",
       "       'COLLECTION', 'COLLECTION', 'COLLECTION', 'COLLECTION',\n",
       "       'COLLECTION', 'COLLECTION', 'COLLECTION', 'COLLECTION',\n",
       "       'COLLECTION', 'COLLECTION', 'COLLECTION', 'COLLECTION',\n",
       "       'COLLECTION', 'COLLECTION', 'COLLECTION', 'COLLECTION',\n",
       "       'COLLECTION', 'COLLECTION', 'COLLECTION', 'COLLECTION',\n",
       "       'COLLECTION', 'COLLECTION', 'COLLECTION', 'COLLECTION',\n",
       "       'COLLECTION', 'COLLECTION'], dtype=object)"
      ]
     },
     "execution_count": 157,
     "metadata": {},
     "output_type": "execute_result"
    }
   ],
   "source": [
    "yhat_test = LR.predict(X_test)\n",
    "yhat_test"
   ]
  },
  {
   "cell_type": "code",
   "execution_count": 158,
   "metadata": {},
   "outputs": [
    {
     "data": {
      "text/plain": [
       "array([[1.00000000e+00, 5.15875747e-16],\n",
       "       [9.99956553e-01, 4.34465681e-05],\n",
       "       [1.00000000e+00, 3.04900786e-16],\n",
       "       [1.00000000e+00, 2.01221347e-16],\n",
       "       [1.00000000e+00, 5.76536217e-13],\n",
       "       [1.00000000e+00, 2.06447149e-11],\n",
       "       [1.00000000e+00, 4.79976254e-16],\n",
       "       [1.00000000e+00, 2.23811756e-16],\n",
       "       [1.00000000e+00, 6.13299331e-13],\n",
       "       [1.00000000e+00, 6.39286219e-16],\n",
       "       [1.00000000e+00, 5.09503250e-13],\n",
       "       [9.99955485e-01, 4.45146194e-05],\n",
       "       [1.00000000e+00, 2.18931296e-16],\n",
       "       [1.00000000e+00, 2.77813988e-16],\n",
       "       [1.00000000e+00, 2.67121147e-16],\n",
       "       [1.00000000e+00, 2.34800690e-16],\n",
       "       [1.00000000e+00, 7.85013689e-13],\n",
       "       [1.00000000e+00, 9.83794368e-16],\n",
       "       [1.00000000e+00, 4.82307488e-16],\n",
       "       [1.00000000e+00, 8.38726239e-16],\n",
       "       [1.00000000e+00, 2.19772948e-16],\n",
       "       [1.00000000e+00, 8.02546378e-16],\n",
       "       [9.99935039e-01, 6.49610542e-05],\n",
       "       [1.00000000e+00, 7.66746531e-16],\n",
       "       [1.00000000e+00, 6.99334983e-16],\n",
       "       [1.00000000e+00, 3.32165121e-13],\n",
       "       [1.00000000e+00, 3.75086503e-16],\n",
       "       [1.00000000e+00, 4.47436903e-16],\n",
       "       [1.00000000e+00, 3.27351835e-16],\n",
       "       [1.00000000e+00, 3.07578538e-16],\n",
       "       [1.00000000e+00, 3.07578538e-16],\n",
       "       [1.00000000e+00, 8.60263111e-16],\n",
       "       [1.00000000e+00, 3.07578538e-16],\n",
       "       [1.00000000e+00, 3.14435139e-16],\n",
       "       [1.00000000e+00, 8.60263111e-16],\n",
       "       [1.00000000e+00, 3.07578538e-16],\n",
       "       [1.00000000e+00, 2.89291148e-16],\n",
       "       [1.00000000e+00, 7.41608317e-13],\n",
       "       [1.00000000e+00, 3.90697073e-16],\n",
       "       [1.00000000e+00, 3.40632147e-16],\n",
       "       [1.00000000e+00, 2.25763397e-16],\n",
       "       [1.00000000e+00, 5.83383028e-16],\n",
       "       [1.00000000e+00, 7.70847679e-13],\n",
       "       [1.00000000e+00, 2.19772948e-16],\n",
       "       [1.00000000e+00, 5.76835005e-13],\n",
       "       [1.00000000e+00, 1.69503215e-16],\n",
       "       [1.00000000e+00, 4.82307488e-16],\n",
       "       [1.00000000e+00, 2.00554624e-16],\n",
       "       [1.00000000e+00, 5.66132299e-13],\n",
       "       [1.00000000e+00, 2.20840380e-16],\n",
       "       [1.00000000e+00, 5.91654298e-13],\n",
       "       [1.00000000e+00, 2.46577652e-16],\n",
       "       [1.00000000e+00, 6.63815676e-13],\n",
       "       [1.00000000e+00, 3.23005838e-16]])"
      ]
     },
     "execution_count": 158,
     "metadata": {},
     "output_type": "execute_result"
    }
   ],
   "source": [
    "yhat_prob = LR.predict_proba(X_test)\n",
    "yhat_prob"
   ]
  },
  {
   "cell_type": "code",
   "execution_count": 159,
   "metadata": {},
   "outputs": [
    {
     "name": "stdout",
     "output_type": "stream",
     "text": [
      "Train accurary is  74.85549132947978 %\n",
      "Train accurary is  25.925925925925924 %\n"
     ]
    }
   ],
   "source": [
    "from sklearn.metrics import accuracy_score\n",
    "print(\"Train accurary is \", accuracy_score(y, yhat_train)*100,\"%\")\n",
    "print(\"Train accurary is \", accuracy_score(y_test, yhat_test)*100,\"%\")"
   ]
  },
  {
   "cell_type": "code",
   "execution_count": 160,
   "metadata": {},
   "outputs": [
    {
     "name": "stdout",
     "output_type": "stream",
     "text": [
      "Confusion matrix:\n",
      " [[14  0]\n",
      " [40  0]]\n"
     ]
    }
   ],
   "source": [
    "conf_mat = confusion_matrix(y_true=y_test,y_pred=yhat_test)\n",
    "print('Confusion matrix:\\n',conf_mat)"
   ]
  },
  {
   "cell_type": "code",
   "execution_count": 161,
   "metadata": {},
   "outputs": [
    {
     "name": "stdout",
     "output_type": "stream",
     "text": [
      "              precision    recall  f1-score   support\n",
      "\n",
      "  COLLECTION       0.26      1.00      0.41        14\n",
      "     PAIDOFF       0.00      0.00      0.00        40\n",
      "\n",
      "   micro avg       0.26      0.26      0.26        54\n",
      "   macro avg       0.13      0.50      0.21        54\n",
      "weighted avg       0.07      0.26      0.11        54\n",
      "\n"
     ]
    },
    {
     "name": "stderr",
     "output_type": "stream",
     "text": [
      "C:\\Users\\DELL\\Anaconda3\\lib\\site-packages\\sklearn\\metrics\\classification.py:1143: UndefinedMetricWarning: Precision and F-score are ill-defined and being set to 0.0 in labels with no predicted samples.\n",
      "  'precision', 'predicted', average, warn_for)\n",
      "C:\\Users\\DELL\\Anaconda3\\lib\\site-packages\\sklearn\\metrics\\classification.py:1143: UndefinedMetricWarning: Precision and F-score are ill-defined and being set to 0.0 in labels with no predicted samples.\n",
      "  'precision', 'predicted', average, warn_for)\n",
      "C:\\Users\\DELL\\Anaconda3\\lib\\site-packages\\sklearn\\metrics\\classification.py:1143: UndefinedMetricWarning: Precision and F-score are ill-defined and being set to 0.0 in labels with no predicted samples.\n",
      "  'precision', 'predicted', average, warn_for)\n"
     ]
    }
   ],
   "source": [
    "from sklearn.metrics import classification_report\n",
    "print(classification_report(y_test,yhat_test))"
   ]
  },
  {
   "cell_type": "markdown",
   "metadata": {},
   "source": [
    "# Report\n",
    "You should be able to report the accuracy of the built model using different evaluation metrics:"
   ]
  },
  {
   "cell_type": "markdown",
   "metadata": {},
   "source": [
    "| Algorithm          | Accuracy Score | F1-score |\n",
    "|--------------------|---------|----------|\n",
    "| LogisticRegression | ?       | ?        |"
   ]
  },
  {
   "cell_type": "markdown",
   "metadata": {
    "button": false,
    "new_sheet": false,
    "run_control": {
     "read_only": false
    }
   },
   "source": [
    "<h3>Thanks for completing this project!</h3>\n",
    "\n",
    "<h4>Author:  <a href=\"https://ca.linkedin.com/in/saeedaghabozorgi\">Saeed Aghabozorgi</a></h4>\n",
    "<p><a href=\"https://ca.linkedin.com/in/saeedaghabozorgi\">Saeed Aghabozorgi</a>, PhD is a Data Scientist in IBM with a track record of developing enterprise level applications that substantially increases clients’ ability to turn data into actionable knowledge. He is a researcher in data mining field and expert in developing advanced analytic methods like machine learning and statistical modelling on large datasets.</p>\n",
    "<hr>\n",
    "<p>Copyright &copy; 2018 <a href=\"https://cocl.us/DX0108EN_CC\">Cognitive Class</a>. This notebook and its source code are released under the terms of the <a href=\"https://bigdatauniversity.com/mit-license/\">MIT License</a>.</p>"
   ]
  },
  {
   "cell_type": "code",
   "execution_count": null,
   "metadata": {},
   "outputs": [],
   "source": []
  }
 ],
 "metadata": {
  "kernelspec": {
   "display_name": "Python 3",
   "language": "python",
   "name": "python3"
  },
  "language_info": {
   "codemirror_mode": {
    "name": "ipython",
    "version": 3
   },
   "file_extension": ".py",
   "mimetype": "text/x-python",
   "name": "python",
   "nbconvert_exporter": "python",
   "pygments_lexer": "ipython3",
   "version": "3.7.3"
  }
 },
 "nbformat": 4,
 "nbformat_minor": 2
}
